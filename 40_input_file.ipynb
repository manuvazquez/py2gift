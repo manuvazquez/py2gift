{
 "cells": [
  {
   "cell_type": "code",
   "execution_count": null,
   "metadata": {},
   "outputs": [],
   "source": [
    "# default_exp input_file"
   ]
  },
  {
   "cell_type": "markdown",
   "metadata": {},
   "source": [
    "# Input file\n",
    "\n",
    "> Convenience functions/classes to construct the input file required by py2gift."
   ]
  },
  {
   "cell_type": "code",
   "execution_count": null,
   "metadata": {},
   "outputs": [],
   "source": [
    "# export\n",
    "\n",
    "import sys\n",
    "import pathlib\n",
    "import pprint\n",
    "import inspect\n",
    "from typing import Union, Optional, Callable, List\n",
    "\n",
    "# to avoid tqdm's experimental warning\n",
    "import warnings\n",
    "warnings.filterwarnings(\"ignore\", message='Using `tqdm.autonotebook.tqdm` in notebook mode')\n",
    "\n",
    "import py2gift.util\n",
    "\n",
    "import yaml"
   ]
  },
  {
   "cell_type": "code",
   "execution_count": null,
   "metadata": {},
   "outputs": [],
   "source": [
    "test_file = '_input_.yaml'"
   ]
  },
  {
   "cell_type": "markdown",
   "metadata": {},
   "source": [
    "## Finding the appropriate settings in the file"
   ]
  },
  {
   "cell_type": "markdown",
   "metadata": {},
   "source": [
    "A convenience function to extract the settings of a given class within a certain category. If there are duplicated categories and/or classes, the one that is found first is returned."
   ]
  },
  {
   "cell_type": "code",
   "execution_count": null,
   "metadata": {},
   "outputs": [],
   "source": [
    "# export\n",
    "def extract_class_settings(category_name: Union[str, list], class_name: str, settings: dict):\n",
    "    \n",
    "    category_found = False\n",
    "    \n",
    "    for cat in settings['categories']:\n",
    "        \n",
    "        if cat['name'] == category_name:\n",
    "            \n",
    "            category_found = True\n",
    "            \n",
    "            for cls in cat['classes']:\n",
    "                \n",
    "                if cls['name'] == class_name:\n",
    "                    \n",
    "                    return cls\n",
    "    \n",
    "    else:\n",
    "        \n",
    "        if category_found:\n",
    "            \n",
    "            print(f'cannot find the requested class, {class_name}')\n",
    "            sys.exit(1)\n",
    "        \n",
    "        else:\n",
    "            \n",
    "            print(f'cannot find the requested category, {category_name}')\n",
    "            sys.exit(1)"
   ]
  },
  {
   "cell_type": "code",
   "execution_count": null,
   "metadata": {},
   "outputs": [],
   "source": [
    "%%writefile {test_file}\n",
    "\n",
    "output file: third_midterm.yaml\n",
    "pictures base directory: tc/midterm3\n",
    "path to gift-wrapper: '~/gift-wrapper/wrap.py'\n",
    "\n",
    "categories:\n",
    "\n",
    "  - name: Entropy of the input given the output\n",
    "\n",
    "    classes:\n",
    "\n",
    "      - name: EntropyOfInputGivenOutput\n",
    "\n",
    "        question base name: Entropy of input given the output\n",
    "        \n",
    "        init parameters:\n",
    "            \n",
    "            picture_file: DMCs/entropy_at_input_given_output.tex\n",
    "\n",
    "        statement: |\n",
    "          Consider...\n",
    "          \n",
    "\n",
    "        feedback: |\n",
    "          One way of tackling the problem is...\n",
    "          \n",
    "\n",
    "        number of instances: 2\n"
   ]
  },
  {
   "cell_type": "code",
   "execution_count": null,
   "metadata": {},
   "outputs": [],
   "source": [
    "with open(test_file) as yaml_data:\n",
    "\n",
    "    settings = yaml.load(yaml_data, Loader=yaml.FullLoader)\n",
    "\n",
    "extract_class_settings('Entropy of the input given the output', 'EntropyOfInputGivenOutput', settings)"
   ]
  },
  {
   "cell_type": "markdown",
   "metadata": {},
   "source": [
    "## Managing the settings with an *ad-hoc* object"
   ]
  },
  {
   "cell_type": "markdown",
   "metadata": {},
   "source": [
    "A class to manage (*in memory*) all the settings required to build the questions."
   ]
  },
  {
   "cell_type": "code",
   "execution_count": null,
   "metadata": {},
   "outputs": [],
   "source": [
    "# export\n",
    "class Settings:\n",
    "    \n",
    "    def __init__(self, output_file: str = 'quiz.yaml', pictures_directory: str = 'quiz/pics', test_mode: bool = False) -> None:\n",
    "        \n",
    "        self.test_mode = test_mode\n",
    "        \n",
    "        self.store = {}\n",
    "        \n",
    "        self.store['output file'] = output_file\n",
    "        self.store['pictures base directory'] = pictures_directory\n",
    "        self.store['categories'] = None\n",
    "        \n",
    "        self._classes = set()\n",
    "    \n",
    "    def to_dict(self) -> dict:\n",
    "        \n",
    "        return self.store\n",
    "    \n",
    "    def __repr__(self) -> str:\n",
    "        \n",
    "        return pprint.pformat(self.store)\n",
    "    \n",
    "    @property\n",
    "    def fake_module(self) -> 'ClassesContainer':\n",
    "    \n",
    "        # [0] is the caller of the method (`stack`)\n",
    "        caller_globals = inspect.stack()[1].frame.f_globals\n",
    "        \n",
    "        class ClassesContainer:\n",
    "            \n",
    "            pass\n",
    "        \n",
    "        class_container = ClassesContainer()\n",
    "        \n",
    "        for c in self._classes:\n",
    "            \n",
    "            assert c in caller_globals, f'class \"{c}\" was not defined'\n",
    "            \n",
    "            setattr(class_container, c, caller_globals[c])\n",
    "        \n",
    "        return class_container\n",
    "\n",
    "        \n",
    "    def add_category(self, category_name: str, base_category: Optional[str] = None) -> Union[str, List[str]]:\n",
    "        \"\"\"\n",
    "        Adds a category if it doesn't exist.\n",
    "        \n",
    "        Parameters\n",
    "        ----------\n",
    "        category_name: str\n",
    "            The name of the category to be added.\n",
    "        base_category: str, optional\n",
    "            Parent of the category\n",
    "            \n",
    "        Returns\n",
    "        -------\n",
    "        out: str or list of str\n",
    "            The category *actually* added.\n",
    "        \n",
    "        \"\"\"\n",
    "        \n",
    "        assert type(category_name) == str\n",
    "\n",
    "        if self.test_mode:\n",
    "\n",
    "            category_name = 'test'\n",
    "\n",
    "        else:\n",
    "\n",
    "            if base_category:\n",
    "\n",
    "                category_name = [base_category, f'{base_category}/{category_name}']\n",
    "\n",
    "\n",
    "        if self.store['categories'] is None:\n",
    "\n",
    "            self.store['categories'] = []\n",
    "        \n",
    "        # only if the category doesn't exist...\n",
    "        if self.locate(category_name=category_name) is None:\n",
    "\n",
    "            # ...is it added\n",
    "            self.store['categories'].append({'name': category_name, 'classes': None})\n",
    "\n",
    "        return category_name\n",
    "    \n",
    "    def locate(self, category_name: Union[str, list], class_name: Optional[str] = None) -> dict:\n",
    "        \"\"\"\n",
    "        Returns the requested category or class (inside a category) or `None` if it can't be found.\n",
    "        \n",
    "        Parameters\n",
    "        ----------\n",
    "        category_name: str\n",
    "            The name of the category.\n",
    "        class_name: str, optional\n",
    "            The name of the class.\n",
    "            \n",
    "        Returns\n",
    "        -------\n",
    "        out: dict\n",
    "            The dictionary for the category or class.\n",
    "        \n",
    "        \"\"\"\n",
    "        \n",
    "        for cat in self.store['categories']:\n",
    "            \n",
    "            if cat['name'] == category_name:\n",
    "                \n",
    "                # if no particular class was requested...\n",
    "                if class_name is None:\n",
    "                    \n",
    "                    return cat\n",
    "                \n",
    "                # if a particular class was requested...\n",
    "                else:\n",
    "                \n",
    "                    # the found category is saved for use below\n",
    "                    category_settings = cat\n",
    "                \n",
    "                    # this is the only way out of the loop without return\n",
    "                    break\n",
    "        \n",
    "        else:\n",
    "            \n",
    "            return None\n",
    "        \n",
    "            \n",
    "        # at this point the category has been found and `class_name` is not `Ǹone`\n",
    "        \n",
    "        # if the category doesn't have any class...\n",
    "        if category_settings['classes'] is None:\n",
    "            \n",
    "            return None\n",
    "        \n",
    "        for cls in category_settings['classes']:\n",
    "\n",
    "            if cls['name'] == class_name:\n",
    "\n",
    "                return cls\n",
    "\n",
    "        else:\n",
    "\n",
    "            return None\n",
    "        \n",
    "    def add_or_update_class(\n",
    "        self, category_name: Union[str, list], class_name: str, question_base_name: str,\n",
    "        init_parameters: Optional[dict] = None, parameters: Optional[List[dict]] = None,\n",
    "        n_instances: Optional[int] = None, time: Optional[int]=None) -> None:\n",
    "\n",
    "        d = {'name': class_name, 'question base name': question_base_name}\n",
    "\n",
    "        if init_parameters:\n",
    "\n",
    "            d['init parameters'] = init_parameters\n",
    "            \n",
    "        assert (parameters is not None) ^ (n_instances is not None)\n",
    "\n",
    "        if parameters:\n",
    "\n",
    "            d['parameters'] = parameters\n",
    "\n",
    "        else:\n",
    "\n",
    "            d['number of instances'] = n_instances\n",
    "\n",
    "        if time:\n",
    "\n",
    "            d['time'] = time\n",
    "        \n",
    "        class_settings = self.locate(category_name, class_name)\n",
    "        \n",
    "        if class_settings is None:\n",
    "            \n",
    "            category_settings = self.locate(category_name)\n",
    "            \n",
    "            assert category_settings is not None, f'category \"{category_name}\" not found'\n",
    "            \n",
    "            if category_settings['classes'] is None:\n",
    "                \n",
    "                category_settings['classes'] = []\n",
    "            \n",
    "            category_settings['classes'].append(d)\n",
    "        \n",
    "        else:\n",
    "            \n",
    "            class_settings.update(d)\n",
    "        \n",
    "        self._classes.add(class_name)"
   ]
  },
  {
   "cell_type": "markdown",
   "metadata": {},
   "source": [
    "The object right after initialization:"
   ]
  },
  {
   "cell_type": "code",
   "execution_count": null,
   "metadata": {},
   "outputs": [],
   "source": [
    "settings = Settings()\n",
    "settings"
   ]
  },
  {
   "cell_type": "markdown",
   "metadata": {},
   "source": [
    "A *scalar* category is added (it doesn't have any class yet)"
   ]
  },
  {
   "cell_type": "code",
   "execution_count": null,
   "metadata": {},
   "outputs": [],
   "source": [
    "settings.add_category('My category')\n",
    "settings"
   ]
  },
  {
   "cell_type": "markdown",
   "metadata": {},
   "source": [
    "If `test_mode` is set to `True` when instantiating the class,"
   ]
  },
  {
   "cell_type": "code",
   "execution_count": null,
   "metadata": {},
   "outputs": [],
   "source": [
    "settings = Settings(test_mode=True)"
   ]
  },
  {
   "cell_type": "markdown",
   "metadata": {},
   "source": [
    "then the passed category name is ignored and *test* is used"
   ]
  },
  {
   "cell_type": "code",
   "execution_count": null,
   "metadata": {},
   "outputs": [],
   "source": [
    "category_name = settings.add_category('My category')\n",
    "settings"
   ]
  },
  {
   "cell_type": "markdown",
   "metadata": {},
   "source": [
    "In such case, it is important to retrieve the value returned by `add_category`, since that is the *actual* category name added."
   ]
  },
  {
   "cell_type": "code",
   "execution_count": null,
   "metadata": {},
   "outputs": [],
   "source": [
    "settings.add_or_update_class(\n",
    "    category_name=category_name, class_name='MeanLinearCombinationCosineAndUniform', question_base_name='Mean of a random process',\n",
    "    init_parameters=dict(\n",
    "        uniform_low_range=[2, 8], uniform_high_range=[12, 30], mean_range=[-5, 5],\n",
    "        variance_range=[1, 10], cosine_frequency_over_pi=[1, 2, 3], t_range=[0, 30]\n",
    "    ),\n",
    "    n_instances=2, time=4\n",
    ")\n",
    "settings"
   ]
  },
  {
   "cell_type": "code",
   "execution_count": null,
   "metadata": {},
   "outputs": [],
   "source": [
    "settings = Settings()\n",
    "settings.add_category('My category')\n",
    "settings.add_or_update_class(category_name='My category',class_name='A', question_base_name='question for class #1', n_instances=2, time=4)\n",
    "settings.add_or_update_class(category_name='My category',class_name='B', question_base_name='question for class #2', n_instances=2, time=10)\n",
    "settings.add_category(category_name='My category #1',base_category='Parent')\n",
    "settings.add_or_update_class(\n",
    "    category_name=['Parent', 'Parent/My category #1'],class_name='C', question_base_name='question for class #2', n_instances=2, time=10)"
   ]
  },
  {
   "cell_type": "code",
   "execution_count": null,
   "metadata": {},
   "outputs": [],
   "source": [
    "settings"
   ]
  },
  {
   "cell_type": "code",
   "execution_count": null,
   "metadata": {},
   "outputs": [],
   "source": [
    "settings.locate('My category', 'B')"
   ]
  },
  {
   "cell_type": "code",
   "execution_count": null,
   "metadata": {},
   "outputs": [],
   "source": [
    "settings.locate(category_name=['Parent', 'Parent/My category #1'])"
   ]
  },
  {
   "cell_type": "markdown",
   "metadata": {},
   "source": [
    "If the classes do exist"
   ]
  },
  {
   "cell_type": "code",
   "execution_count": null,
   "metadata": {},
   "outputs": [],
   "source": [
    "class A:\n",
    "    \n",
    "    name = 'A'\n",
    "\n",
    "class B:\n",
    "    \n",
    "    name = 'B'\n",
    "\n",
    "class C:\n",
    "    \n",
    "    name = 'C'"
   ]
  },
  {
   "cell_type": "code",
   "execution_count": null,
   "metadata": {},
   "outputs": [],
   "source": [
    "classes_container = settings.fake_module\n",
    "print(classes_container.A.name)\n",
    "print(classes_container.B.name)"
   ]
  },
  {
   "cell_type": "markdown",
   "metadata": {},
   "source": [
    "## Composing a dictionary with the *YAML* settings"
   ]
  },
  {
   "cell_type": "code",
   "execution_count": null,
   "metadata": {},
   "outputs": [],
   "source": [
    "# export\n",
    "def initialize(output_file: str, pictures_directory: str, ) -> dict:\n",
    "    \n",
    "    settings = {}\n",
    "    \n",
    "    settings['output file'] = output_file\n",
    "    settings['pictures base directory'] = pictures_directory\n",
    "    settings['categories'] = None\n",
    "    \n",
    "    return settings"
   ]
  },
  {
   "cell_type": "code",
   "execution_count": null,
   "metadata": {},
   "outputs": [],
   "source": [
    "settings_dict = initialize(output_file='quiz.yaml', pictures_directory='quiz/pics')"
   ]
  },
  {
   "cell_type": "code",
   "execution_count": null,
   "metadata": {},
   "outputs": [],
   "source": [
    "# export\n",
    "def set_class_preamble(\n",
    "    settings: dict, category_name: str, base_category: Optional[str] = None, test_mode: bool = False\n",
    ") -> Union[str, list]:\n",
    "    \n",
    "    if test_mode:\n",
    "\n",
    "        category_name = 'test'\n",
    "\n",
    "    else:\n",
    "\n",
    "        if base_category:\n",
    "\n",
    "            category_name = [base_category, f'{base_category}/{category_name}']\n",
    "    \n",
    "    \n",
    "    if settings['categories'] is None:\n",
    "        \n",
    "        settings['categories'] = []\n",
    "        \n",
    "    settings['categories'].append({'name': category_name, 'classes': None})\n",
    "    \n",
    "    return category_name"
   ]
  },
  {
   "cell_type": "code",
   "execution_count": null,
   "metadata": {},
   "outputs": [],
   "source": [
    "set_class_preamble(settings_dict, 'Test category')\n",
    "settings_dict"
   ]
  },
  {
   "cell_type": "code",
   "execution_count": null,
   "metadata": {},
   "outputs": [],
   "source": [
    "# export\n",
    "\n",
    "def set_class_closing(settings: dict, n_instances: int, time: Optional[int] = None) -> None:\n",
    "    \n",
    "    if settings['categories'][-1]['classes'] is None:\n",
    "        \n",
    "        settings['categories'][-1]['classes'] = [{}]\n",
    "    \n",
    "    settings['categories'][-1]['classes'][-1]['number of instances'] = n_instances\n",
    "    settings['categories'][-1]['classes'][-1]['time'] = time"
   ]
  },
  {
   "cell_type": "code",
   "execution_count": null,
   "metadata": {},
   "outputs": [],
   "source": [
    "set_class_closing(settings_dict, 2, 15)\n",
    "settings_dict"
   ]
  },
  {
   "cell_type": "code",
   "execution_count": null,
   "metadata": {},
   "outputs": [],
   "source": [
    "# export\n",
    "def set_class(\n",
    "    settings: dict, class_name: str, question_base_name: str, init_parameters: Optional[dict] = None,\n",
    "    parameters: Optional[List[dict]] = None, n_instances: Optional[int] = None, time: Optional[int]=None) -> None:\n",
    "    \n",
    "    assert (parameters is not None) ^ (n_instances is not None)\n",
    "\n",
    "    d = {'name': class_name, 'question base name': question_base_name}\n",
    "    \n",
    "    if init_parameters:\n",
    "        \n",
    "        d['init parameters'] = init_parameters\n",
    "    \n",
    "    if parameters:\n",
    "        \n",
    "        d['parameters'] = parameters\n",
    "    \n",
    "    else:\n",
    "        \n",
    "        d['number of instances'] = n_instances\n",
    "    \n",
    "    if time:\n",
    "        \n",
    "        d['time'] = time\n",
    "    \n",
    "    settings['categories'][-1]['classes'] = [d]"
   ]
  },
  {
   "cell_type": "code",
   "execution_count": null,
   "metadata": {},
   "outputs": [],
   "source": [
    "set_class(\n",
    "    settings_dict, class_name='MeanLinearCombinationCosineAndUniform', question_base_name='Mean of a random process',\n",
    "    init_parameters=dict(\n",
    "        uniform_low_range=[2, 8], uniform_high_range=[12, 30], mean_range=[-5, 5],\n",
    "        variance_range=[1, 10], cosine_frequency_over_pi=[1, 2, 3], t_range=[0, 30]\n",
    "    ), n_instances=2, time=4)"
   ]
  },
  {
   "cell_type": "code",
   "execution_count": null,
   "metadata": {},
   "outputs": [],
   "source": [
    "settings_dict"
   ]
  },
  {
   "cell_type": "markdown",
   "metadata": {},
   "source": [
    "## Writing"
   ]
  },
  {
   "cell_type": "markdown",
   "metadata": {},
   "source": [
    "Code to write input files."
   ]
  },
  {
   "cell_type": "markdown",
   "metadata": {},
   "source": [
    "### Header"
   ]
  },
  {
   "cell_type": "markdown",
   "metadata": {},
   "source": [
    "A function to write the header of the file.\n",
    "* `file`: name of the input file to be created"
   ]
  },
  {
   "cell_type": "code",
   "execution_count": null,
   "metadata": {},
   "outputs": [],
   "source": [
    "# export\n",
    "def write_header(file: Union[str, pathlib.Path], output_file: str, pictures_directory: str, ) -> None:\n",
    "    \n",
    "    settings = initialize(output_file, pictures_directory)\n",
    "    \n",
    "    py2gift.util.dict_to_yaml(settings, file)"
   ]
  },
  {
   "cell_type": "code",
   "execution_count": null,
   "metadata": {},
   "outputs": [],
   "source": [
    "write_header(test_file, output_file='quiz.yaml', pictures_directory='quiz/pics')"
   ]
  },
  {
   "cell_type": "code",
   "execution_count": null,
   "metadata": {},
   "outputs": [],
   "source": [
    "%pycat {test_file}"
   ]
  },
  {
   "cell_type": "markdown",
   "metadata": {},
   "source": [
    "### Class"
   ]
  },
  {
   "cell_type": "markdown",
   "metadata": {},
   "source": [
    "#### Writing the preamble"
   ]
  },
  {
   "cell_type": "markdown",
   "metadata": {},
   "source": [
    "A function to write the preamble for a class which includes the name of the category. Strictly speaking, it's not necessary to create a new category every time a class is added, but this is more general and a category can show up many times in the input file.\n",
    "* `file`: name of the input file to be *appended to*\n",
    "* `category_name`: name of the category in which the class will be encompassed\n",
    "* `base_category`: a parent category for `category_name` (optional)\n",
    "* `test_mode`: if `True`, the last two parameters are overriden and the category is simply called `test`\n",
    "\n",
    "For convenience, the final `category_name` (notice that it might get tweaked because of the other parameters) is returned."
   ]
  },
  {
   "cell_type": "code",
   "execution_count": null,
   "metadata": {},
   "outputs": [],
   "source": [
    "# export\n",
    "def write_class_preamble(\n",
    "    file: Union[str, pathlib.Path], category_name: str, base_category: Optional[str] = None, test_mode: bool = False\n",
    ") -> Union[str, list]:\n",
    "    \"\"\"\n",
    "    Writes the preamble for a class which includes the name of the category. Strictly speaking, it's not necessary to create a new category every time a class is added, but this is more general and a category can show up many times in the input file.\n",
    "\n",
    "\n",
    "    **Parameters**\n",
    "    \n",
    "    - `file`: str, Pathlib\n",
    "        \n",
    "        Input file to be *appended to*.\n",
    "    \n",
    "    - `category_name`: str\n",
    "        \n",
    "        Name of the category in which the class will be encompassed.\n",
    "        \n",
    "    - `base_category`: str, optional\n",
    "        \n",
    "        The parent category for `category_name`.\n",
    "        \n",
    "    - `test_mode`: bool\n",
    "        \n",
    "        If `True` the last two parameters are overriden and the category is simply called `test`.\n",
    "\n",
    "    **Returns**\n",
    "    \n",
    "    - `category_name`: str or list\n",
    "        \n",
    "        The final name for the category (notice that it might get tweaked due to `test_mode`).\n",
    "\n",
    "    \"\"\"\n",
    "    \n",
    "    \n",
    "    settings = py2gift.util.yaml_to_dict(file)\n",
    "    category_name = set_class_preamble(settings, category_name, base_category, test_mode)\n",
    "    py2gift.util.dict_to_yaml(settings, file)\n",
    "    \n",
    "    return category_name"
   ]
  },
  {
   "cell_type": "code",
   "execution_count": null,
   "metadata": {},
   "outputs": [],
   "source": [
    "write_class_preamble(test_file, 'Test category')"
   ]
  },
  {
   "cell_type": "code",
   "execution_count": null,
   "metadata": {},
   "outputs": [],
   "source": [
    "%pycat {test_file}"
   ]
  },
  {
   "cell_type": "markdown",
   "metadata": {},
   "source": [
    "Parameter `base_category` allows to create hierarchical categories"
   ]
  },
  {
   "cell_type": "code",
   "execution_count": null,
   "metadata": {},
   "outputs": [],
   "source": [
    "write_header(test_file, output_file='quiz.yaml', pictures_directory='quiz/pics')\n",
    "write_class_preamble(test_file, 'Test category', base_category='base')"
   ]
  },
  {
   "cell_type": "code",
   "execution_count": null,
   "metadata": {},
   "outputs": [],
   "source": [
    "%cat {test_file}"
   ]
  },
  {
   "cell_type": "markdown",
   "metadata": {},
   "source": [
    "In `test_mode`"
   ]
  },
  {
   "cell_type": "code",
   "execution_count": null,
   "metadata": {},
   "outputs": [],
   "source": [
    "write_header(test_file, output_file='quiz.yaml', pictures_directory='quiz/pics')\n",
    "write_class_preamble(test_file, 'Test category', base_category='base', test_mode=True)"
   ]
  },
  {
   "cell_type": "code",
   "execution_count": null,
   "metadata": {},
   "outputs": [],
   "source": [
    "%pycat {test_file}"
   ]
  },
  {
   "cell_type": "markdown",
   "metadata": {},
   "source": [
    "#### Writing the closing"
   ]
  },
  {
   "cell_type": "markdown",
   "metadata": {},
   "source": [
    "A function to write the closing settings of a class.\n",
    "* `file`: name of the input file to be *appended to*\n",
    "* `n_instances`: number of questions of this class that will be created (the `setup` method of the class should be non-deterministic)\n",
    "* `time`: time in minutes (an *integer*) estimated necessary to solve the question"
   ]
  },
  {
   "cell_type": "code",
   "execution_count": null,
   "metadata": {},
   "outputs": [],
   "source": [
    "# export\n",
    "def write_class_closing(file: Union[str, pathlib.Path], n_instances: int, time: Optional[int] = None) -> None:\n",
    "    \n",
    "    settings = py2gift.util.yaml_to_dict(file)\n",
    "    category_name = set_class_closing(settings, n_instances, time)\n",
    "    py2gift.util.dict_to_yaml(settings, file)"
   ]
  },
  {
   "cell_type": "code",
   "execution_count": null,
   "metadata": {},
   "outputs": [],
   "source": [
    "write_class_closing(test_file, 2, 15)"
   ]
  },
  {
   "cell_type": "code",
   "execution_count": null,
   "metadata": {},
   "outputs": [],
   "source": [
    "%pycat {test_file}"
   ]
  },
  {
   "cell_type": "code",
   "execution_count": null,
   "metadata": {},
   "outputs": [],
   "source": [
    "!rm {test_file}"
   ]
  },
  {
   "cell_type": "markdown",
   "metadata": {},
   "source": [
    "## Categories"
   ]
  },
  {
   "cell_type": "code",
   "execution_count": null,
   "metadata": {},
   "outputs": [],
   "source": [
    "# export\n",
    "def function_to_make_hierarchical_category_name(base_category: str) -> Callable[[str], list]:\n",
    "    \n",
    "    def make_subcategory(category: str) -> list:\n",
    "    \n",
    "        return [base_category, f'{base_category}/{category}']\n",
    "    \n",
    "    return make_subcategory"
   ]
  },
  {
   "cell_type": "code",
   "execution_count": null,
   "metadata": {},
   "outputs": [],
   "source": [
    "f = function_to_make_hierarchical_category_name('2020 exam')\n",
    "f('Random')"
   ]
  },
  {
   "cell_type": "code",
   "execution_count": null,
   "metadata": {},
   "outputs": [],
   "source": [
    "# hide\n",
    "import nbdev.export\n",
    "nbdev.export.notebook2script('40_input_file.ipynb')"
   ]
  }
 ],
 "metadata": {
  "kernelspec": {
   "display_name": "Python 3",
   "language": "python",
   "name": "python3"
  }
 },
 "nbformat": 4,
 "nbformat_minor": 4
}
