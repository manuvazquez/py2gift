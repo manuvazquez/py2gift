{
 "cells": [
  {
   "cell_type": "code",
   "execution_count": null,
   "metadata": {},
   "outputs": [],
   "source": [
    "# default_exp time"
   ]
  },
  {
   "cell_type": "code",
   "execution_count": null,
   "metadata": {},
   "outputs": [],
   "source": [
    "# export\n",
    "import json\n",
    "from typing import Union\n",
    "\n",
    "import pandas as pd"
   ]
  },
  {
   "cell_type": "markdown",
   "metadata": {},
   "source": [
    "# Time\n",
    "\n",
    "> Functions to keep track of time required by every question."
   ]
  },
  {
   "cell_type": "markdown",
   "metadata": {},
   "source": [
    "## Time Keeper"
   ]
  },
  {
   "cell_type": "markdown",
   "metadata": {},
   "source": [
    "An object to keep track of time:"
   ]
  },
  {
   "cell_type": "code",
   "execution_count": null,
   "metadata": {},
   "outputs": [],
   "source": [
    "# export\n",
    "class TimeKeeper:\n",
    "    \n",
    "    def __init__(self) -> None:\n",
    "        \n",
    "        self.df = pd.DataFrame(columns=['time'])\n",
    "        self.df.index.name = 'category'\n",
    "        \n",
    "        \n",
    "        # for making sure calls to `record` and `record_question` are not mixed\n",
    "        self.record_type = None\n",
    "    \n",
    "    def process_category_name(self, category_name: Union[str, list]) -> str:\n",
    "        \n",
    "        # if the category is a string (rather than a list)...\n",
    "        if type(category_name)==str:\n",
    "            \n",
    "            # ...an attempt...\n",
    "            try:\n",
    "            \n",
    "                # ...to interpret it is made\n",
    "                category_name = json.loads(category_name)\n",
    "                \n",
    "                # if it is still a string...\n",
    "                if type(category_name)==str:\n",
    "                    \n",
    "                    # ...that's it\n",
    "                    return category_name\n",
    "                \n",
    "                # if it's not a string, then it is assumed it is a list\n",
    "            \n",
    "            except json.JSONDecodeError:\n",
    "                \n",
    "                return category_name\n",
    "        \n",
    "        return category_name[-1].split('/')[-1]\n",
    "    \n",
    "    def record(self, minutes: int, category_name: Union[str, list]) -> None:\n",
    "        \n",
    "        if self.record_type is None:\n",
    "            \n",
    "            self.record_type = 'category'\n",
    "        \n",
    "        else:\n",
    "            \n",
    "            assert self.record_type == 'category', 'you cannot mix questions and categories'\n",
    "        \n",
    "        self.df.loc[self.process_category_name(category_name)] = minutes\n",
    "        \n",
    "    def record_question(self, minutes: int, question_name: str) -> None:\n",
    "        \n",
    "        if self.record_type is None:\n",
    "            \n",
    "            self.record_type = 'question'\n",
    "        \n",
    "        else:\n",
    "            \n",
    "            assert self.record_type == 'question', 'you cannot mix questions and categories'\n",
    "        \n",
    "        self.df.loc[question_name] = minutes\n",
    "    \n",
    "    def __str__(self) -> str:\n",
    "        \n",
    "        return f'Accumulated time: {self.df[\"time\"].sum()} minutes'\n",
    "    \n",
    "    def plot(self):\n",
    "        \n",
    "        ax = self.df.plot.pie(y='time')\n",
    "        ax.legend().remove()\n",
    "        ax.set_ylabel(None)\n",
    "        \n",
    "        return ax"
   ]
  },
  {
   "cell_type": "markdown",
   "metadata": {},
   "source": [
    "## For categories"
   ]
  },
  {
   "cell_type": "markdown",
   "metadata": {},
   "source": [
    "After initialization,"
   ]
  },
  {
   "cell_type": "code",
   "execution_count": null,
   "metadata": {},
   "outputs": [],
   "source": [
    "time_keeper = TimeKeeper()"
   ]
  },
  {
   "cell_type": "markdown",
   "metadata": {},
   "source": [
    "it can be used to keep track of time by passing it the minutes an exercise should take and the category it belongs to"
   ]
  },
  {
   "cell_type": "code",
   "execution_count": null,
   "metadata": {},
   "outputs": [],
   "source": [
    "time_keeper.record(10, 'Cat 1')\n",
    "time_keeper.record(15, 'Cat 2')\n",
    "time_keeper.record(5, ['Cat 3', 'Cat 3/subcat'])\n",
    "time_keeper.record(2, ['Cat 3', 'Cat 3/subcat/subsubcat'])"
   ]
  },
  {
   "cell_type": "markdown",
   "metadata": {},
   "source": [
    "It's also fine to pass a `json`-serialized list (or string)"
   ]
  },
  {
   "cell_type": "code",
   "execution_count": null,
   "metadata": {},
   "outputs": [],
   "source": [
    "time_keeper.record(1, json.dumps(['Cat 4', 'Cat 4/cat 4 subcat']))\n",
    "time_keeper.record(2, json.dumps('Cat 5'))"
   ]
  },
  {
   "cell_type": "code",
   "execution_count": null,
   "metadata": {},
   "outputs": [],
   "source": [
    "time_keeper.df"
   ]
  },
  {
   "cell_type": "code",
   "execution_count": null,
   "metadata": {},
   "outputs": [],
   "source": [
    "print(time_keeper)"
   ]
  },
  {
   "cell_type": "code",
   "execution_count": null,
   "metadata": {},
   "outputs": [],
   "source": [
    "time_keeper.plot()"
   ]
  },
  {
   "cell_type": "markdown",
   "metadata": {},
   "source": [
    "## For questions"
   ]
  },
  {
   "cell_type": "markdown",
   "metadata": {},
   "source": [
    "After initialization,"
   ]
  },
  {
   "cell_type": "code",
   "execution_count": null,
   "metadata": {},
   "outputs": [],
   "source": [
    "time_keeper = TimeKeeper()"
   ]
  },
  {
   "cell_type": "markdown",
   "metadata": {},
   "source": [
    "it can keep tabs on the time required by every question"
   ]
  },
  {
   "cell_type": "code",
   "execution_count": null,
   "metadata": {},
   "outputs": [],
   "source": [
    "time_keeper.record_question(10, 'Q1')\n",
    "time_keeper.record_question(3, 'Q2')\n",
    "time_keeper.record_question(8, 'Q3')\n",
    "time_keeper.record_question(12, 'Q4')"
   ]
  },
  {
   "cell_type": "code",
   "execution_count": null,
   "metadata": {},
   "outputs": [],
   "source": [
    "time_keeper.df"
   ]
  },
  {
   "cell_type": "code",
   "execution_count": null,
   "metadata": {},
   "outputs": [],
   "source": [
    "time_keeper.plot()\n",
    "print(time_keeper)"
   ]
  }
 ],
 "metadata": {
  "kernelspec": {
   "display_name": "Python 3",
   "language": "python",
   "name": "python3"
  }
 },
 "nbformat": 4,
 "nbformat_minor": 4
}
