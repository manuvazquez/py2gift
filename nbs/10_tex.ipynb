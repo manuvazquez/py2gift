{
 "cells": [
  {
   "cell_type": "raw",
   "metadata": {},
   "source": [
    "---\n",
    "description: A collection of functions to ease the inclusion of $\\TeX$ strings in\n",
    "  Python source code.\n",
    "output-file: tex.html\n",
    "title: TeX\n",
    "\n",
    "---\n",
    "\n"
   ]
  },
  {
   "cell_type": "code",
   "execution_count": null,
   "metadata": {},
   "outputs": [],
   "source": [
    "#| default_exp tex"
   ]
  },
  {
   "cell_type": "code",
   "execution_count": null,
   "metadata": {},
   "outputs": [
    {
     "name": "stderr",
     "output_type": "stream",
     "text": [
      "/home/manu/mambaforge/envs/py2gift/lib/python3.10/site-packages/paramiko/transport.py:219: CryptographyDeprecationWarning: Blowfish has been deprecated\n",
      "  \"class\": algorithms.Blowfish,\n"
     ]
    }
   ],
   "source": [
    "#| include: false\n",
    "import warnings\n",
    "\n",
    "from py2gift.util import render_latex"
   ]
  },
  {
   "cell_type": "code",
   "execution_count": null,
   "metadata": {},
   "outputs": [],
   "source": [
    "warnings.filterwarnings(\"ignore\", message='Using `tqdm.autonotebook.tqdm` in notebook mode')"
   ]
  },
  {
   "cell_type": "code",
   "execution_count": null,
   "metadata": {},
   "outputs": [],
   "source": [
    "#| export\n",
    "import functools\n",
    "from typing import Union, Iterable, List, Optional, Tuple\n",
    "\n",
    "import numpy as np"
   ]
  },
  {
   "cell_type": "markdown",
   "metadata": {},
   "source": [
    "In order to avoid `tqdm`'s experimental warning"
   ]
  },
  {
   "cell_type": "markdown",
   "metadata": {},
   "source": [
    "## Decorating a function so that it can return a formula"
   ]
  },
  {
   "cell_type": "markdown",
   "metadata": {},
   "source": [
    "A decorator that allows (optionally) the string returned by any function to be enclosed between `$`s."
   ]
  },
  {
   "cell_type": "code",
   "execution_count": null,
   "metadata": {},
   "outputs": [],
   "source": [
    "#| export\n",
    "\n",
    "def to_formula_maybe(func):\n",
    "    \n",
    "    def wrapper(*args, **kwargs):\n",
    "        \n",
    "        if ('to_formula' in kwargs) and (kwargs['to_formula']):\n",
    "            \n",
    "            kwargs.pop('to_formula')\n",
    "            \n",
    "            return f'${func(*args, **kwargs)}$'\n",
    "        \n",
    "        else:\n",
    "            \n",
    "            if ('to_formula' in kwargs):\n",
    "            \n",
    "                # it must also be popped out\n",
    "                kwargs.pop('to_formula')\n",
    "            \n",
    "            return func(*args, **kwargs)\n",
    "        \n",
    "    functools.update_wrapper(wrapper, func)\n",
    "        \n",
    "    return wrapper"
   ]
  },
  {
   "cell_type": "code",
   "execution_count": null,
   "metadata": {},
   "outputs": [],
   "source": [
    "def to_radians(n_cycles: int) -> float:\n",
    "    \n",
    "    return n_cycles * 3.14"
   ]
  },
  {
   "cell_type": "code",
   "execution_count": null,
   "metadata": {},
   "outputs": [
    {
     "data": {
      "text/plain": [
       "6.28"
      ]
     },
     "execution_count": null,
     "metadata": {},
     "output_type": "execute_result"
    }
   ],
   "source": [
    "to_radians(2)"
   ]
  },
  {
   "cell_type": "markdown",
   "metadata": {},
   "source": [
    "A module that allows to inspect functions."
   ]
  },
  {
   "cell_type": "code",
   "execution_count": null,
   "metadata": {},
   "outputs": [],
   "source": [
    "import inspect"
   ]
  },
  {
   "cell_type": "code",
   "execution_count": null,
   "metadata": {},
   "outputs": [
    {
     "data": {
      "text/plain": [
       "<Signature (n_cycles: int) -> float>"
      ]
     },
     "execution_count": null,
     "metadata": {},
     "output_type": "execute_result"
    }
   ],
   "source": [
    "inspect.signature(to_radians)"
   ]
  },
  {
   "cell_type": "code",
   "execution_count": null,
   "metadata": {},
   "outputs": [],
   "source": [
    "@to_formula_maybe\n",
    "def to_radians(n_cycles: int) -> float:\n",
    "    \n",
    "    return n_cycles * 3.14"
   ]
  },
  {
   "cell_type": "code",
   "execution_count": null,
   "metadata": {},
   "outputs": [
    {
     "data": {
      "text/plain": [
       "<Signature (n_cycles: int) -> float>"
      ]
     },
     "execution_count": null,
     "metadata": {},
     "output_type": "execute_result"
    }
   ],
   "source": [
    "inspect.signature(to_radians)"
   ]
  },
  {
   "cell_type": "code",
   "execution_count": null,
   "metadata": {},
   "outputs": [
    {
     "data": {
      "text/plain": [
       "6.28"
      ]
     },
     "execution_count": null,
     "metadata": {},
     "output_type": "execute_result"
    }
   ],
   "source": [
    "to_radians(2)"
   ]
  },
  {
   "cell_type": "code",
   "execution_count": null,
   "metadata": {},
   "outputs": [
    {
     "data": {
      "text/plain": [
       "'$6.28$'"
      ]
     },
     "execution_count": null,
     "metadata": {},
     "output_type": "execute_result"
    }
   ],
   "source": [
    "to_radians(2, to_formula=True)"
   ]
  },
  {
   "cell_type": "markdown",
   "metadata": {},
   "source": [
    "`render_latex` can be used to properly render it in the notebook:"
   ]
  },
  {
   "cell_type": "code",
   "execution_count": null,
   "metadata": {},
   "outputs": [
    {
     "data": {
      "text/markdown": [
       "$\\Large 6.28$"
      ],
      "text/plain": [
       "<IPython.core.display.Markdown object>"
      ]
     },
     "execution_count": null,
     "metadata": {},
     "output_type": "execute_result"
    }
   ],
   "source": [
    "render_latex(to_radians(2, to_formula=True))"
   ]
  },
  {
   "cell_type": "markdown",
   "metadata": {},
   "source": [
    "# Convenience functions"
   ]
  },
  {
   "cell_type": "markdown",
   "metadata": {},
   "source": [
    "## Enumerating the strings in a list"
   ]
  },
  {
   "cell_type": "code",
   "execution_count": null,
   "metadata": {},
   "outputs": [],
   "source": [
    "#| export\n",
    "def join(strings_list: List[str], nexus: str = ' and ', to_formula: bool = True):\n",
    "    \"\"\"\n",
    "    Enumerates the strings in a list, optionally enclosing every element between `$`s.\n",
    "    \n",
    "    **Parameters**\n",
    "    \n",
    "    - `strings_list`: list\n",
    "        \n",
    "        A list with the strings to be joined.\n",
    "    \n",
    "    - `nexus`: str\n",
    "        \n",
    "        Text between the second to last and last elements.\n",
    "    \n",
    "    - `to_formula`: bool, optional\n",
    "        \n",
    "        If True every string will be enclosed in '$'s.\n",
    "\n",
    "    **Returns**\n",
    "\n",
    "    - `out`: str\n",
    "        \n",
    "        TeX compatible string.\n",
    "    \"\"\"\n",
    "    \n",
    "    if to_formula:\n",
    "        \n",
    "        delimiter = '$'\n",
    "    \n",
    "    else:\n",
    "        \n",
    "        delimiter = ''\n",
    "    \n",
    "    return delimiter + \\\n",
    "        f'{delimiter}, {delimiter}'.join(strings_list[:-1]) +\\\n",
    "        f'{delimiter}{nexus}{delimiter}{strings_list[-1]}{delimiter}'"
   ]
  },
  {
   "cell_type": "code",
   "execution_count": null,
   "metadata": {},
   "outputs": [
    {
     "data": {
      "text/markdown": [
       "$\\Large a$, $\\Large b$ and $\\Large c$"
      ],
      "text/plain": [
       "<IPython.core.display.Markdown object>"
      ]
     },
     "execution_count": null,
     "metadata": {},
     "output_type": "execute_result"
    }
   ],
   "source": [
    "tex = join(['a', 'b', 'c'])\n",
    "render_latex(tex)"
   ]
  },
  {
   "cell_type": "code",
   "execution_count": null,
   "metadata": {},
   "outputs": [
    {
     "data": {
      "text/markdown": [
       "$\\Large a$, $\\Large b$ y $\\Large c$"
      ],
      "text/plain": [
       "<IPython.core.display.Markdown object>"
      ]
     },
     "execution_count": null,
     "metadata": {},
     "output_type": "execute_result"
    }
   ],
   "source": [
    "tex = join(['a', 'b', 'c'], nexus=' y ')\n",
    "render_latex(tex)"
   ]
  },
  {
   "cell_type": "code",
   "execution_count": null,
   "metadata": {},
   "outputs": [
    {
     "data": {
      "text/markdown": [
       "$\\Large 2$ and $\\Large \\sigma$"
      ],
      "text/plain": [
       "<IPython.core.display.Markdown object>"
      ]
     },
     "execution_count": null,
     "metadata": {},
     "output_type": "execute_result"
    }
   ],
   "source": [
    "tex = join(['2', '\\sigma'])\n",
    "render_latex(tex)"
   ]
  },
  {
   "cell_type": "code",
   "execution_count": null,
   "metadata": {},
   "outputs": [
    {
     "data": {
      "text/markdown": [
       "$\\Large 2$, $\\Large 3$, $\\Large 4$"
      ],
      "text/plain": [
       "<IPython.core.display.Markdown object>"
      ]
     },
     "execution_count": null,
     "metadata": {},
     "output_type": "execute_result"
    }
   ],
   "source": [
    "tex = join(['2', '3', '4'], nexus=', ')\n",
    "render_latex(tex)"
   ]
  },
  {
   "cell_type": "markdown",
   "metadata": {},
   "source": [
    "# Definitions of functions"
   ]
  },
  {
   "cell_type": "markdown",
   "metadata": {},
   "source": [
    "*Customizable* mathematical functions."
   ]
  },
  {
   "cell_type": "markdown",
   "metadata": {},
   "source": [
    "## Gaussian probability density function"
   ]
  },
  {
   "cell_type": "markdown",
   "metadata": {},
   "source": [
    "The expression of a (univariate) Gaussian probability density function."
   ]
  },
  {
   "cell_type": "code",
   "execution_count": null,
   "metadata": {},
   "outputs": [],
   "source": [
    "#| export\n",
    "@to_formula_maybe\n",
    "def gaussian_pdf(x: str = 'x', mean: str = r'\\mu', variance: str = r'\\sigma^2') -> str:\n",
    "    \"\"\"\n",
    "    Returns a string representing the probability density function for a Gaussian distribution.\n",
    "    \n",
    "    **Parameters**\n",
    "    \n",
    "    - `x`: str\n",
    "        \n",
    "        The random variable.\n",
    "    \n",
    "    - `mean`: str, optional\n",
    "        \n",
    "        The mean of the random variable.\n",
    "    \n",
    "    - `variance`: str, optional\n",
    "    \n",
    "        The variance of the random variable.\n",
    "\n",
    "    **Returns**\n",
    "    \n",
    "    - `out`: str\n",
    "        \n",
    "        TeX compatible string.\n",
    "    \"\"\"\n",
    "\n",
    "    return r'\\frac{1}{\\sqrt{2\\pi ' + variance + r'}}e^{-\\frac{(' + x + '-' + mean + r')^2}{2' + variance + r'}}'"
   ]
  },
  {
   "cell_type": "markdown",
   "metadata": {},
   "source": [
    "With no arguments, it yields the usual formula,"
   ]
  },
  {
   "cell_type": "code",
   "execution_count": null,
   "metadata": {},
   "outputs": [
    {
     "data": {
      "text/markdown": [
       "$\\Large \\frac{1}{\\sqrt{2\\pi \\sigma^2}}e^{-\\frac{(x-\\mu)^2}{2\\sigma^2}}$"
      ],
      "text/plain": [
       "<IPython.core.display.Markdown object>"
      ]
     },
     "execution_count": null,
     "metadata": {},
     "output_type": "execute_result"
    }
   ],
   "source": [
    "tex = gaussian_pdf(to_formula=True)\n",
    "render_latex(tex)"
   ]
  },
  {
   "cell_type": "markdown",
   "metadata": {},
   "source": [
    "The arguments allow to use different symbols for the random variable, the mean and the variance"
   ]
  },
  {
   "cell_type": "code",
   "execution_count": null,
   "metadata": {},
   "outputs": [
    {
     "data": {
      "text/markdown": [
       "$\\Large \\frac{1}{\\sqrt{2\\pi v}}e^{-\\frac{(n-m)^2}{2v}}$"
      ],
      "text/plain": [
       "<IPython.core.display.Markdown object>"
      ]
     },
     "execution_count": null,
     "metadata": {},
     "output_type": "execute_result"
    }
   ],
   "source": [
    "tex = gaussian_pdf(x=\"n\", mean=\"m\", variance=\"v\", to_formula=True)\n",
    "render_latex(tex)"
   ]
  },
  {
   "cell_type": "markdown",
   "metadata": {},
   "source": [
    "## Stirling's approximation to the Q function"
   ]
  },
  {
   "cell_type": "code",
   "execution_count": null,
   "metadata": {},
   "outputs": [],
   "source": [
    "#| export\n",
    "@to_formula_maybe\n",
    "def q_function_approximation(x: str = 'x') -> str:\n",
    "    \"\"\"\n",
    "    Returns a string representing the Stirling approximation for the Q function.\n",
    "    \n",
    "    **Parameters**\n",
    "    \n",
    "    - `x`: str\n",
    "        \n",
    "        The argument of the Q function.\n",
    "\n",
    "    **Returns**\n",
    "    \n",
    "    `out`: str\n",
    "        \n",
    "        TeX compatible string.\n",
    "    \"\"\"\n",
    "\n",
    "    return f'Q({x}) \\\\approx \\\\frac{{1}}{{2}} e^{{-\\\\frac{{{x}^2}}{{2}}}}'"
   ]
  },
  {
   "cell_type": "markdown",
   "metadata": {},
   "source": [
    "With no arguments, the argument is $x$"
   ]
  },
  {
   "cell_type": "code",
   "execution_count": null,
   "metadata": {},
   "outputs": [
    {
     "data": {
      "text/markdown": [
       "$\\Large Q(x) \\approx \\frac{1}{2} e^{-\\frac{x^2}{2}}$"
      ],
      "text/plain": [
       "<IPython.core.display.Markdown object>"
      ]
     },
     "execution_count": null,
     "metadata": {},
     "output_type": "execute_result"
    }
   ],
   "source": [
    "tex = q_function_approximation(to_formula=True)\n",
    "render_latex(tex)"
   ]
  },
  {
   "cell_type": "markdown",
   "metadata": {},
   "source": [
    "but a specific variable can be passed"
   ]
  },
  {
   "cell_type": "code",
   "execution_count": null,
   "metadata": {},
   "outputs": [
    {
     "data": {
      "text/markdown": [
       "$\\Large Q(t) \\approx \\frac{1}{2} e^{-\\frac{t^2}{2}}$"
      ],
      "text/plain": [
       "<IPython.core.display.Markdown object>"
      ]
     },
     "execution_count": null,
     "metadata": {},
     "output_type": "execute_result"
    }
   ],
   "source": [
    "tex = q_function_approximation('t', to_formula=True)\n",
    "render_latex(tex)"
   ]
  },
  {
   "cell_type": "markdown",
   "metadata": {},
   "source": [
    "## Part-wise defined functions"
   ]
  },
  {
   "cell_type": "code",
   "execution_count": null,
   "metadata": {},
   "outputs": [],
   "source": [
    "#| export\n",
    "@to_formula_maybe\n",
    "def partwise_function(function: str, parts: List[Tuple[str, str]], add_zero_otherwise: bool = True) -> str:\n",
    "    \"\"\"\n",
    "    Returns a string representing the definition a part-wise mathematical function.\n",
    "    \n",
    "    **Parameters**\n",
    "    \n",
    "    - `function`: str\n",
    "        \n",
    "        The name of the function.\n",
    "    - `parts`: list\n",
    "        \n",
    "        Each element is a tuple yields whose 1st element is the value of the function and whose second is a condition stating where the 1st applies.\n",
    "    - `add_zero_otherwise`: bool\n",
    "        \n",
    "        If True, one last part stating \"0, otherwise\" is added.\n",
    "\n",
    "    **Returns**\n",
    "    \n",
    "    `out`: str\n",
    "        TeX compatible string.\n",
    "    \"\"\"\n",
    "    \n",
    "    res = f'{function}='\n",
    "    \n",
    "    res += '\\\\begin{cases}\\n'\n",
    "    \n",
    "    for p in parts:\n",
    "    \n",
    "        res += f'{p[0]},& {p[1]} \\\\\\\\'\n",
    "    \n",
    "    if add_zero_otherwise:\n",
    "        \n",
    "        res += r'0,& \\text{otherwise}'\n",
    "    \n",
    "    res += r'\\end{cases}'\n",
    "    \n",
    "    return res"
   ]
  },
  {
   "cell_type": "code",
   "execution_count": null,
   "metadata": {},
   "outputs": [
    {
     "data": {
      "text/markdown": [
       "$\\Large f(x)=\\begin{cases}\n",
       "x+1,& 0 < x \\le 1 \\\\x-1,& 1 < x \\le 2 \\\\0,& \\text{otherwise}\\end{cases}$"
      ],
      "text/plain": [
       "<IPython.core.display.Markdown object>"
      ]
     },
     "execution_count": null,
     "metadata": {},
     "output_type": "execute_result"
    }
   ],
   "source": [
    "tex = partwise_function('f(x)', [('x+1', '0 < x \\le 1'), ('x-1', '1 < x \\le 2')], to_formula=True)\n",
    "render_latex(tex)"
   ]
  },
  {
   "cell_type": "code",
   "execution_count": null,
   "metadata": {},
   "outputs": [
    {
     "data": {
      "text/markdown": [
       "$\\Large f(x)=\\begin{cases}\n",
       "x+1,& 0 < x \\le 1 \\\\\\end{cases}$"
      ],
      "text/plain": [
       "<IPython.core.display.Markdown object>"
      ]
     },
     "execution_count": null,
     "metadata": {},
     "output_type": "execute_result"
    }
   ],
   "source": [
    "tex = partwise_function('f(x)', [('x+1', '0 < x \\le 1')], add_zero_otherwise=False, to_formula=True)\n",
    "render_latex(tex)"
   ]
  },
  {
   "cell_type": "markdown",
   "metadata": {},
   "source": [
    "# Numbers"
   ]
  },
  {
   "cell_type": "markdown",
   "metadata": {},
   "source": [
    "Utilities to turn numbers (or collections thereof) into $\\LaTeX$ source code."
   ]
  },
  {
   "cell_type": "markdown",
   "metadata": {},
   "source": [
    "## Scalar"
   ]
  },
  {
   "cell_type": "code",
   "execution_count": null,
   "metadata": {},
   "outputs": [],
   "source": [
    "#| export\n",
    "@to_formula_maybe\n",
    "def from_number(n: Union[int, float], prefix: str = '', precision: int = 3, fixed_point_format: bool = False) -> str:\n",
    "    \"\"\"\n",
    "    Returns a string for a given number.\n",
    "    \n",
    "    **Parameters**\n",
    "    \n",
    "    - `n`: int or float\n",
    "        \n",
    "        The number.\n",
    "    - `prefix`: str\n",
    "        \n",
    "        A string to be prepended to the number.\n",
    "    \n",
    "    - `precision`: int\n",
    "        \n",
    "        Number of decimals if `fixed_point_format` is True, overall number of figures otherwise (ignored if the number is an integer).\n",
    "    \n",
    "    - `fixed_point_format`: bool\n",
    "        \n",
    "        If True, a fixed-point format (f) is used regardless of the actual type.\n",
    "        \n",
    "    **Returns**\n",
    "    \n",
    "    - `out`: str\n",
    "        \n",
    "        TeX compatible string.\n",
    "    \"\"\"\n",
    "    \n",
    "    format_specifier = f'.{precision}{\"f\" if fixed_point_format else \"g\"}'\n",
    "\n",
    "    return f'{prefix}{n:{format_specifier}}'"
   ]
  },
  {
   "cell_type": "markdown",
   "metadata": {},
   "source": [
    "Valid for both floating point numbers,"
   ]
  },
  {
   "cell_type": "code",
   "execution_count": null,
   "metadata": {},
   "outputs": [
    {
     "data": {
      "text/markdown": [
       "$\\Large 2.3$"
      ],
      "text/plain": [
       "<IPython.core.display.Markdown object>"
      ]
     },
     "execution_count": null,
     "metadata": {},
     "output_type": "execute_result"
    }
   ],
   "source": [
    "tex = from_number(2.3, to_formula=True)\n",
    "render_latex(tex)"
   ]
  },
  {
   "cell_type": "markdown",
   "metadata": {},
   "source": [
    "and integers"
   ]
  },
  {
   "cell_type": "code",
   "execution_count": null,
   "metadata": {},
   "outputs": [
    {
     "data": {
      "text/markdown": [
       "$\\Large 3$"
      ],
      "text/plain": [
       "<IPython.core.display.Markdown object>"
      ]
     },
     "execution_count": null,
     "metadata": {},
     "output_type": "execute_result"
    }
   ],
   "source": [
    "tex = from_number(3, to_formula=True)\n",
    "render_latex(tex)"
   ]
  },
  {
   "cell_type": "markdown",
   "metadata": {},
   "source": [
    "With a higher `precision`"
   ]
  },
  {
   "cell_type": "code",
   "execution_count": null,
   "metadata": {},
   "outputs": [
    {
     "data": {
      "text/markdown": [
       "$\\Large 3.14159$"
      ],
      "text/plain": [
       "<IPython.core.display.Markdown object>"
      ]
     },
     "execution_count": null,
     "metadata": {},
     "output_type": "execute_result"
    }
   ],
   "source": [
    "tex = from_number(np.pi, precision=6, to_formula=True)\n",
    "render_latex(tex)"
   ]
  },
  {
   "cell_type": "markdown",
   "metadata": {},
   "source": [
    "Notice that if `fixed_point_format` is set to `False` (default), the precision refers to the **overall** number of figures (*g*(eneral) format specifier-behaviour). On the other hand, the `precision` parameter of a *fixed-point* number controls the number of decimals,"
   ]
  },
  {
   "cell_type": "code",
   "execution_count": null,
   "metadata": {},
   "outputs": [
    {
     "data": {
      "text/markdown": [
       "$\\Large 3.141593$"
      ],
      "text/plain": [
       "<IPython.core.display.Markdown object>"
      ]
     },
     "execution_count": null,
     "metadata": {},
     "output_type": "execute_result"
    }
   ],
   "source": [
    "tex = from_number(np.pi, precision=6, fixed_point_format=True, to_formula=True)\n",
    "render_latex(tex)"
   ]
  },
  {
   "cell_type": "markdown",
   "metadata": {},
   "source": [
    "If the number is an integer, `precision` parameter is ignored"
   ]
  },
  {
   "cell_type": "code",
   "execution_count": null,
   "metadata": {},
   "outputs": [
    {
     "data": {
      "text/markdown": [
       "$\\Large 42$"
      ],
      "text/plain": [
       "<IPython.core.display.Markdown object>"
      ]
     },
     "execution_count": null,
     "metadata": {},
     "output_type": "execute_result"
    }
   ],
   "source": [
    "tex = from_number(42, to_formula=True)\n",
    "render_latex(tex)"
   ]
  },
  {
   "cell_type": "markdown",
   "metadata": {},
   "source": [
    "A prefix can be passed:"
   ]
  },
  {
   "cell_type": "code",
   "execution_count": null,
   "metadata": {},
   "outputs": [
    {
     "data": {
      "text/markdown": [
       "$\\Large a=42$"
      ],
      "text/plain": [
       "<IPython.core.display.Markdown object>"
      ]
     },
     "execution_count": null,
     "metadata": {},
     "output_type": "execute_result"
    }
   ],
   "source": [
    "tex = from_number(42, prefix='a=', to_formula=True)\n",
    "render_latex(tex)"
   ]
  },
  {
   "cell_type": "markdown",
   "metadata": {},
   "source": [
    "## Matrix or vector/list"
   ]
  },
  {
   "cell_type": "markdown",
   "metadata": {},
   "source": [
    "Functions to turn a matrix or vector into $\\LaTeX$ source code."
   ]
  },
  {
   "cell_type": "code",
   "execution_count": null,
   "metadata": {},
   "outputs": [],
   "source": [
    "#| export\n",
    "@to_formula_maybe\n",
    "def from_matrix(m: Union[list, np.ndarray], float_point_precision: int = 3) -> str:\n",
    "    \"\"\"\n",
    "    Returns a string for a given array or matrix.\n",
    "    \n",
    "    **Parameters**\n",
    "    \n",
    "    - `m`: list or ndarray\n",
    "        \n",
    "        A numpy array or a list.\n",
    "    \n",
    "    - `float_point_precision`: int\n",
    "        \n",
    "        Number of decimals (ignored if the number is an integer).\n",
    "\n",
    "    **Returns**\n",
    "    \n",
    "    - `out`: str\n",
    "        \n",
    "        TeX compatible string.\n",
    "    \"\"\"\n",
    "    \n",
    "    format_from_number = lambda x: f'.{float_point_precision}g' if (type(x) == np.float64) or (type(x) == float) else f'd'\n",
    "\n",
    "    if isinstance(m[0], (list, np.ndarray)):\n",
    "\n",
    "        return r'\\begin{bmatrix}' + r' \\\\ '.join(\n",
    "            [(r' & '.join([f'{e:{format_from_number(m[0][0])}}' for e in row])) for row in m]) + r'\\end{bmatrix}'\n",
    "\n",
    "    else:\n",
    "        \n",
    "        return r'\\begin{bmatrix}' + r' & '.join([f'{e:{format_from_number(m[0])}}' for e in m]) + r'\\end{bmatrix}'"
   ]
  },
  {
   "cell_type": "markdown",
   "metadata": {},
   "source": [
    "`from_matrix` returns $\\LaTeX$ source code for a list or `np.ndarray`"
   ]
  },
  {
   "cell_type": "markdown",
   "metadata": {},
   "source": [
    "This can be applied on lists"
   ]
  },
  {
   "cell_type": "code",
   "execution_count": null,
   "metadata": {},
   "outputs": [
    {
     "data": {
      "text/markdown": [
       "$\\Large \\begin{bmatrix}1 & 2 & 3\\end{bmatrix}$,"
      ],
      "text/plain": [
       "<IPython.core.display.Markdown object>"
      ]
     },
     "execution_count": null,
     "metadata": {},
     "output_type": "execute_result"
    }
   ],
   "source": [
    "tex = from_matrix([1, 2, 3], to_formula=True) + ','\n",
    "render_latex(tex)"
   ]
  },
  {
   "cell_type": "markdown",
   "metadata": {},
   "source": [
    "or numpy arrays, both *2D*"
   ]
  },
  {
   "cell_type": "code",
   "execution_count": null,
   "metadata": {},
   "outputs": [
    {
     "data": {
      "text/markdown": [
       "$\\Large \\begin{bmatrix}1.11 & 3.14 \\\\ 14.2 & 5.1\\end{bmatrix}$,"
      ],
      "text/plain": [
       "<IPython.core.display.Markdown object>"
      ]
     },
     "execution_count": null,
     "metadata": {},
     "output_type": "execute_result"
    }
   ],
   "source": [
    "tex = from_matrix(np.array([[1.11, 3.14], [14.2, 5.1]]), to_formula=True) + ','\n",
    "render_latex(tex)"
   ]
  },
  {
   "cell_type": "markdown",
   "metadata": {},
   "source": [
    "and *1D*"
   ]
  },
  {
   "cell_type": "code",
   "execution_count": null,
   "metadata": {},
   "outputs": [
    {
     "data": {
      "text/markdown": [
       "$\\Large \\begin{bmatrix}14.2 & 5.1\\end{bmatrix}$"
      ],
      "text/plain": [
       "<IPython.core.display.Markdown object>"
      ]
     },
     "execution_count": null,
     "metadata": {},
     "output_type": "execute_result"
    }
   ],
   "source": [
    "tex = from_matrix(np.array([14.2, 5.1]), to_formula=True)\n",
    "render_latex(tex)"
   ]
  },
  {
   "cell_type": "markdown",
   "metadata": {},
   "source": [
    "If the numbers are integers, that is taken into account:"
   ]
  },
  {
   "cell_type": "code",
   "execution_count": null,
   "metadata": {},
   "outputs": [
    {
     "data": {
      "text/markdown": [
       "$\\Large \\begin{bmatrix}1 & 3 \\\\ 4 & 5\\end{bmatrix}$"
      ],
      "text/plain": [
       "<IPython.core.display.Markdown object>"
      ]
     },
     "execution_count": null,
     "metadata": {},
     "output_type": "execute_result"
    }
   ],
   "source": [
    "tex = from_matrix(np.array([[1, 3], [4, 5]]), to_formula=True)\n",
    "render_latex(tex)"
   ]
  },
  {
   "cell_type": "code",
   "execution_count": null,
   "metadata": {},
   "outputs": [
    {
     "data": {
      "text/markdown": [
       "$\\Large \\begin{bmatrix}14 & 5\\end{bmatrix}$"
      ],
      "text/plain": [
       "<IPython.core.display.Markdown object>"
      ]
     },
     "execution_count": null,
     "metadata": {},
     "output_type": "execute_result"
    }
   ],
   "source": [
    "tex = from_matrix(np.array([14, 5]), to_formula=True)\n",
    "render_latex(tex)"
   ]
  },
  {
   "cell_type": "code",
   "execution_count": null,
   "metadata": {},
   "outputs": [
    {
     "data": {
      "text/markdown": [
       "$\\Large \\begin{bmatrix}1 & 2\\end{bmatrix}$"
      ],
      "text/plain": [
       "<IPython.core.display.Markdown object>"
      ]
     },
     "execution_count": null,
     "metadata": {},
     "output_type": "execute_result"
    }
   ],
   "source": [
    "tex = from_matrix([1, 2], to_formula=True)\n",
    "render_latex(tex)"
   ]
  },
  {
   "cell_type": "markdown",
   "metadata": {},
   "source": [
    "## Dot product"
   ]
  },
  {
   "cell_type": "code",
   "execution_count": null,
   "metadata": {},
   "outputs": [],
   "source": [
    "#| export\n",
    "@to_formula_maybe\n",
    "def dot_product(\n",
    "    lhs_template: str, lhs: list, rhs_template: str, rhs: list, product_operator: str = '',\n",
    "    addition_operator: str = '+') -> str:\n",
    "    \"\"\"\n",
    "    Returns a string for the dot product of two vectors, regardless of whether they are symbols or numbers.\n",
    "    \n",
    "    **Parameters**\n",
    "    \n",
    "    - `lhs_template`: str\n",
    "        \n",
    "        Left-hand side template; it should include a replacement field ({}) that will be replaced by one of\n",
    "        the elements in `lhs`\n",
    "    \n",
    "    - `lhs`: list\n",
    "        \n",
    "        Left-hand side elements.\n",
    "    \n",
    "    - `rhs_template`: str\n",
    "        \n",
    "        Right-hand side template; it should include a replacement field ({}) that will be replaced by one of\n",
    "        the elements in `rhs`\n",
    "    \n",
    "    - `rhs`: list\n",
    "        \n",
    "        Right-hand side elements.\n",
    "    \n",
    "    - `product_operator`: str\n",
    "        \n",
    "        Symbol to be used as product operator.\n",
    "    \n",
    "    - `addition_operator`: str\n",
    "        \n",
    "        Symbol to be used as addition operator.\n",
    "\n",
    "    **Returns**\n",
    "    \n",
    "    - `out`: str\n",
    "        \n",
    "        TeX compatible string.\n",
    "    \"\"\"\n",
    "    \n",
    "    return addition_operator.join([lhs_template.format(l) + product_operator + rhs_template.format(r) for l,r in zip(lhs, rhs)])"
   ]
  },
  {
   "cell_type": "code",
   "execution_count": null,
   "metadata": {},
   "outputs": [
    {
     "data": {
      "text/markdown": [
       "$\\Large p(y_1|x_1)p(x_1)+p(y_1|x_2)p(x_2)$"
      ],
      "text/plain": [
       "<IPython.core.display.Markdown object>"
      ]
     },
     "execution_count": null,
     "metadata": {},
     "output_type": "execute_result"
    }
   ],
   "source": [
    "tex = dot_product('p(y_1|x_{})', [1, 2], 'p(x_{})', [1,2], to_formula=True)\n",
    "render_latex(tex)"
   ]
  },
  {
   "cell_type": "code",
   "execution_count": null,
   "metadata": {},
   "outputs": [
    {
     "data": {
      "text/markdown": [
       "$\\Large 0.1\\cdot0.75+0.2\\cdot0.9$"
      ],
      "text/plain": [
       "<IPython.core.display.Markdown object>"
      ]
     },
     "execution_count": null,
     "metadata": {},
     "output_type": "execute_result"
    }
   ],
   "source": [
    "tex = dot_product('{}', [0.1, 0.2], '{}', [0.75, 0.9], product_operator=r'\\cdot', to_formula=True)\n",
    "render_latex(tex)"
   ]
  },
  {
   "cell_type": "markdown",
   "metadata": {},
   "source": [
    "## Law of total probability"
   ]
  },
  {
   "cell_type": "code",
   "execution_count": null,
   "metadata": {},
   "outputs": [],
   "source": [
    "#| export\n",
    "@to_formula_maybe\n",
    "def total_probability(fixed_symbol: str, varying_symbol_template: str, n: int, start_at: int = 1) -> str:\n",
    "    \"\"\"\n",
    "    Returns a string for law of total probability.\n",
    "    \n",
    "    **Parameters**\n",
    "    \n",
    "    - `fixed_symbol`: str\n",
    "        \n",
    "        The symbol that stays the same in the summation.\n",
    "        \n",
    "    - `varying_symbol_template`: str\n",
    "        \n",
    "        A template for the varying symbol that includes a replacement field (`{}`) for the index.\n",
    "        \n",
    "    - `n`: int\n",
    "        \n",
    "        The number of values for the varying symbol.\n",
    "        \n",
    "    - `start_at`: int\n",
    "        \n",
    "        The index at which `varying_symbol_template`starts.\n",
    "\n",
    "    **Returns**\n",
    "    \n",
    "    - `out`: str\n",
    "        \n",
    "        TeX compatible string.\n",
    "    \"\"\"\n",
    "    \n",
    "    return '+'.join([f'p({fixed_symbol},{varying_symbol_template.format(i)})' for i in range(start_at, start_at+n)])"
   ]
  },
  {
   "cell_type": "code",
   "execution_count": null,
   "metadata": {},
   "outputs": [
    {
     "data": {
      "text/markdown": [
       "$\\Large p(x_1,y_1)+p(x_1,y_2)+p(x_1,y_3)$"
      ],
      "text/plain": [
       "<IPython.core.display.Markdown object>"
      ]
     },
     "execution_count": null,
     "metadata": {},
     "output_type": "execute_result"
    }
   ],
   "source": [
    "tex = total_probability('x_1', 'y_{}', 3, to_formula=True)\n",
    "render_latex(tex)"
   ]
  },
  {
   "cell_type": "markdown",
   "metadata": {},
   "source": [
    "Starting at a different index"
   ]
  },
  {
   "cell_type": "code",
   "execution_count": null,
   "metadata": {},
   "outputs": [
    {
     "data": {
      "text/markdown": [
       "$\\Large p(x_1,y_3)+p(x_1,y_4)+p(x_1,y_5)$"
      ],
      "text/plain": [
       "<IPython.core.display.Markdown object>"
      ]
     },
     "execution_count": null,
     "metadata": {},
     "output_type": "execute_result"
    }
   ],
   "source": [
    "tex = total_probability('x_1', 'y_{}', 3, start_at=3, to_formula=True)\n",
    "render_latex(tex)"
   ]
  },
  {
   "cell_type": "markdown",
   "metadata": {},
   "source": [
    "## Enumerations"
   ]
  },
  {
   "cell_type": "code",
   "execution_count": null,
   "metadata": {},
   "outputs": [],
   "source": [
    "#| export\n",
    "\n",
    "def enumerate_math(\n",
    "    numbers_list: List[float], assigned_to: Optional[str] = None, nexus: Optional[str] = ' and ',\n",
    "    precision: Optional[int] = 3, start_at: Optional[int] = 1) -> str:\n",
    "    \"\"\"\n",
    "    Builds a $\\TeX$ string from a list of numbers in which each one is printed after (optionally) being assigned to an indexed variable that follows a given pattern.\n",
    "    \n",
    "    **Parameters**\n",
    "    \n",
    "    - `numbers_list`:  list of floats\n",
    "        \n",
    "        The elements to be enumerated.\n",
    "        \n",
    "    - `assigned_to`: str, optional\n",
    "        \n",
    "        Some text with a replacement field (this means that any { or } must be escaped by doubling it).\n",
    "        \n",
    "    - `nexus`: str, optional\n",
    "        \n",
    "        The text joining the second to last and last elements.\n",
    "        \n",
    "    - `precision`: int\n",
    "        \n",
    "        The number of decimal places.\n",
    "        \n",
    "    - `start_at`: int\n",
    "        \n",
    "        The index of the first element that enters the enumeration.\n",
    "\n",
    "    **Returns**\n",
    "    \n",
    "    - `out`: str\n",
    "        \n",
    "        TeX compatible string.\n",
    "    \"\"\"\n",
    "\n",
    "#     format_specifier = f'.{precision}f'\n",
    "    format_specifier = f'.{precision}g'\n",
    "\n",
    "    strings_list = [f'{e:{format_specifier}}' for e in numbers_list]\n",
    "\n",
    "    if assigned_to:\n",
    "\n",
    "        strings_list = [assigned_to.format(i_s) + ' = ' + s for i_s, s in enumerate(strings_list, start_at)]\n",
    "    \n",
    "    return join(strings_list, nexus=nexus)"
   ]
  },
  {
   "cell_type": "markdown",
   "metadata": {},
   "source": [
    "Using the optional `assigned_to` arguement,"
   ]
  },
  {
   "cell_type": "code",
   "execution_count": null,
   "metadata": {},
   "outputs": [
    {
     "data": {
      "text/markdown": [
       "$\\Large w_t^{(1)} = 0.7$ and $\\Large w_t^{(2)} = 0.9$"
      ],
      "text/plain": [
       "<IPython.core.display.Markdown object>"
      ]
     },
     "execution_count": null,
     "metadata": {},
     "output_type": "execute_result"
    }
   ],
   "source": [
    "tex = enumerate_math([0.7, 0.9], assigned_to='w_t^{{({})}}')\n",
    "render_latex(tex)"
   ]
  },
  {
   "cell_type": "markdown",
   "metadata": {},
   "source": [
    "and without it"
   ]
  },
  {
   "cell_type": "code",
   "execution_count": null,
   "metadata": {},
   "outputs": [
    {
     "data": {
      "text/markdown": [
       "$\\Large 0.7$ and $\\Large 0.9$"
      ],
      "text/plain": [
       "<IPython.core.display.Markdown object>"
      ]
     },
     "execution_count": null,
     "metadata": {},
     "output_type": "execute_result"
    }
   ],
   "source": [
    "tex = enumerate_math([0.7, 0.9])\n",
    "render_latex(tex)"
   ]
  },
  {
   "cell_type": "markdown",
   "metadata": {},
   "source": [
    "Starting at a different index on the left-hand-side"
   ]
  },
  {
   "cell_type": "code",
   "execution_count": null,
   "metadata": {},
   "outputs": [
    {
     "data": {
      "text/markdown": [
       "$\\Large w_t^{(2)} = 0.722$ and $\\Large w_t^{(3)} = 0.9$"
      ],
      "text/plain": [
       "<IPython.core.display.Markdown object>"
      ]
     },
     "execution_count": null,
     "metadata": {},
     "output_type": "execute_result"
    }
   ],
   "source": [
    "tex = enumerate_math([0.722341, 0.9], assigned_to='w_t^{{({})}}', start_at=2)\n",
    "render_latex(tex)"
   ]
  },
  {
   "cell_type": "markdown",
   "metadata": {},
   "source": [
    "---"
   ]
  },
  {
   "cell_type": "code",
   "execution_count": null,
   "metadata": {},
   "outputs": [],
   "source": [
    "#| export\n",
    "def enumerate_assignments(\n",
    "    lhs_template: str, rhs_template: str, rhs: List[float], nexus: str = ' and ', precision: int = 3, start_at: int = 1) -> str:\n",
    "    \"\"\"\n",
    "    Constructs a enumeration of assignments from left-hand-side and right-hand-side templates and right-hand-side values. It's similar to `enumerate_math` when the argument `assigned_to` is passed to the latter, but more general since the right-hand expression is also obtained from a template.\n",
    "    \n",
    "    **Parameters**\n",
    "    \n",
    "    - `lhs_template`:  str\n",
    "        \n",
    "        Text with a replacement field that will be replaced by an index.\n",
    "        \n",
    "    - `rhs_template`: str\n",
    "        \n",
    "         Text with a replacement field that will be replaced by one of the corresponding elements in rhs.\n",
    "        \n",
    "    - `rhs`: list of `float`\n",
    "        \n",
    "        Elements to be enumerated.\n",
    "        \n",
    "    - `nexus`: str, optional\n",
    "        \n",
    "        The text joining the second to last and last elements.\n",
    "        \n",
    "    - `precision`: int\n",
    "        \n",
    "        The number of decimal places.\n",
    "        \n",
    "    - `start_at`: int\n",
    "        \n",
    "        The index of the first element that enters the enumeration.\n",
    "\n",
    "\n",
    "    **Returns**\n",
    "    \n",
    "    - `out`: str\n",
    "        \n",
    "        TeX compatible string.\n",
    "    \"\"\"\n",
    "    \n",
    "    return join([f'{lhs_template} = {rhs_template}'.format(i, r) for i, r in enumerate(rhs, start_at)], nexus=nexus)"
   ]
  },
  {
   "cell_type": "code",
   "execution_count": null,
   "metadata": {},
   "outputs": [
    {
     "data": {
      "text/markdown": [
       "$\\Large s_1 = 1.3$ and $\\Large s_2 = 4.1$"
      ],
      "text/plain": [
       "<IPython.core.display.Markdown object>"
      ]
     },
     "execution_count": null,
     "metadata": {},
     "output_type": "execute_result"
    }
   ],
   "source": [
    "tex = enumerate_assignments('s_{}', '{}', [1.3,4.1])\n",
    "render_latex(tex)"
   ]
  },
  {
   "cell_type": "code",
   "execution_count": null,
   "metadata": {},
   "outputs": [
    {
     "data": {
      "text/markdown": [
       "$\\Large s_4 = 2^{1.3}$ and $\\Large s_5 = 2^{4.1}$"
      ],
      "text/plain": [
       "<IPython.core.display.Markdown object>"
      ]
     },
     "execution_count": null,
     "metadata": {},
     "output_type": "execute_result"
    }
   ],
   "source": [
    "tex = enumerate_assignments('s_{}', '2^{{{}}}', [1.3,4.1], start_at=4)\n",
    "render_latex(tex)"
   ]
  },
  {
   "cell_type": "code",
   "execution_count": null,
   "metadata": {},
   "outputs": [
    {
     "data": {
      "text/markdown": [
       "$\\Large s_4 = 2^{1.3}$, $\\Large s_5 = 2^{4.1}$, $\\Large s_6 = 2^{3}$"
      ],
      "text/plain": [
       "<IPython.core.display.Markdown object>"
      ]
     },
     "execution_count": null,
     "metadata": {},
     "output_type": "execute_result"
    }
   ],
   "source": [
    "tex = enumerate_assignments('s_{}', '2^{{{}}}', [1.3,4.1, 3], start_at=4, nexus=', ')\n",
    "render_latex(tex)"
   ]
  },
  {
   "cell_type": "markdown",
   "metadata": {},
   "source": [
    "## Expanding a symbol"
   ]
  },
  {
   "cell_type": "code",
   "execution_count": null,
   "metadata": {},
   "outputs": [],
   "source": [
    "#| export\n",
    "def expand(template: str, n: int, to_math: bool = False, nexus: str = ' and ', start_at: int = 1) -> str:\n",
    "    \"\"\"\n",
    "    Expand a symbol according to a pattern.\n",
    "\n",
    "    >>> util.expand('s_{}', 3, True)\n",
    "    '$s_1$, $s_2$ and $s_3$'\n",
    "\n",
    "    ***Parameters***\n",
    "    \n",
    "    - `template` : str\n",
    "        \n",
    "        String with a *single* replacement field ({})\n",
    "    - `n` : int\n",
    "        \n",
    "        Requested number of terms\n",
    "    - `to_math` : bool\n",
    "        \n",
    "        If `True`, every output term is enclosed between $'s\n",
    "    - `nexus` : str\n",
    "        \n",
    "        String joining the second to last and last terms.\n",
    "    - `start_at`: int\n",
    "        \n",
    "        The number at which indexes start.\n",
    "\n",
    "    **Returns**\n",
    "    \n",
    "    - `out`: str\n",
    "        \n",
    "        TeX compatible string.\n",
    "    \"\"\"\n",
    "    \n",
    "    return join([template.format(i) for i in range(start_at, start_at + n)], nexus=nexus, to_formula=to_math)\n",
    "\n",
    "assert expand('s_{}', 3, True) == '$s_1$, $s_2$ and $s_3$'"
   ]
  },
  {
   "cell_type": "code",
   "execution_count": null,
   "metadata": {},
   "outputs": [
    {
     "data": {
      "text/markdown": [
       "$\\Large s_1$, $\\Large s_2$ and $\\Large s_3$"
      ],
      "text/plain": [
       "<IPython.core.display.Markdown object>"
      ]
     },
     "execution_count": null,
     "metadata": {},
     "output_type": "execute_result"
    }
   ],
   "source": [
    "tex = expand('s_{}', 3, True)\n",
    "render_latex(tex)"
   ]
  },
  {
   "cell_type": "code",
   "execution_count": null,
   "metadata": {},
   "outputs": [
    {
     "data": {
      "text/markdown": [
       "$\\Large s_1$, $\\Large s_2$, $\\Large s_3$"
      ],
      "text/plain": [
       "<IPython.core.display.Markdown object>"
      ]
     },
     "execution_count": null,
     "metadata": {},
     "output_type": "execute_result"
    }
   ],
   "source": [
    "tex = expand('s_{}', 3, True, nexus=', ')\n",
    "render_latex(tex)"
   ]
  },
  {
   "cell_type": "code",
   "execution_count": null,
   "metadata": {},
   "outputs": [],
   "source": [
    "#| hide\n",
    "from nbdev.doclinks import nbdev_export"
   ]
  },
  {
   "cell_type": "code",
   "execution_count": null,
   "metadata": {},
   "outputs": [],
   "source": [
    "#| hide\n",
    "nbdev_export('10_tex.ipynb')"
   ]
  }
 ],
 "metadata": {
  "kernelspec": {
   "display_name": "python3",
   "language": "python",
   "name": "python3"
  }
 },
 "nbformat": 4,
 "nbformat_minor": 4
}
