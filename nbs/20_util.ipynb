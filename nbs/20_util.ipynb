{
 "cells": [
  {
   "cell_type": "raw",
   "metadata": {},
   "source": [
    "---\n",
    "description: Convenience functions.\n",
    "output-file: util.html\n",
    "title: util\n",
    "---"
   ]
  },
  {
   "cell_type": "code",
   "execution_count": null,
   "metadata": {},
   "outputs": [],
   "source": [
    "#| default_exp util"
   ]
  },
  {
   "cell_type": "markdown",
   "metadata": {},
   "source": [
    "In order to avoid `tqdm`'s experimental warning"
   ]
  },
  {
   "cell_type": "code",
   "execution_count": null,
   "metadata": {},
   "outputs": [],
   "source": [
    "#| include: false\n",
    "import warnings"
   ]
  },
  {
   "cell_type": "code",
   "execution_count": null,
   "metadata": {},
   "outputs": [],
   "source": [
    "warnings.filterwarnings(\"ignore\", message='Using `tqdm.autonotebook.tqdm` in notebook mode')"
   ]
  },
  {
   "cell_type": "code",
   "execution_count": null,
   "metadata": {},
   "outputs": [
    {
     "name": "stderr",
     "output_type": "stream",
     "text": [
      "/home/manu/mambaforge/envs/py2gift/lib/python3.10/site-packages/paramiko/transport.py:219: CryptographyDeprecationWarning: Blowfish has been deprecated\n",
      "  \"class\": algorithms.Blowfish,\n"
     ]
    }
   ],
   "source": [
    "#| export\n",
    "import pathlib\n",
    "import re\n",
    "import sys\n",
    "\n",
    "import numpy as np\n",
    "import IPython.display\n",
    "import ruamel.yaml\n",
    "import yaml\n",
    "import pandas as pd\n",
    "from pandas.core.accessor import _register_accessor as register_accessor\n",
    "\n",
    "import gift_wrapper.core\n",
    "import gift_wrapper.image"
   ]
  },
  {
   "cell_type": "markdown",
   "metadata": {},
   "source": [
    "## Rendering latex in a notebook"
   ]
  },
  {
   "cell_type": "markdown",
   "metadata": {},
   "source": [
    "Convenience function to print $\\LaTeX$ text in Jupyter Notebook **code** (as opposed to *markdown*) cells. The purpose is to print $\\LaTeX$ content that is only known at *run time*. Font size of every formula is increased (to `\\Large`)."
   ]
  },
  {
   "cell_type": "code",
   "execution_count": null,
   "metadata": {},
   "outputs": [],
   "source": [
    "#| export\n",
    "def render_latex(\n",
    "    text: str # Input text\n",
    ") -> str: # Markdown text\n",
    "    \"Returns latex-aware markdown text\"\n",
    "    \n",
    "    return IPython.display.Markdown(re.sub(r'\\$([^\\$]*)\\$', '$' + '\\\\\\Large ' + r'\\1' + '$', text))"
   ]
  },
  {
   "cell_type": "code",
   "execution_count": null,
   "metadata": {},
   "outputs": [
    {
     "data": {
      "text/markdown": [
       "Bla blah..."
      ],
      "text/plain": [
       "<IPython.core.display.Markdown object>"
      ]
     },
     "execution_count": null,
     "metadata": {},
     "output_type": "execute_result"
    }
   ],
   "source": [
    "render_latex('Bla blah...')"
   ]
  },
  {
   "cell_type": "code",
   "execution_count": null,
   "metadata": {},
   "outputs": [
    {
     "data": {
      "text/markdown": [
       "Variable $\\Large A$"
      ],
      "text/plain": [
       "<IPython.core.display.Markdown object>"
      ]
     },
     "execution_count": null,
     "metadata": {},
     "output_type": "execute_result"
    }
   ],
   "source": [
    "render_latex('Variable $A$')"
   ]
  },
  {
   "cell_type": "markdown",
   "metadata": {},
   "source": [
    "## Accessors"
   ]
  },
  {
   "cell_type": "markdown",
   "metadata": {},
   "source": [
    "[Pandas](https://pandas.pydata.org/)'s [accessors mechanishm](https://pandas.pydata.org/docs/reference/api/pandas.api.extensions.register_dataframe_accessor.html) is leveraged here. In order to do that, first Pandas' `_register_accessor` method was *aliased* above as simply `register_accessor`. Then a new *base* class, `AccessorEndowedClass`, from which any class exposing an accessor must inherit, is created. The only thing it does is adding a *class* attribute that is expected by Pandas' `_register_accessor` method."
   ]
  },
  {
   "cell_type": "code",
   "execution_count": null,
   "metadata": {},
   "outputs": [],
   "source": [
    "#| export\n",
    "class AccessorEndowedClass:\n",
    "    \n",
    "    _accessors = set()"
   ]
  },
  {
   "cell_type": "markdown",
   "metadata": {},
   "source": [
    "For instance"
   ]
  },
  {
   "cell_type": "code",
   "execution_count": null,
   "metadata": {},
   "outputs": [],
   "source": [
    "class Car(AccessorEndowedClass):\n",
    "    \n",
    "    def __init__(self, weight):\n",
    "        \n",
    "        self.weight = weight\n",
    "\n",
    "@register_accessor('seat', Car)\n",
    "class SeatAccessor:\n",
    "    \n",
    "    def __init__(self, car: Car):\n",
    "        \n",
    "        self._confortable: bool = True\n",
    "    \n",
    "    @property\n",
    "    def confortable(self):\n",
    "        \n",
    "        return self._confortable"
   ]
  },
  {
   "cell_type": "markdown",
   "metadata": {},
   "source": [
    "Accessing the class itself"
   ]
  },
  {
   "cell_type": "code",
   "execution_count": null,
   "metadata": {},
   "outputs": [
    {
     "data": {
      "text/plain": [
       "1600"
      ]
     },
     "execution_count": null,
     "metadata": {},
     "output_type": "execute_result"
    }
   ],
   "source": [
    "car = Car(1600)\n",
    "car.weight"
   ]
  },
  {
   "cell_type": "markdown",
   "metadata": {},
   "source": [
    "Accessing the *appended* accessor"
   ]
  },
  {
   "cell_type": "code",
   "execution_count": null,
   "metadata": {},
   "outputs": [
    {
     "data": {
      "text/plain": [
       "True"
      ]
     },
     "execution_count": null,
     "metadata": {},
     "output_type": "execute_result"
    }
   ],
   "source": [
    "car.seat.confortable"
   ]
  },
  {
   "cell_type": "markdown",
   "metadata": {},
   "source": [
    "## Assorted"
   ]
  },
  {
   "cell_type": "markdown",
   "metadata": {},
   "source": [
    "A function to turn an integer into a roman number. Adapted from [here](https://www.w3resource.com/python-exercises/class-exercises/python-class-exercise-1.php)."
   ]
  },
  {
   "cell_type": "code",
   "execution_count": null,
   "metadata": {},
   "outputs": [],
   "source": [
    "#| export\n",
    "def int_to_roman(\n",
    "    num: int # Input\n",
    ") -> str: # Roman number for the input\n",
    "    \"Returns an integer number in roman format\"\n",
    "    \n",
    "    val = [\n",
    "        1000, 900, 500, 400,\n",
    "        100, 90, 50, 40,\n",
    "        10, 9, 5, 4,\n",
    "        1\n",
    "    ]\n",
    "    syb = [\n",
    "        \"M\", \"CM\", \"D\", \"CD\",\n",
    "        \"C\", \"XC\", \"L\", \"XL\",\n",
    "        \"X\", \"IX\", \"V\", \"IV\",\n",
    "        \"I\"\n",
    "    ]\n",
    "    roman_num = ''\n",
    "    i = 0\n",
    "    while num > 0:\n",
    "        for _ in range(num // val[i]):\n",
    "            roman_num += syb[i]\n",
    "            num -= val[i]\n",
    "        i += 1\n",
    "    return roman_num\n",
    "\n",
    "assert int_to_roman(12) == 'XII'\n",
    "assert int_to_roman(9) == 'IX'"
   ]
  },
  {
   "cell_type": "code",
   "execution_count": null,
   "metadata": {},
   "outputs": [
    {
     "name": "stdout",
     "output_type": "stream",
     "text": [
      "LIII\n"
     ]
    }
   ],
   "source": [
    "print(int_to_roman(53))"
   ]
  },
  {
   "cell_type": "markdown",
   "metadata": {},
   "source": [
    "## Files"
   ]
  },
  {
   "cell_type": "markdown",
   "metadata": {},
   "source": [
    "### Writing a dictionary into a YAML file"
   ]
  },
  {
   "cell_type": "markdown",
   "metadata": {},
   "source": [
    "A function to write a `dict`ionary to a YAML file with some formatting."
   ]
  },
  {
   "cell_type": "code",
   "execution_count": null,
   "metadata": {},
   "outputs": [],
   "source": [
    "#| export\n",
    "def dict_to_yaml(\n",
    "    d: dict, # Input\n",
    "    output_file: str | pathlib.Path # Ouput\n",
    ") -> None:\n",
    "    \"Writes a dictionary in a YAML file\"\n",
    "    \n",
    "    yaml = ruamel.yaml.YAML()\n",
    "    yaml.indent(sequence=4, offset=2)\n",
    "\n",
    "    with open(output_file, 'w') as f:\n",
    "\n",
    "        yaml.dump(d, f)"
   ]
  },
  {
   "cell_type": "code",
   "execution_count": null,
   "metadata": {},
   "outputs": [],
   "source": [
    "yaml_file = '_test.yaml'\n",
    "d = {'foo': 1, 'ouch': 'psss'}\n",
    "dict_to_yaml(d, yaml_file)"
   ]
  },
  {
   "cell_type": "code",
   "execution_count": null,
   "metadata": {},
   "outputs": [
    {
     "name": "stdout",
     "output_type": "stream",
     "text": [
      "foo: 1\n",
      "ouch: psss\n"
     ]
    }
   ],
   "source": [
    "%cat {yaml_file}"
   ]
  },
  {
   "cell_type": "markdown",
   "metadata": {},
   "source": [
    "### Extracting a dictionary from a YAML file"
   ]
  },
  {
   "cell_type": "code",
   "execution_count": null,
   "metadata": {},
   "outputs": [],
   "source": [
    "#| export\n",
    "def yaml_to_dict(\n",
    "    file: str | pathlib.Path # Input file\n",
    ") -> dict: # Output\n",
    "    \"Reads a dictionary from a YAML file\"\n",
    "\n",
    "    with open(file) as f:\n",
    "\n",
    "        d = yaml.load(f, Loader=yaml.FullLoader)\n",
    "        \n",
    "    return d"
   ]
  },
  {
   "cell_type": "code",
   "execution_count": null,
   "metadata": {},
   "outputs": [
    {
     "data": {
      "text/plain": [
       "{'foo': 1, 'ouch': 'psss'}"
      ]
     },
     "execution_count": null,
     "metadata": {},
     "output_type": "execute_result"
    }
   ],
   "source": [
    "yaml_to_dict(yaml_file)"
   ]
  },
  {
   "cell_type": "code",
   "execution_count": null,
   "metadata": {},
   "outputs": [],
   "source": [
    "%rm {yaml_file}"
   ]
  },
  {
   "cell_type": "markdown",
   "metadata": {},
   "source": [
    "## Writing an input file for gift-wrapper"
   ]
  },
  {
   "cell_type": "code",
   "execution_count": null,
   "metadata": {},
   "outputs": [],
   "source": [
    "#| export\n",
    "def write_multiple_categories(\n",
    "    category_questions: dict[str, list[dict]], # Every key is the name of a category, and every value is a list of questions (every question is itself a dictionary)\n",
    "    pictures_base_directory: str, # The \"pictures base directory\" parameter that must be passed to `gift-wrapper`\n",
    "    output_file: str | None = 'out.yaml' # Output file\n",
    ") -> None:\n",
    "    \"Writes a file suitable as input to `gift-wrapper`\"\n",
    "\n",
    "    file = dict()\n",
    "    file['pictures base directory'] = pictures_base_directory\n",
    "    file['categories'] = []\n",
    "\n",
    "    for category_name, questions in category_questions.items():\n",
    "\n",
    "        file['categories'].append({'name': category_name, 'questions': questions})\n",
    "    \n",
    "    dict_to_yaml(file, output_file)"
   ]
  },
  {
   "cell_type": "markdown",
   "metadata": {},
   "source": [
    "We build a dictionary with questions belonging different categories. This might be read from a *YAML* file."
   ]
  },
  {
   "cell_type": "code",
   "execution_count": null,
   "metadata": {},
   "outputs": [
    {
     "data": {
      "text/plain": [
       "{('Category A',\n",
       "  'Category B'): [{'class': 'MultipleChoice',\n",
       "   'statement': 'Compute the entropy....\\n',\n",
       "   'feedback': 'We just need to...\\n',\n",
       "   'time': '3',\n",
       "   'answers': {'perfect': '1', 'wrong': ['0', '2']},\n",
       "   'name': 'Entropy of a random variable I'}],\n",
       " 'Category C': [{'class': 'Numerical',\n",
       "   'statement': 'Compute the average....\\n',\n",
       "   'feedback': 'In order to...\\n',\n",
       "   'time': '3',\n",
       "   'solution': {'value': 3.1, 'error': '10%'},\n",
       "   'name': 'Mean energy I'}]}"
      ]
     },
     "execution_count": null,
     "metadata": {},
     "output_type": "execute_result"
    }
   ],
   "source": [
    "category_questions_example = {\n",
    "    ('Category A', 'Category B'): [\n",
    "        {\n",
    "            'class': 'MultipleChoice',\n",
    "            'statement': 'Compute the entropy....\\n',\n",
    "            'feedback': 'We just need to...\\n',\n",
    "            'time': '3',\n",
    "            'answers': {\n",
    "                'perfect': '1',\n",
    "                'wrong': ['0', '2']\n",
    "            },\n",
    "            'name': 'Entropy of a random variable I'\n",
    "        }\n",
    "    ],\n",
    "    'Category C': [\n",
    "        {\n",
    "            'class': 'Numerical',\n",
    "            'statement': 'Compute the average....\\n',\n",
    "            'feedback': 'In order to...\\n',\n",
    "            'time': '3',\n",
    "            'solution': {\n",
    "                'value': 3.1,\n",
    "                'error': '10%'\n",
    "            }, \n",
    "            'name': 'Mean energy I'\n",
    "        }\n",
    "    ]\n",
    "}\n",
    "category_questions_example"
   ]
  },
  {
   "cell_type": "code",
   "execution_count": null,
   "metadata": {},
   "outputs": [],
   "source": [
    "output_file = '_output.yaml'\n",
    "write_multiple_categories(category_questions_example, 'pics', output_file)"
   ]
  },
  {
   "cell_type": "code",
   "execution_count": null,
   "metadata": {},
   "outputs": [
    {
     "name": "stdout",
     "output_type": "stream",
     "text": [
      "pictures base directory: pics\n",
      "categories:\n",
      "  - name:\n",
      "      - Category A\n",
      "      - Category B\n",
      "    questions:\n",
      "      - class: MultipleChoice\n",
      "        statement: \"Compute the entropy....\\n\"\n",
      "        feedback: \"We just need to...\\n\"\n",
      "        time: '3'\n",
      "        answers:\n",
      "          perfect: '1'\n",
      "          wrong:\n",
      "            - '0'\n",
      "            - '2'\n",
      "        name: Entropy of a random variable I\n",
      "  - name: Category C\n",
      "    questions:\n",
      "      - class: Numerical\n",
      "        statement: \"Compute the average....\\n\"\n",
      "        feedback: \"In order to...\\n\"\n",
      "        time: '3'\n",
      "        solution:\n",
      "          value: 3.1\n",
      "          error: 10%\n",
      "        name: Mean energy I\n"
     ]
    }
   ],
   "source": [
    "%cat {output_file}"
   ]
  },
  {
   "cell_type": "code",
   "execution_count": null,
   "metadata": {},
   "outputs": [],
   "source": [
    "!rm {output_file}"
   ]
  },
  {
   "cell_type": "markdown",
   "metadata": {},
   "source": [
    "## Question-related"
   ]
  },
  {
   "cell_type": "markdown",
   "metadata": {},
   "source": [
    "### Naming different versions (instances) of a question"
   ]
  },
  {
   "cell_type": "markdown",
   "metadata": {},
   "source": [
    "Adds a name to every question in a list based on a pattern. It is meant to distinctly name different versions of the same question. Notice that, for this function, a *question* is simply a dictionary (no checks are performed)."
   ]
  },
  {
   "cell_type": "code",
   "execution_count": null,
   "metadata": {},
   "outputs": [],
   "source": [
    "#| export\n",
    "def add_name(\n",
    "    questions: list[dict], # List of questions; every question is a dictionary\n",
    "    base_name: str # All the questions will be given this name and a different (Roman) number\n",
    ") -> list[dict]: # List with the same questions after adding the corresponding name to each one\n",
    "    \"Adds a name to every question based on a pattern\"\n",
    "\n",
    "    res = []\n",
    "\n",
    "    for i_q, q in enumerate(questions):\n",
    "\n",
    "        res.append({**q, 'name': f'{base_name} {int_to_roman(i_q + 1)}'})\n",
    "\n",
    "    return res\n",
    "\n",
    "assert add_name([{'k1': 'aa', 'k2': 1}, {'k3': 'pi', 'foo': 'variance'}], 'Viterbi') == [\n",
    "    {'k1': 'aa', 'k2': 1, 'name': 'Viterbi I'}, {'k3': 'pi', 'foo': 'variance', 'name': 'Viterbi II'}]"
   ]
  },
  {
   "cell_type": "code",
   "execution_count": null,
   "metadata": {},
   "outputs": [
    {
     "data": {
      "text/plain": [
       "[{'k1': 'aa', 'k2': 1, 'name': 'base I'},\n",
       " {'k3': 'pi', 'foo': 'variance', 'name': 'base II'}]"
      ]
     },
     "execution_count": null,
     "metadata": {},
     "output_type": "execute_result"
    }
   ],
   "source": [
    "add_name([{'k1': 'aa', 'k2': 1}, {'k3': 'pi', 'foo': 'variance'}], 'base')"
   ]
  },
  {
   "cell_type": "markdown",
   "metadata": {},
   "source": [
    "### Obtaining wrong solutions from the correct one"
   ]
  },
  {
   "cell_type": "code",
   "execution_count": null,
   "metadata": {},
   "outputs": [],
   "source": [
    "#| export\n",
    "def wrong_numerical_solutions_from_correct_one(\n",
    "    solution: float, # The actual solution\n",
    "    n: int, # The number of wrong solutions\n",
    "    min_sep: float, # Minimum separation\n",
    "    max_sep: float, # Maximum separation\n",
    "    lower_bound: float | None = -np.inf, # A lower bound on the returned numbers\n",
    "    upper_bound: float | None = np.inf, # A upper bound on the returned numbers\n",
    "    precision: int | None = 4, # The number of decimal places\n",
    "    to_str: bool | None = True, # If `True`, every element in the result will be converted to a string\n",
    "    fixed_point_format: bool | None = False, # Only meaningful when `to_str` is `True`. In such case, if `True` a fixed-point format (`f`) is used regardless of the actual type\n",
    "    bin_width: float | None = None, # The granularity on the answers: every one will be a multiple of this parameter\n",
    "    unique: bool | None = False, # If `True`, all the answers will be different\n",
    "    prng: np.random.RandomState | None = np.random.RandomState(42) # A pseudo-random numbers generator\n",
    ") -> list[float] | list[str]: # The random wrong solutions\n",
    "    \"Generates random numerical wrong answers given the correct one\"\n",
    "    \n",
    "    max_iterations = 1_000\n",
    "    \n",
    "    # in the current implementation all the answers are generated by pivoting around the solution; in order to prevent the correct solution being approximately in the middle, more wrong answers than requested are generated and, in the end, the requested number is randomly picked\n",
    "    n_generated = n + 5\n",
    "    \n",
    "    assert (solution - min_sep > lower_bound) or (solution + min_sep < upper_bound)\n",
    "    \n",
    "    if bin_width:\n",
    "        \n",
    "        assert bin_width < (max_sep - min_sep)\n",
    "    \n",
    "    res = []\n",
    "    \n",
    "    for i in range(max_iterations):\n",
    "        \n",
    "        if bin_width:\n",
    "        \n",
    "            candidates = np.arange(min_sep, max_sep, bin_width)\n",
    "            steps = prng.choice(candidates, size=2).round(precision)\n",
    "        \n",
    "        else:\n",
    "            \n",
    "            # one number to be added to the `solution` solution and one to be subracted\n",
    "            steps = prng.uniform(min_sep, max_sep, size=2)\n",
    "\n",
    "        next_values = [v.round(precision)\n",
    "                       for v in [solution + steps[0], solution - steps[1]] if lower_bound < v < upper_bound]\n",
    "        if unique:\n",
    "            \n",
    "            next_values = [e for e in next_values if e not in set(res)]\n",
    "        \n",
    "        res.extend(next_values)\n",
    "\n",
    "        if len(res) >= n:\n",
    "        \n",
    "            break\n",
    "            \n",
    "    else:\n",
    "        \n",
    "        raise Exception(f\"Parameters are too much constraining, can't find the solution after {max_iterations}\")\n",
    "    \n",
    "    if to_str:\n",
    "        \n",
    "        format_specifier = f'.{precision}{\"f\" if fixed_point_format else \"g\"}'\n",
    "        \n",
    "#         res = [str(e) for e in res]\n",
    "        res = [f'{e:{format_specifier}}' for e in res]\n",
    "    \n",
    "#     return res[:n]\n",
    "    return prng.choice(res, n, replace=False).tolist()"
   ]
  },
  {
   "cell_type": "code",
   "execution_count": null,
   "metadata": {},
   "outputs": [
    {
     "data": {
      "text/plain": [
       "['1.14',\n",
       " '1.193',\n",
       " '1.05',\n",
       " '0.9232',\n",
       " '0.3535',\n",
       " '0.4168',\n",
       " '0.4605',\n",
       " '0.3197',\n",
       " '0.9624',\n",
       " '0.6376']"
      ]
     },
     "execution_count": null,
     "metadata": {},
     "output_type": "execute_result"
    }
   ],
   "source": [
    "wrong_numerical_solutions_from_correct_one(solution=0.8, n=10, min_sep=0.1, max_sep=0.5, lower_bound=0.2, upper_bound=2, prng = np.random.RandomState(42))"
   ]
  },
  {
   "cell_type": "markdown",
   "metadata": {},
   "source": [
    "Numbers instead of strings"
   ]
  },
  {
   "cell_type": "code",
   "execution_count": null,
   "metadata": {},
   "outputs": [
    {
     "data": {
      "text/plain": [
       "[0.3148, 0.4204, 0.5532, 0.3401]"
      ]
     },
     "execution_count": null,
     "metadata": {},
     "output_type": "execute_result"
    }
   ],
   "source": [
    "wrong_numerical_solutions_from_correct_one(\n",
    "    solution=0.8, n=4, min_sep=0.2, max_sep=0.5, lower_bound=0.2, upper_bound=0.9, to_str=False,\n",
    "    prng = np.random.RandomState(42))"
   ]
  },
  {
   "cell_type": "markdown",
   "metadata": {},
   "source": [
    "If the solution cannot be *anything*, you might want to pass a `bin_width` so that it doesn't immediately stand out from the wrong answers,"
   ]
  },
  {
   "cell_type": "code",
   "execution_count": null,
   "metadata": {},
   "outputs": [
    {
     "data": {
      "text/plain": [
       "[1.1, 1.5, 0.2, 0.6, 1.5, 1.2, 1.9, 1.9]"
      ]
     },
     "execution_count": null,
     "metadata": {},
     "output_type": "execute_result"
    }
   ],
   "source": [
    "wrong_numerical_solutions_from_correct_one(\n",
    "    solution=0.8, n=8, min_sep=0.1, max_sep=2, lower_bound=0.2, upper_bound=2, to_str=False, bin_width=0.1,\n",
    "    prng = np.random.RandomState(42))"
   ]
  },
  {
   "cell_type": "markdown",
   "metadata": {},
   "source": [
    "If duplicates must be avoided `unique` can be set to `True`,"
   ]
  },
  {
   "cell_type": "code",
   "execution_count": null,
   "metadata": {},
   "outputs": [
    {
     "data": {
      "text/plain": [
       "[1.0, 1.2, 1.5, 0.7, 0.6, 0.2, 1.9, 1.1]"
      ]
     },
     "execution_count": null,
     "metadata": {},
     "output_type": "execute_result"
    }
   ],
   "source": [
    "wrong_numerical_solutions_from_correct_one(\n",
    "    solution=0.8, n=8, min_sep=0.1, max_sep=2, lower_bound=0.2, upper_bound=2, to_str=False, bin_width=0.1,\n",
    "    unique=True, prng = np.random.RandomState(42))"
   ]
  },
  {
   "cell_type": "markdown",
   "metadata": {},
   "source": [
    "Lower and upper bound can be ommited"
   ]
  },
  {
   "cell_type": "code",
   "execution_count": null,
   "metadata": {},
   "outputs": [
    {
     "data": {
      "text/plain": [
       "[6.4, -8.9, 9.5, -1.7, -6.8, 7.3, -8.3, 2.7]"
      ]
     },
     "execution_count": null,
     "metadata": {},
     "output_type": "execute_result"
    }
   ],
   "source": [
    "wrong_numerical_solutions_from_correct_one(\n",
    "    solution=0.8, n=8, min_sep=0.5, max_sep=10, to_str=False, bin_width=0.1, unique=True,\n",
    "    prng = np.random.RandomState(42))"
   ]
  },
  {
   "cell_type": "markdown",
   "metadata": {},
   "source": [
    "When requesting strings, a floating point format can be enforced by using the parameter `fixed_point_format`,"
   ]
  },
  {
   "cell_type": "code",
   "execution_count": null,
   "metadata": {},
   "outputs": [
    {
     "data": {
      "text/plain": [
       "['6.4000',\n",
       " '-8.9000',\n",
       " '9.5000',\n",
       " '-1.7000',\n",
       " '-6.8000',\n",
       " '7.3000',\n",
       " '-8.3000',\n",
       " '2.7000']"
      ]
     },
     "execution_count": null,
     "metadata": {},
     "output_type": "execute_result"
    }
   ],
   "source": [
    "wrong_numerical_solutions_from_correct_one(\n",
    "    solution=0.8, n=8, min_sep=0.5, max_sep=10, to_str=True, fixed_point_format=True, bin_width=0.1, unique=True,\n",
    "    prng = np.random.RandomState(42))"
   ]
  },
  {
   "cell_type": "code",
   "execution_count": null,
   "metadata": {},
   "outputs": [],
   "source": [
    "#| hide\n",
    "from nbdev.doclinks import nbdev_export"
   ]
  },
  {
   "cell_type": "code",
   "execution_count": null,
   "metadata": {},
   "outputs": [],
   "source": [
    "#| hide\n",
    "nbdev_export('20_util.ipynb')"
   ]
  }
 ],
 "metadata": {
  "kernelspec": {
   "display_name": "python3",
   "language": "python",
   "name": "python3"
  }
 },
 "nbformat": 4,
 "nbformat_minor": 4
}
