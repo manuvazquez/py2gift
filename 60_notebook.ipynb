{
 "cells": [
  {
   "cell_type": "raw",
   "metadata": {},
   "source": [
    "---\n",
    "description: Functions to use `py2gift` from a Jupyter notebook.\n",
    "output-file: notebook.html\n",
    "title: Notebook\n",
    "\n",
    "---\n",
    "\n"
   ]
  },
  {
   "cell_type": "code",
   "execution_count": 1,
   "metadata": {},
   "outputs": [],
   "source": [
    "#| default_exp notebook"
   ]
  },
  {
   "cell_type": "code",
   "execution_count": 2,
   "metadata": {},
   "outputs": [],
   "source": [
    "#| export\n",
    "import argparse\n",
    "import json\n",
    "\n",
    "from IPython.core.magic import Magics, magics_class, line_magic, cell_magic, line_cell_magic\n",
    "\n",
    "import py2gift.input_file"
   ]
  },
  {
   "cell_type": "markdown",
   "metadata": {},
   "source": [
    "## Convenience functions"
   ]
  },
  {
   "cell_type": "markdown",
   "metadata": {},
   "source": [
    "A class to act as a *container*. This will be useful to simulate a *Python* module."
   ]
  },
  {
   "cell_type": "code",
   "execution_count": 3,
   "metadata": {},
   "outputs": [],
   "source": [
    "#| export\n",
    "class ClassesContainer:\n",
    "    \n",
    "    def add(cls, class_to_add):\n",
    "        \n",
    "        setattr(cls, class_to_add.__name__, class_to_add)"
   ]
  },
  {
   "cell_type": "code",
   "execution_count": 4,
   "metadata": {},
   "outputs": [],
   "source": [
    "classes_container = ClassesContainer()"
   ]
  },
  {
   "cell_type": "code",
   "execution_count": 5,
   "metadata": {},
   "outputs": [],
   "source": [
    "class DummyClass:\n",
    "    \n",
    "    n = 3"
   ]
  },
  {
   "cell_type": "code",
   "execution_count": 6,
   "metadata": {},
   "outputs": [],
   "source": [
    "classes_container.add(DummyClass)"
   ]
  },
  {
   "cell_type": "code",
   "execution_count": 7,
   "metadata": {},
   "outputs": [
    {
     "data": {
      "text/plain": [
       "__main__.DummyClass"
      ]
     },
     "execution_count": 7,
     "metadata": {},
     "output_type": "execute_result"
    }
   ],
   "source": [
    "classes_container.DummyClass"
   ]
  },
  {
   "cell_type": "code",
   "execution_count": 8,
   "metadata": {},
   "outputs": [
    {
     "data": {
      "text/plain": [
       "3"
      ]
     },
     "execution_count": 8,
     "metadata": {},
     "output_type": "execute_result"
    }
   ],
   "source": [
    "classes_container.DummyClass.n"
   ]
  },
  {
   "cell_type": "markdown",
   "metadata": {},
   "source": [
    "## Magics"
   ]
  },
  {
   "cell_type": "code",
   "execution_count": 9,
   "metadata": {},
   "outputs": [],
   "source": [
    "#| export\n",
    "# The class MUST call this class decorator at creation time\n",
    "@magics_class\n",
    "class MyMagics(Magics):\n",
    "    \n",
    "    statement_key = 'statement'\n",
    "    feedback_key = 'feedback'\n",
    "    \n",
    "    def __init__(self, shell=None,  **kwargs):\n",
    "        \n",
    "        super().__init__(shell=shell, **kwargs)\n",
    "        \n",
    "        \n",
    "        self.location_parser = argparse.ArgumentParser(description='Specification')\n",
    "        self.location_parser.add_argument('settings', help='Settings object')\n",
    "        self.location_parser.add_argument('-c', '--cls', default=None, help='class')\n",
    "        \n",
    "        # the name of a category can contain spaces; notice that this will yield a *list* rather than a string\n",
    "        self.location_parser.add_argument('-C', '--category', default=None, nargs='+', help='category')\n",
    "    \n",
    "    def process(self, line: str, cell: str, key: str):\n",
    "        \n",
    "        line_arguments = self.location_parser.parse_args(line.split())\n",
    "        \n",
    "#         print(f'line_arguments.category={line_arguments.category}')\n",
    "        \n",
    "        if line_arguments.category:\n",
    "            \n",
    "            category = json.loads(' '.join(line_arguments.category))\n",
    "        \n",
    "        else:\n",
    "            \n",
    "            category = None\n",
    "        \n",
    "        settings = self.shell.user_ns[line_arguments.settings]\n",
    "        \n",
    "        if category is None:\n",
    "            \n",
    "            category = settings.store['categories'][-1]['name']\n",
    "            \n",
    "        \n",
    "        cls = line_arguments.cls\n",
    "        \n",
    "        if cls is None:\n",
    "            \n",
    "            cls = settings.locate(category_name=category)['classes'][-1]['name']\n",
    "        \n",
    "\n",
    "#         print(f'category={category}, class={cls}')\n",
    "        \n",
    "        settings.locate(category_name=category, class_name=cls)[key] = cell\n",
    "\n",
    "    @cell_magic\n",
    "    def statement(self, line, cell):\n",
    "\n",
    "        self.process(line, cell, self.statement_key)\n",
    "        \n",
    "        return f'statement recorded'\n",
    "    \n",
    "    @cell_magic\n",
    "    def feedback(self, line, cell):\n",
    "        \n",
    "        self.process(line, cell, self.feedback_key)\n",
    "        \n",
    "        return f'feedback recorded'"
   ]
  },
  {
   "cell_type": "markdown",
   "metadata": {},
   "source": [
    "## Parser"
   ]
  },
  {
   "cell_type": "markdown",
   "metadata": {},
   "source": [
    "The class can be instantiated directly,"
   ]
  },
  {
   "cell_type": "code",
   "execution_count": 10,
   "metadata": {},
   "outputs": [],
   "source": [
    "m = MyMagics()"
   ]
  },
  {
   "cell_type": "markdown",
   "metadata": {},
   "source": [
    "to test the parser,"
   ]
  },
  {
   "cell_type": "code",
   "execution_count": 11,
   "metadata": {},
   "outputs": [
    {
     "data": {
      "text/plain": [
       "Namespace(settings='settings', cls='myclass', category=['mycategory'])"
      ]
     },
     "execution_count": 11,
     "metadata": {},
     "output_type": "execute_result"
    }
   ],
   "source": [
    "m.location_parser.parse_args('settings -c myclass -C mycategory'.split())"
   ]
  },
  {
   "cell_type": "markdown",
   "metadata": {},
   "source": [
    "When no category nor class are passed:"
   ]
  },
  {
   "cell_type": "code",
   "execution_count": 12,
   "metadata": {},
   "outputs": [
    {
     "data": {
      "text/plain": [
       "Namespace(settings='settings', cls=None, category=None)"
      ]
     },
     "execution_count": 12,
     "metadata": {},
     "output_type": "execute_result"
    }
   ],
   "source": [
    "m.location_parser.parse_args('settings'.split())"
   ]
  },
  {
   "cell_type": "markdown",
   "metadata": {},
   "source": [
    "Parsed category is always a list"
   ]
  },
  {
   "cell_type": "code",
   "execution_count": 13,
   "metadata": {},
   "outputs": [
    {
     "data": {
      "text/plain": [
       "Namespace(settings='settings', cls='myc', category=['cat', '1'])"
      ]
     },
     "execution_count": 13,
     "metadata": {},
     "output_type": "execute_result"
    }
   ],
   "source": [
    "m.location_parser.parse_args('settings -c myc -C cat 1'.split())"
   ]
  },
  {
   "cell_type": "markdown",
   "metadata": {},
   "source": [
    "`json` should be used to pass the category. Then, within the *magic*, the `category` list is joined (with a space) and parsed back using `json` to whatever type it originally had."
   ]
  },
  {
   "cell_type": "code",
   "execution_count": 14,
   "metadata": {},
   "outputs": [
    {
     "data": {
      "text/plain": [
       "'foo'"
      ]
     },
     "execution_count": 14,
     "metadata": {},
     "output_type": "execute_result"
    }
   ],
   "source": [
    "category = 'foo'\n",
    "line = m.location_parser.parse_args(f'settings -c myc -C {json.dumps(category)}'.split())\n",
    "json.loads(' '.join(line.category))"
   ]
  },
  {
   "cell_type": "code",
   "execution_count": 15,
   "metadata": {},
   "outputs": [
    {
     "data": {
      "text/plain": [
       "'foo foo'"
      ]
     },
     "execution_count": 15,
     "metadata": {},
     "output_type": "execute_result"
    }
   ],
   "source": [
    "category = 'foo foo'\n",
    "line = m.location_parser.parse_args(f'settings -c myc -C {json.dumps(category)}'.split())\n",
    "json.loads(' '.join(line.category))"
   ]
  },
  {
   "cell_type": "code",
   "execution_count": 16,
   "metadata": {},
   "outputs": [
    {
     "data": {
      "text/plain": [
       "['cat', 'subcat']"
      ]
     },
     "execution_count": 16,
     "metadata": {},
     "output_type": "execute_result"
    }
   ],
   "source": [
    "category = ['cat', 'subcat']\n",
    "line = m.location_parser.parse_args(f'settings -c myc -C {json.dumps(category)}'.split())\n",
    "json.loads(' '.join(line.category))"
   ]
  },
  {
   "cell_type": "markdown",
   "metadata": {},
   "source": [
    "Notice that a `json`-*dumped* string is not equal to the string,"
   ]
  },
  {
   "cell_type": "code",
   "execution_count": 17,
   "metadata": {},
   "outputs": [
    {
     "data": {
      "text/plain": [
       "False"
      ]
     },
     "execution_count": 17,
     "metadata": {},
     "output_type": "execute_result"
    }
   ],
   "source": [
    "json.dumps('Category 1') == 'Category 1'"
   ]
  },
  {
   "cell_type": "markdown",
   "metadata": {},
   "source": [
    "meaning that, if in a variable, the category must **always** be dumped"
   ]
  },
  {
   "cell_type": "markdown",
   "metadata": {},
   "source": [
    "## Actual use"
   ]
  },
  {
   "cell_type": "markdown",
   "metadata": {},
   "source": [
    "*Magics* must be somehow registered"
   ]
  },
  {
   "cell_type": "code",
   "execution_count": 18,
   "metadata": {},
   "outputs": [],
   "source": [
    "#| export\n",
    "\n",
    "get_ipython().register_magics(MyMagics)"
   ]
  },
  {
   "cell_type": "code",
   "execution_count": 19,
   "metadata": {},
   "outputs": [],
   "source": [
    "# %lmagic -n foo"
   ]
  },
  {
   "cell_type": "code",
   "execution_count": 20,
   "metadata": {},
   "outputs": [],
   "source": [
    "settings = py2gift.input_file.Settings()\n",
    "category_name = settings.add_category('Category 1')\n",
    "settings.add_or_update_class(category_name=category_name, class_name='question name', question_base_name='base name', n_instances=2)"
   ]
  },
  {
   "cell_type": "code",
   "execution_count": 21,
   "metadata": {},
   "outputs": [
    {
     "data": {
      "text/plain": [
       "{'output file': 'quiz.yaml',\n",
       " 'pictures base directory': 'quiz/pics',\n",
       " 'categories': [{'name': 'Category 1',\n",
       "   'classes': [{'name': 'question name',\n",
       "     'question base name': 'base name',\n",
       "     'number of instances': 2}]}]}"
      ]
     },
     "execution_count": 21,
     "metadata": {},
     "output_type": "execute_result"
    }
   ],
   "source": [
    "settings.to_dict()"
   ]
  },
  {
   "cell_type": "code",
   "execution_count": 22,
   "metadata": {},
   "outputs": [
    {
     "data": {
      "text/plain": [
       "'statement recorded'"
      ]
     },
     "execution_count": 22,
     "metadata": {},
     "output_type": "execute_result"
    }
   ],
   "source": [
    "%%statement settings\n",
    "Consider\n",
    "\n",
    "bla bla"
   ]
  },
  {
   "cell_type": "code",
   "execution_count": 23,
   "metadata": {},
   "outputs": [
    {
     "data": {
      "text/plain": [
       "{'categories': [{'classes': [{'name': 'question name',\n",
       "                              'number of instances': 2,\n",
       "                              'question base name': 'base name',\n",
       "                              'statement': 'Consider\\n\\nbla bla\\n'}],\n",
       "                 'name': 'Category 1'}],\n",
       " 'output file': 'quiz.yaml',\n",
       " 'pictures base directory': 'quiz/pics'}"
      ]
     },
     "execution_count": 23,
     "metadata": {},
     "output_type": "execute_result"
    }
   ],
   "source": [
    "settings"
   ]
  },
  {
   "cell_type": "code",
   "execution_count": 24,
   "metadata": {},
   "outputs": [],
   "source": [
    "cls = 'ClassA'\n",
    "category = 'Category 1'\n",
    "settings.add_or_update_class(category_name=category, class_name=cls, question_base_name='base name', n_instances=2)"
   ]
  },
  {
   "cell_type": "code",
   "execution_count": 25,
   "metadata": {},
   "outputs": [
    {
     "data": {
      "text/plain": [
       "{'categories': [{'classes': [{'name': 'question name',\n",
       "                              'number of instances': 2,\n",
       "                              'question base name': 'base name',\n",
       "                              'statement': 'Consider\\n\\nbla bla\\n'},\n",
       "                             {'name': 'ClassA',\n",
       "                              'number of instances': 2,\n",
       "                              'question base name': 'base name'}],\n",
       "                 'name': 'Category 1'}],\n",
       " 'output file': 'quiz.yaml',\n",
       " 'pictures base directory': 'quiz/pics'}"
      ]
     },
     "execution_count": 25,
     "metadata": {},
     "output_type": "execute_result"
    }
   ],
   "source": [
    "settings"
   ]
  },
  {
   "cell_type": "code",
   "execution_count": 26,
   "metadata": {},
   "outputs": [
    {
     "data": {
      "text/plain": [
       "'statement recorded'"
      ]
     },
     "execution_count": 26,
     "metadata": {},
     "output_type": "execute_result"
    }
   ],
   "source": [
    "%%statement settings -c {cls} -C {json.dumps(category)}\n",
    "more blah"
   ]
  },
  {
   "cell_type": "code",
   "execution_count": 27,
   "metadata": {},
   "outputs": [],
   "source": [
    "cls = 'cls'\n",
    "category = 'foo foo'\n",
    "\n",
    "settings = py2gift.input_file.Settings()\n",
    "category_name = settings.add_category(category)\n",
    "settings.add_or_update_class(category_name=category_name, class_name=cls, question_base_name='base name', n_instances=2)"
   ]
  },
  {
   "cell_type": "code",
   "execution_count": 28,
   "metadata": {},
   "outputs": [
    {
     "data": {
      "text/plain": [
       "'statement recorded'"
      ]
     },
     "execution_count": 28,
     "metadata": {},
     "output_type": "execute_result"
    }
   ],
   "source": [
    "%%statement settings -C {json.dumps(category)} -c {cls}\n",
    "more"
   ]
  },
  {
   "cell_type": "code",
   "execution_count": 29,
   "metadata": {},
   "outputs": [],
   "source": [
    "cls = 'cls'\n",
    "category = 'wap wap'\n",
    "base_category = 'oh'\n",
    "\n",
    "settings = py2gift.input_file.Settings()\n",
    "category_name = settings.add_category(category_name=category, base_category=base_category)\n",
    "settings.add_or_update_class(category_name=category_name, class_name=cls, question_base_name='base name', n_instances=2)"
   ]
  },
  {
   "cell_type": "code",
   "execution_count": 30,
   "metadata": {},
   "outputs": [
    {
     "data": {
      "text/plain": [
       "['oh', 'oh/wap wap']"
      ]
     },
     "execution_count": 30,
     "metadata": {},
     "output_type": "execute_result"
    }
   ],
   "source": [
    "category_name"
   ]
  },
  {
   "cell_type": "code",
   "execution_count": 31,
   "metadata": {},
   "outputs": [
    {
     "data": {
      "text/plain": [
       "{'categories': [{'classes': [{'name': 'cls',\n",
       "                              'number of instances': 2,\n",
       "                              'question base name': 'base name'}],\n",
       "                 'name': ['oh', 'oh/wap wap']}],\n",
       " 'output file': 'quiz.yaml',\n",
       " 'pictures base directory': 'quiz/pics'}"
      ]
     },
     "execution_count": 31,
     "metadata": {},
     "output_type": "execute_result"
    }
   ],
   "source": [
    "settings"
   ]
  },
  {
   "cell_type": "code",
   "execution_count": 32,
   "metadata": {},
   "outputs": [
    {
     "data": {
      "text/plain": [
       "'feedback recorded'"
      ]
     },
     "execution_count": 32,
     "metadata": {},
     "output_type": "execute_result"
    }
   ],
   "source": [
    "%%feedback  settings -C {json.dumps(category_name)} -c {cls}\n",
    "We must..."
   ]
  },
  {
   "cell_type": "code",
   "execution_count": 33,
   "metadata": {},
   "outputs": [
    {
     "data": {
      "text/plain": [
       "{'categories': [{'classes': [{'feedback': 'We must...\\n',\n",
       "                              'name': 'cls',\n",
       "                              'number of instances': 2,\n",
       "                              'question base name': 'base name'}],\n",
       "                 'name': ['oh', 'oh/wap wap']}],\n",
       " 'output file': 'quiz.yaml',\n",
       " 'pictures base directory': 'quiz/pics'}"
      ]
     },
     "execution_count": 33,
     "metadata": {},
     "output_type": "execute_result"
    }
   ],
   "source": [
    "settings"
   ]
  },
  {
   "cell_type": "code",
   "execution_count": 34,
   "metadata": {},
   "outputs": [
    {
     "name": "stdout",
     "output_type": "stream",
     "text": [
      "Converted 60_notebook.ipynb.\n"
     ]
    }
   ],
   "source": [
    "#| include: false\n",
    "import nbdev.export\n",
    "nbdev.export.nbdev_export('60_notebook.ipynb')"
   ]
  }
 ],
 "metadata": {
  "kernelspec": {
   "display_name": "Python 3 (ipykernel)",
   "language": "python",
   "name": "python3"
  },
  "language_info": {
   "codemirror_mode": {
    "name": "ipython",
    "version": 3
   },
   "file_extension": ".py",
   "mimetype": "text/x-python",
   "name": "python",
   "nbconvert_exporter": "python",
   "pygments_lexer": "ipython3",
   "version": "3.10.4"
  }
 },
 "nbformat": 4,
 "nbformat_minor": 4
}
