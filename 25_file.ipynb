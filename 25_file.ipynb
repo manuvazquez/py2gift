{
 "cells": [
  {
   "cell_type": "raw",
   "metadata": {},
   "source": [
    "---\n",
    "description: Functions to deal, in general, with files\n",
    "output-file: file.html\n",
    "title: File\n",
    "\n",
    "---\n",
    "\n"
   ]
  },
  {
   "cell_type": "code",
   "execution_count": 1,
   "metadata": {},
   "outputs": [],
   "source": [
    "#| default_exp file"
   ]
  },
  {
   "cell_type": "code",
   "execution_count": 2,
   "metadata": {},
   "outputs": [],
   "source": [
    "#| export\n",
    "import pathlib\n",
    "import uuid\n",
    "from typing import Union"
   ]
  },
  {
   "cell_type": "markdown",
   "metadata": {},
   "source": [
    "## Suffixing the name of a file"
   ]
  },
  {
   "cell_type": "markdown",
   "metadata": {},
   "source": [
    "A small utility function to derive a file path by appending something to the name (and *only* to the name)."
   ]
  },
  {
   "cell_type": "code",
   "execution_count": 3,
   "metadata": {},
   "outputs": [],
   "source": [
    "#| export\n",
    "def supplement_file_name(file: Union[str, pathlib.Path], sup: str) -> pathlib.Path:\n",
    "    \"\"\"\n",
    "    Adds a string between the file name in a path and the suffix.\n",
    "\n",
    "    **Parameters**\n",
    "    \n",
    "    - `file` : str\n",
    "        \n",
    "        File name\n",
    "    \n",
    "    - `sup` : str\n",
    "        \n",
    "        String to be added\n",
    "\n",
    "    **Returns**\n",
    "    \n",
    "    - `out`: pathlib.Path\n",
    "        \n",
    "        \"Supplemented\" file\n",
    "\n",
    "    \"\"\"\n",
    "\n",
    "    file = pathlib.Path(file)\n",
    "\n",
    "    # the `suffix` is incorporated into the file name\n",
    "    return file.with_name(file.stem + f'_{sup}' + file.suffix)\n",
    "\n",
    "assert supplement_file_name('/a/b/quixote.tex', 'foo') == pathlib.Path('/a/b/quixote_foo.tex')"
   ]
  },
  {
   "cell_type": "code",
   "execution_count": 4,
   "metadata": {},
   "outputs": [
    {
     "data": {
      "text/plain": [
       "PosixPath('/a/b/picture_1.tex')"
      ]
     },
     "execution_count": 4,
     "metadata": {},
     "output_type": "execute_result"
    }
   ],
   "source": [
    "supplement_file_name('/a/b/picture.tex', '1')"
   ]
  },
  {
   "cell_type": "markdown",
   "metadata": {},
   "source": [
    "## Generating a unique file name"
   ]
  },
  {
   "cell_type": "code",
   "execution_count": 5,
   "metadata": {},
   "outputs": [],
   "source": [
    "#| export\n",
    "def unique_name(file: Union[str, pathlib.Path]) -> pathlib.Path:\n",
    "    \"\"\"\n",
    "    Builds a unique file name out of a given one.\n",
    "\n",
    "    **Parameters**\n",
    "    \n",
    "    - `file` : str\n",
    "        \n",
    "        Input file name.\n",
    "\n",
    "    **Returns**\n",
    "    \n",
    "    - `out`: pathlib.Path\n",
    "        \n",
    "        Unique file name.\n",
    "\n",
    "    \"\"\"\n",
    "    \n",
    "    return supplement_file_name(file, uuid.uuid1())"
   ]
  },
  {
   "cell_type": "code",
   "execution_count": 6,
   "metadata": {},
   "outputs": [
    {
     "data": {
      "text/plain": [
       "PosixPath('docs/a_684b0286-ad14-11ec-9cb9-d8cb8aeac823.pdf')"
      ]
     },
     "execution_count": 6,
     "metadata": {},
     "output_type": "execute_result"
    }
   ],
   "source": [
    "unique_name('docs/a.pdf')"
   ]
  },
  {
   "cell_type": "code",
   "execution_count": 7,
   "metadata": {},
   "outputs": [
    {
     "name": "stdout",
     "output_type": "stream",
     "text": [
      "Converted 25_file.ipynb.\n"
     ]
    }
   ],
   "source": [
    "#| include: false\n",
    "import nbdev.export\n",
    "nbdev.export.nbdev_export('25_file.ipynb')"
   ]
  }
 ],
 "metadata": {
  "kernelspec": {
   "display_name": "Python 3 (ipykernel)",
   "language": "python",
   "name": "python3"
  },
  "language_info": {
   "codemirror_mode": {
    "name": "ipython",
    "version": 3
   },
   "file_extension": ".py",
   "mimetype": "text/x-python",
   "name": "python",
   "nbconvert_exporter": "python",
   "pygments_lexer": "ipython3",
   "version": "3.10.4"
  }
 },
 "nbformat": 4,
 "nbformat_minor": 4
}
