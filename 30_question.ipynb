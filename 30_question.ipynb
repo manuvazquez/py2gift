{
 "cells": [
  {
   "cell_type": "raw",
   "metadata": {},
   "source": [
    "---\n",
    "description: Implementation of the different kinds of questions' generators.\n",
    "output-file: question.html\n",
    "title: Questions' generators\n",
    "\n",
    "---\n",
    "\n"
   ]
  },
  {
   "cell_type": "code",
   "execution_count": 1,
   "metadata": {},
   "outputs": [],
   "source": [
    "#| default_exp question"
   ]
  },
  {
   "cell_type": "code",
   "execution_count": 2,
   "metadata": {},
   "outputs": [],
   "source": [
    "#| export\n",
    "\n",
    "import abc\n",
    "import string\n",
    "import re\n",
    "import pathlib\n",
    "from typing import List, Union, Optional, Tuple\n",
    "\n",
    "import numpy as np\n",
    "\n",
    "# to avoid tqdm's experimental warning\n",
    "import warnings\n",
    "warnings.filterwarnings(\"ignore\", message='Using `tqdm.autonotebook.tqdm` in notebook mode')\n",
    "\n",
    "import py2gift.tex\n",
    "import py2gift.util"
   ]
  },
  {
   "cell_type": "markdown",
   "metadata": {},
   "source": [
    "## Text with formulas and wildcards"
   ]
  },
  {
   "cell_type": "markdown",
   "metadata": {},
   "source": [
    "A class to contain text that might include wildcards (\"!\") and $\\LaTeX$ formulas. It is ultimately a wrapper around Python's `string.Template`."
   ]
  },
  {
   "cell_type": "code",
   "execution_count": 3,
   "metadata": {},
   "outputs": [],
   "source": [
    "#| export\n",
    "class TemplatedLatexText:\n",
    "    \n",
    "    wildcard_symbol = '!'\n",
    "    \n",
    "    type_to_processing_function = {\n",
    "        type('string'): lambda x: x,\n",
    "        type(pathlib.Path('foo')): lambda x: str(x),\n",
    "        type(np.array([1,2])): py2gift.tex.from_matrix,\n",
    "        type([1,2]): py2gift.tex.from_matrix,\n",
    "        type(3): py2gift.tex.from_number,\n",
    "        type(4.2): py2gift.tex.from_number,\n",
    "        type(np.array([2, 3], dtype=int)[0]): py2gift.tex.from_number,\n",
    "        type(np.array([2.0, 3.0], dtype=float)[0]): py2gift.tex.from_number\n",
    "    }\n",
    "    \n",
    "    def __init__(self, raw_text: str) -> None:\n",
    "        \n",
    "        self.template = string.Template(self.pre_process(raw_text))\n",
    "        \n",
    "        try:\n",
    "            \n",
    "            # this is fine if there are no \"placeholder\"s that need to be substituted\n",
    "            self._final = self.template.substitute()\n",
    "            \n",
    "        # if there are \"placeholders\" that need to be taken care of...\n",
    "        except KeyError:\n",
    "        \n",
    "            self._final = None\n",
    "    \n",
    "    def pre_process(self, text: str) -> str:\n",
    "\n",
    "        return text.replace('$', '$$').replace(self.wildcard_symbol, '$')\n",
    "    \n",
    "    def fill(self, **kwargs) -> None:\n",
    "        \n",
    "        processed_args = dict()\n",
    "        \n",
    "        for k,v in kwargs.items():\n",
    "            \n",
    "            # the type of the passed value\n",
    "            t = type(v)\n",
    "            \n",
    "            assert t in self.type_to_processing_function, (\n",
    "                f'the type of {k} ({t}) cannot be handled (turned into a string)')\n",
    "            \n",
    "            processed_args[k] = self.type_to_processing_function[t](v)\n",
    "            \n",
    "        \n",
    "#         self._final = self.template.substitute(**kwargs)\n",
    "        self._final = self.template.substitute(**processed_args)\n",
    "    \n",
    "    @property\n",
    "    def final(self) -> str:\n",
    "        \n",
    "        assert self._final is not None, f'text has unfilled slots'\n",
    "        \n",
    "        return self._final\n",
    "    \n",
    "    def __repr__(self) -> str:\n",
    "        \n",
    "        if self._final:\n",
    "            \n",
    "            return self._final\n",
    "        \n",
    "        else:\n",
    "            \n",
    "            return f'un-filled template:\\n{self.template.template}'\n",
    "    \n",
    "    @property\n",
    "    def is_full(self) -> bool:\n",
    "        \n",
    "        return self._final is not None"
   ]
  },
  {
   "cell_type": "code",
   "execution_count": 4,
   "metadata": {},
   "outputs": [],
   "source": [
    "t = TemplatedLatexText('''Compute the probability of error when !element_transmitted is transmitted and the power of thermal noise is $\\frac{N_0}{2}=!noise_variance$.''')"
   ]
  },
  {
   "cell_type": "markdown",
   "metadata": {},
   "source": [
    "Just evaluating the object shows the *un-filled* text"
   ]
  },
  {
   "cell_type": "code",
   "execution_count": 5,
   "metadata": {},
   "outputs": [
    {
     "data": {
      "text/plain": [
       "un-filled template:\n",
       "Compute the probability of error when $element_transmitted is transmitted and the power of thermal noise is $$\n",
       "rac{N_0}{2}=$noise_variance$$."
      ]
     },
     "execution_count": 5,
     "metadata": {},
     "output_type": "execute_result"
    }
   ],
   "source": [
    "t"
   ]
  },
  {
   "cell_type": "code",
   "execution_count": 6,
   "metadata": {},
   "outputs": [
    {
     "data": {
      "text/plain": [
       "False"
      ]
     },
     "execution_count": 6,
     "metadata": {},
     "output_type": "execute_result"
    }
   ],
   "source": [
    "t.is_full"
   ]
  },
  {
   "cell_type": "markdown",
   "metadata": {},
   "source": [
    "Calling the `final` property without properly filling the wildcards raises an error"
   ]
  },
  {
   "cell_type": "code",
   "execution_count": 7,
   "metadata": {},
   "outputs": [],
   "source": [
    "# t.final"
   ]
  },
  {
   "cell_type": "markdown",
   "metadata": {},
   "source": [
    "After `fill`ing the slots,"
   ]
  },
  {
   "cell_type": "code",
   "execution_count": 8,
   "metadata": {},
   "outputs": [],
   "source": [
    "t.fill(element_transmitted='A', noise_variance='2')"
   ]
  },
  {
   "cell_type": "markdown",
   "metadata": {},
   "source": [
    "calling `final` is fine"
   ]
  },
  {
   "cell_type": "code",
   "execution_count": 9,
   "metadata": {},
   "outputs": [
    {
     "data": {
      "text/plain": [
       "'Compute the probability of error when A is transmitted and the power of thermal noise is $\\x0crac{N_0}{2}=2$.'"
      ]
     },
     "execution_count": 9,
     "metadata": {},
     "output_type": "execute_result"
    }
   ],
   "source": [
    "t.final"
   ]
  },
  {
   "cell_type": "code",
   "execution_count": 10,
   "metadata": {},
   "outputs": [
    {
     "data": {
      "text/plain": [
       "True"
      ]
     },
     "execution_count": 10,
     "metadata": {},
     "output_type": "execute_result"
    }
   ],
   "source": [
    "t.is_full"
   ]
  },
  {
   "cell_type": "markdown",
   "metadata": {},
   "source": [
    "In such a case, evaluating the object returns the same thing (the final text)"
   ]
  },
  {
   "cell_type": "code",
   "execution_count": 11,
   "metadata": {},
   "outputs": [
    {
     "data": {
      "text/plain": [
       "Compute the probability of error when A is transmitted and the power of thermal noise is $\n",
       "rac{N_0}{2}=2$."
      ]
     },
     "execution_count": 11,
     "metadata": {},
     "output_type": "execute_result"
    }
   ],
   "source": [
    "t"
   ]
  },
  {
   "cell_type": "markdown",
   "metadata": {},
   "source": [
    "If the *wrapped* text does not contain any wildcard, `!`, then there is no need to call `fill` to get the final text."
   ]
  },
  {
   "cell_type": "code",
   "execution_count": 12,
   "metadata": {},
   "outputs": [],
   "source": [
    "t = TemplatedLatexText('foo foo $A$')"
   ]
  },
  {
   "cell_type": "code",
   "execution_count": 13,
   "metadata": {},
   "outputs": [
    {
     "data": {
      "text/plain": [
       "True"
      ]
     },
     "execution_count": 13,
     "metadata": {},
     "output_type": "execute_result"
    }
   ],
   "source": [
    "t.is_full"
   ]
  },
  {
   "cell_type": "code",
   "execution_count": 14,
   "metadata": {},
   "outputs": [
    {
     "data": {
      "text/plain": [
       "foo foo $A$"
      ]
     },
     "execution_count": 14,
     "metadata": {},
     "output_type": "execute_result"
    }
   ],
   "source": [
    "t"
   ]
  },
  {
   "cell_type": "markdown",
   "metadata": {},
   "source": [
    "For automatic conversion of different types to string"
   ]
  },
  {
   "cell_type": "code",
   "execution_count": 15,
   "metadata": {},
   "outputs": [
    {
     "data": {
      "text/plain": [
       "{str: <function __main__.TemplatedLatexText.<lambda>(x)>,\n",
       " pathlib.PosixPath: <function __main__.TemplatedLatexText.<lambda>(x)>,\n",
       " numpy.ndarray: <function py2gift.tex.from_matrix(m: Union[list, numpy.ndarray], float_point_precision: int = 3) -> str>,\n",
       " list: <function py2gift.tex.from_matrix(m: Union[list, numpy.ndarray], float_point_precision: int = 3) -> str>,\n",
       " int: <function py2gift.tex.from_number(n: Union[int, float], prefix: str = '', precision: int = 3, fixed_point_format: bool = False) -> str>,\n",
       " float: <function py2gift.tex.from_number(n: Union[int, float], prefix: str = '', precision: int = 3, fixed_point_format: bool = False) -> str>,\n",
       " numpy.int64: <function py2gift.tex.from_number(n: Union[int, float], prefix: str = '', precision: int = 3, fixed_point_format: bool = False) -> str>,\n",
       " numpy.float64: <function py2gift.tex.from_number(n: Union[int, float], prefix: str = '', precision: int = 3, fixed_point_format: bool = False) -> str>}"
      ]
     },
     "execution_count": 15,
     "metadata": {},
     "output_type": "execute_result"
    }
   ],
   "source": [
    "TemplatedLatexText.type_to_processing_function"
   ]
  },
  {
   "cell_type": "code",
   "execution_count": 16,
   "metadata": {},
   "outputs": [
    {
     "data": {
      "text/markdown": [
       "hola"
      ],
      "text/plain": [
       "<IPython.core.display.Markdown object>"
      ]
     },
     "execution_count": 16,
     "metadata": {},
     "output_type": "execute_result"
    }
   ],
   "source": [
    "var = 'hola'\n",
    "tex = TemplatedLatexText.type_to_processing_function[type(var)](var)\n",
    "py2gift.util.render_latex(tex)"
   ]
  },
  {
   "cell_type": "code",
   "execution_count": 17,
   "metadata": {},
   "outputs": [
    {
     "data": {
      "text/markdown": [
       "4"
      ],
      "text/plain": [
       "<IPython.core.display.Markdown object>"
      ]
     },
     "execution_count": 17,
     "metadata": {},
     "output_type": "execute_result"
    }
   ],
   "source": [
    "var = 4\n",
    "tex = TemplatedLatexText.type_to_processing_function[type(var)](var)\n",
    "py2gift.util.render_latex(tex)"
   ]
  },
  {
   "cell_type": "code",
   "execution_count": 18,
   "metadata": {},
   "outputs": [
    {
     "data": {
      "text/markdown": [
       "4.2"
      ],
      "text/plain": [
       "<IPython.core.display.Markdown object>"
      ]
     },
     "execution_count": 18,
     "metadata": {},
     "output_type": "execute_result"
    }
   ],
   "source": [
    "var = 4.2\n",
    "tex = TemplatedLatexText.type_to_processing_function[type(var)](var)\n",
    "py2gift.util.render_latex(tex)"
   ]
  },
  {
   "cell_type": "code",
   "execution_count": 19,
   "metadata": {},
   "outputs": [
    {
     "data": {
      "text/markdown": [
       "$\\Large \\begin{bmatrix}0 & 1 & 2\\end{bmatrix}$"
      ],
      "text/plain": [
       "<IPython.core.display.Markdown object>"
      ]
     },
     "execution_count": 19,
     "metadata": {},
     "output_type": "execute_result"
    }
   ],
   "source": [
    "var = np.arange(3)\n",
    "tex = TemplatedLatexText.type_to_processing_function[type(var)](var, to_formula=True)\n",
    "py2gift.util.render_latex(tex)"
   ]
  },
  {
   "cell_type": "code",
   "execution_count": 20,
   "metadata": {},
   "outputs": [
    {
     "data": {
      "text/markdown": [
       "$\\Large \\begin{bmatrix}4 & 5\\end{bmatrix}$"
      ],
      "text/plain": [
       "<IPython.core.display.Markdown object>"
      ]
     },
     "execution_count": 20,
     "metadata": {},
     "output_type": "execute_result"
    }
   ],
   "source": [
    "var = [4,5]\n",
    "tex = TemplatedLatexText.type_to_processing_function[type(var)](var, to_formula=True)\n",
    "py2gift.util.render_latex(tex)"
   ]
  },
  {
   "cell_type": "markdown",
   "metadata": {},
   "source": [
    "## Generators"
   ]
  },
  {
   "cell_type": "markdown",
   "metadata": {},
   "source": [
    "A class implementing a *generic* question."
   ]
  },
  {
   "cell_type": "code",
   "execution_count": 21,
   "metadata": {},
   "outputs": [],
   "source": [
    "#| export\n",
    "class QuestionGenerator(metaclass=abc.ABCMeta):\n",
    "\n",
    "    def __init__(\n",
    "        self, statement: TemplatedLatexText, feedback: TemplatedLatexText,\n",
    "        time: Optional[int] = None, prng: np.random.RandomState = np.random.RandomState(42)) -> None:\n",
    "        \n",
    "        self.statement = statement\n",
    "        self.feedback = feedback\n",
    "        self.time = time\n",
    "        self.prng = prng\n",
    "\n",
    "    @property\n",
    "    @abc.abstractmethod\n",
    "    def class_name(self) -> str:\n",
    "\n",
    "        pass\n",
    "\n",
    "    # this is the method to be defined by the user\n",
    "    @abc.abstractmethod\n",
    "    def setup(self, **kwargs):\n",
    "\n",
    "        pass\n",
    "\n",
    "    def partially_assemble_question(self, statement: str, feedback: str) -> dict:\n",
    "\n",
    "        question = dict()\n",
    "\n",
    "        question['class'] = self.class_name\n",
    "        question['statement'] = statement\n",
    "        question['feedback'] = feedback\n",
    "        \n",
    "        if self.time:\n",
    "            \n",
    "            question['time'] = str(self.time)\n",
    "\n",
    "        return question\n",
    "\n",
    "    def __call__(self, **kwargs):\n",
    "\n",
    "        # arguments are passed directly to `setup`\n",
    "        self.setup(**kwargs)\n",
    "\n",
    "        assert self.statement.is_full, f'unassigned variables in the statement'\n",
    "        assert self.feedback.is_full, f'unassigned variables in the feedback'"
   ]
  },
  {
   "cell_type": "markdown",
   "metadata": {},
   "source": [
    "## Numerical question"
   ]
  },
  {
   "cell_type": "code",
   "execution_count": 22,
   "metadata": {},
   "outputs": [],
   "source": [
    "#| export\n",
    "class NumericalQuestionGenerator(QuestionGenerator):\n",
    "\n",
    "    def __init__(\n",
    "        self, statement: TemplatedLatexText, feedback: TemplatedLatexText,\n",
    "        time: Optional[int] = None, prng: np.random.RandomState = np.random.RandomState(42)) -> None:\n",
    "\n",
    "        super().__init__(statement, feedback, time, prng)\n",
    "\n",
    "        self.solution = None\n",
    "        self.error = None\n",
    "\n",
    "    @property\n",
    "    def class_name(self) -> str:\n",
    "\n",
    "        return 'Numerical'\n",
    "\n",
    "    def assemble_question(\n",
    "        self, statement: str, feedback: str, solution: float, error: Optional[float] = None) -> dict:\n",
    "\n",
    "        question = self.partially_assemble_question(statement, feedback)\n",
    "        \n",
    "        # some yaml \"writers\" (e.g., ruamel.yaml) don't play well with numpy floats\n",
    "        if type(solution) == np.float64:\n",
    "            \n",
    "            solution = solution.item()\n",
    "\n",
    "        question['solution'] = dict()\n",
    "        question['solution']['value'] = solution\n",
    "\n",
    "        if error is None:\n",
    "\n",
    "            # 10% margin\n",
    "            error = solution * 0.1\n",
    "\n",
    "        question['solution']['error'] = error\n",
    "\n",
    "        return question\n",
    "\n",
    "    def __call__(self, **kwargs):\n",
    "\n",
    "        super().__call__(**kwargs)\n",
    "\n",
    "        assert self.solution is not None, 'solution was not defined, please try setting `self.solution` to a number'\n",
    "        assert self.error is not None, (\n",
    "            'error (tolerance) was not defined, please try setting `self.error` to a number')\n",
    "\n",
    "        return self.assemble_question(\n",
    "            statement=self.statement.final, feedback=self.feedback.final, solution=self.solution, error=self.error)"
   ]
  },
  {
   "cell_type": "markdown",
   "metadata": {},
   "source": [
    "## Multiple choice"
   ]
  },
  {
   "cell_type": "code",
   "execution_count": 23,
   "metadata": {},
   "outputs": [],
   "source": [
    "#| export\n",
    "class MultipleChoiceQuestionGenerator(QuestionGenerator):\n",
    "\n",
    "    def __init__(\n",
    "        self, statement: TemplatedLatexText, feedback: TemplatedLatexText,\n",
    "        time: Optional[int] = None, prng: np.random.RandomState = np.random.RandomState(42)) -> None:\n",
    "\n",
    "        super().__init__(statement, feedback, time, prng)\n",
    "\n",
    "        self.right_answer = None\n",
    "        self.wrong_answers = None\n",
    "\n",
    "    @property\n",
    "    def class_name(self) -> str:\n",
    "\n",
    "        return 'MultipleChoice'\n",
    "\n",
    "    def assemble_question(\n",
    "            self, statement: str, feedback: str, perfect_answer: str,\n",
    "            wrong_answers: Union[List[str], List[Tuple[str, float]]]) -> dict:\n",
    "\n",
    "        question = self.partially_assemble_question(statement, feedback)\n",
    "\n",
    "        question['answers'] = dict()\n",
    "        \n",
    "        if self.right_answer:\n",
    "        \n",
    "            question['answers']['perfect'] = perfect_answer\n",
    "        \n",
    "        question['answers']['wrong'] = wrong_answers\n",
    "\n",
    "        return question\n",
    "\n",
    "    def __call__(self, **kwargs):\n",
    "\n",
    "        super().__call__(**kwargs)\n",
    "        \n",
    "        if self.right_answer:\n",
    "\n",
    "            assert isinstance(self.right_answer, str), f'right answer \"{self.right_answer}\" is not a string'\n",
    "\n",
    "        assert self.wrong_answers is not None, (\n",
    "            'wrong answers were not given, please try setting `self.wrong_answers` to a list of strings')\n",
    "        \n",
    "        # in order to check that every wrong answer is different\n",
    "        wrong_answers_texts = []\n",
    "        \n",
    "        for e in self.wrong_answers:\n",
    "            \n",
    "            assert isinstance(e, str) or isinstance(e, list), (\n",
    "                f'\"{e}\" is not a string or list encompassing a string and a number')\n",
    "            \n",
    "            if isinstance(e, list):\n",
    "                \n",
    "                wrong_answers_texts.append(e[0])\n",
    "                \n",
    "                assert isinstance(e[0], str)\n",
    "                assert isinstance(e[1], int) or isinstance(e[1], float)\n",
    "            \n",
    "            else:\n",
    "                \n",
    "                wrong_answers_texts.append(e)\n",
    "                \n",
    "        # all the answers are different\n",
    "        assert np.unique(wrong_answers_texts).size == np.array(wrong_answers_texts).size, (\n",
    "            f'all the wrong answers are not different: {wrong_answers_texts}')\n",
    "                \n",
    "\n",
    "        return self.assemble_question(\n",
    "            statement=self.statement.final, feedback=self.feedback.final, perfect_answer=self.right_answer,\n",
    "            wrong_answers=self.wrong_answers)"
   ]
  },
  {
   "cell_type": "markdown",
   "metadata": {},
   "source": [
    "## Theoretical"
   ]
  },
  {
   "cell_type": "code",
   "execution_count": 24,
   "metadata": {},
   "outputs": [],
   "source": [
    "#| export\n",
    "\n",
    "class MultipleChoiceTheoreticalQuestionGenerator(MultipleChoiceQuestionGenerator):\n",
    "\n",
    "    def setup(self, right_answer: str, wrong_answers: List[str]):\n",
    "\n",
    "        self.statement = self.unprocessed_statement.safe_substitute()\n",
    "        self.feedback = self.unprocessed_feedback.safe_substitute()\n",
    "\n",
    "        self.right_answer = right_answer\n",
    "        self.wrong_answers = wrong_answers"
   ]
  },
  {
   "cell_type": "code",
   "execution_count": 25,
   "metadata": {},
   "outputs": [
    {
     "name": "stdout",
     "output_type": "stream",
     "text": [
      "Converted 30_question.ipynb.\n"
     ]
    }
   ],
   "source": [
    "#| include: false\n",
    "import nbdev.export\n",
    "nbdev.export.nbdev_export('30_question.ipynb')"
   ]
  }
 ],
 "metadata": {
  "kernelspec": {
   "display_name": "Python 3 (ipykernel)",
   "language": "python",
   "name": "python3"
  },
  "language_info": {
   "codemirror_mode": {
    "name": "ipython",
    "version": 3
   },
   "file_extension": ".py",
   "mimetype": "text/x-python",
   "name": "python",
   "nbconvert_exporter": "python",
   "pygments_lexer": "ipython3",
   "version": "3.10.4"
  }
 },
 "nbformat": 4,
 "nbformat_minor": 4
}
