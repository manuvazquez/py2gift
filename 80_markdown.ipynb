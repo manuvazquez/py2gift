{
 "cells": [
  {
   "cell_type": "code",
   "execution_count": null,
   "metadata": {},
   "outputs": [],
   "source": [
    "# default_exp markdown"
   ]
  },
  {
   "cell_type": "markdown",
   "metadata": {},
   "source": [
    "# Markdown\n",
    "\n",
    "> Conversion to markdown capabilities."
   ]
  },
  {
   "cell_type": "code",
   "execution_count": null,
   "metadata": {},
   "outputs": [],
   "source": [
    "#hide\n",
    "from nbdev.showdoc import *"
   ]
  },
  {
   "cell_type": "code",
   "execution_count": null,
   "metadata": {},
   "outputs": [],
   "source": [
    "# export\n",
    "import string\n",
    "import functools\n",
    "from typing import Union, List\n",
    "\n",
    "# to avoid tqdm's experimental warning\n",
    "import warnings\n",
    "warnings.filterwarnings(\"ignore\", message='Using `tqdm.autonotebook.tqdm` in notebook mode')\n",
    "\n",
    "import gift_wrapper.question\n",
    "import gift_wrapper.latex\n",
    "import gift_wrapper.parsing\n",
    "import gift_wrapper.transformer\n",
    "\n",
    "import py2gift.util"
   ]
  },
  {
   "cell_type": "markdown",
   "metadata": {},
   "source": [
    "## Creating a header in markdown"
   ]
  },
  {
   "cell_type": "code",
   "execution_count": null,
   "metadata": {},
   "outputs": [],
   "source": [
    "# export\n",
    "def markdown_header(\n",
    "        text: str,\n",
    "        template: string.Template = string.Template('<span style=\"font-family:Papyrus; font-size:2em;\">$text</span>')\n",
    "    ) -> str:\n",
    "    \"\"\"\n",
    "    Returns a markdown header for a given text.\n",
    "\n",
    "    **Parameters**\n",
    "    \n",
    "    - `text` : str\n",
    "        \n",
    "        Text for the header.\n",
    "    \n",
    "    - `template` : string template\n",
    "        \n",
    "        The template that defines the appearance of the header, and in which `text` will be embedded.\n",
    "\n",
    "    **Returns**\n",
    "    \n",
    "    - `out` : str\n",
    "        Markdown-compatible text.\n",
    "\n",
    "    \"\"\"\n",
    "\n",
    "    return f'\\n{template.substitute(text=text)}\\n\\n'"
   ]
  },
  {
   "cell_type": "code",
   "execution_count": null,
   "metadata": {},
   "outputs": [
    {
     "data": {
      "text/markdown": [
       "\n",
       "<span style=\"font-family:Papyrus; font-size:2em;\">Header 1</span>\n",
       "\n"
      ],
      "text/plain": [
       "<IPython.core.display.Markdown object>"
      ]
     },
     "execution_count": null,
     "metadata": {},
     "output_type": "execute_result"
    }
   ],
   "source": [
    "py2gift.util.render_latex(markdown_header('Header 1'))"
   ]
  },
  {
   "cell_type": "markdown",
   "metadata": {},
   "source": [
    "## Markdown from user settings for a question"
   ]
  },
  {
   "cell_type": "markdown",
   "metadata": {},
   "source": [
    "An example **numerical** question..."
   ]
  },
  {
   "cell_type": "code",
   "execution_count": null,
   "metadata": {},
   "outputs": [],
   "source": [
    "question_settings = {\n",
    "    'name': 'Q1',\n",
    "    'class': 'Numerical',\n",
    "    'statement': 'Consider the constellation\\nsample_images/1D_3_elements.svg',\n",
    "    'solution': {\n",
    "        'value': 42,\n",
    "        'error': '10%'\n",
    "    },\n",
    "    'feedback': 'We need to...'\n",
    "}\n",
    "class_name = gift_wrapper.question.user_settings_to_class_init(question_settings)\n",
    "numerical_question = getattr(gift_wrapper.question, class_name)(**question_settings)"
   ]
  },
  {
   "cell_type": "markdown",
   "metadata": {},
   "source": [
    "...and one of **multiple choice**"
   ]
  },
  {
   "cell_type": "code",
   "execution_count": null,
   "metadata": {},
   "outputs": [],
   "source": [
    "question_settings = {\n",
    "    'name': 'Q2',\n",
    "    'class': 'MultipleChoice',\n",
    "    'statement': 'Choose...',\n",
    "    'answers':{\n",
    "        'perfect': 'yep',\n",
    "        'wrong': ['foo', 'fa']\n",
    "    },\n",
    "    'feedback': 'We need to...'\n",
    "}\n",
    "class_name = gift_wrapper.question.user_settings_to_class_init(question_settings)\n",
    "multiple_choice_question = getattr(gift_wrapper.question, class_name)(**question_settings)"
   ]
  },
  {
   "cell_type": "markdown",
   "metadata": {},
   "source": [
    "## Patching gift-wrapper questions"
   ]
  },
  {
   "cell_type": "markdown",
   "metadata": {},
   "source": [
    "### Base (abstract) *HtmlQuestion*"
   ]
  },
  {
   "cell_type": "code",
   "execution_count": null,
   "metadata": {},
   "outputs": [],
   "source": [
    "# export\n",
    "def html_question_to_markdown(self):\n",
    "\n",
    "    statement = self.statement\n",
    "\n",
    "    # if a `time` estimate was passed...\n",
    "    if self.time:\n",
    "\n",
    "        # ...it is appended at the end of the statement\n",
    "        statement += f'\\n\\n\\n*Estimated time: {self.time} minutes*\\n'\n",
    "\n",
    "    feedback = (f'{markdown_header(\"Feedback\")}' + self.feedback.rstrip()) if self.feedback else ''\n",
    "\n",
    "    # a copy of each list is made so that the class attribute is not modified\n",
    "#     latex_in_text_substitutions = [e.copy() for e in gift_wrapper.parsing.latex_in_text_substitutions[:2]]\n",
    "    latex_in_text_substitutions = [e.copy() for e in gift_wrapper.transformer.LatexCommandsWithinText.patterns[:2]]\n",
    "\n",
    "    # \\textbf-related substitutions are tweaked\n",
    "    latex_in_text_substitutions[0][1] = r'**\\1**'\n",
    "    latex_in_text_substitutions[0][2] = r'\\*\\*([^\\*]+)\\*\\*'\n",
    "\n",
    "    # \\textit-related substitutions are tweaked\n",
    "    latex_in_text_substitutions[1][1] = r'*\\1*'\n",
    "    latex_in_text_substitutions[1][2] = r'\\*([^\\*]+)\\*'\n",
    "\n",
    "    # just like LaTeX, in markdown a single \"newline\" doesn't reflect in the output, and hence every new line\n",
    "    # is duplicated\n",
    "    latex_in_text_substitutions += [['\\n', '\\n\\n', '\\n\\n', '\\n']]\n",
    "\n",
    "    def apply_substitutions(text: str, substitutions: list):\n",
    "\n",
    "        res = text\n",
    "\n",
    "        for s in substitutions:\n",
    "\n",
    "            res = gift_wrapper.latex.replace_and_replace_only_in_formulas(*s, res)\n",
    "\n",
    "        return res\n",
    "\n",
    "    statement = apply_substitutions(statement, latex_in_text_substitutions)\n",
    "    feedback = apply_substitutions(feedback, latex_in_text_substitutions)\n",
    "\n",
    "    return f'{markdown_header(\"Statement\")}{statement}\\n{feedback}\\n'\n",
    "\n",
    "gift_wrapper.question.HtmlQuestion.to_markdown = html_question_to_markdown"
   ]
  },
  {
   "cell_type": "code",
   "execution_count": null,
   "metadata": {},
   "outputs": [
    {
     "data": {
      "text/markdown": [
       "\n",
       "<span style=\"font-family:Papyrus; font-size:2em;\">Statement</span>\n",
       "\n",
       "Consider the constellation\n",
       "\n",
       "sample_images/1D_3_elements.svg\n",
       "\n",
       "\n",
       "<span style=\"font-family:Papyrus; font-size:2em;\">Feedback</span>\n",
       "\n",
       "\n",
       "\n",
       "We need to...\n"
      ],
      "text/plain": [
       "<IPython.core.display.Markdown object>"
      ]
     },
     "execution_count": null,
     "metadata": {},
     "output_type": "execute_result"
    }
   ],
   "source": [
    "py2gift.util.render_latex(html_question_to_markdown(numerical_question))"
   ]
  },
  {
   "cell_type": "markdown",
   "metadata": {},
   "source": [
    "### Numerical question"
   ]
  },
  {
   "cell_type": "code",
   "execution_count": null,
   "metadata": {},
   "outputs": [],
   "source": [
    "# export\n",
    "def numerical_to_markdown(self):\n",
    "\n",
    "    res = super(gift_wrapper.question.Numerical, self).to_markdown()\n",
    "\n",
    "    return res + f'{markdown_header(\"Solution\")} {self.solution_value} (error: {self.solution_error[1:]})\\n'\n",
    "\n",
    "gift_wrapper.question.Numerical.to_markdown = numerical_to_markdown"
   ]
  },
  {
   "cell_type": "code",
   "execution_count": null,
   "metadata": {},
   "outputs": [
    {
     "data": {
      "text/markdown": [
       "\n",
       "<span style=\"font-family:Papyrus; font-size:2em;\">Statement</span>\n",
       "\n",
       "Consider the constellation\n",
       "\n",
       "sample_images/1D_3_elements.svg\n",
       "\n",
       "\n",
       "<span style=\"font-family:Papyrus; font-size:2em;\">Feedback</span>\n",
       "\n",
       "\n",
       "\n",
       "We need to...\n",
       "\n",
       "<span style=\"font-family:Papyrus; font-size:2em;\">Solution</span>\n",
       "\n",
       " 42 (error: .2)\n"
      ],
      "text/plain": [
       "<IPython.core.display.Markdown object>"
      ]
     },
     "execution_count": null,
     "metadata": {},
     "output_type": "execute_result"
    }
   ],
   "source": [
    "py2gift.util.render_latex(numerical_question.to_markdown())"
   ]
  },
  {
   "cell_type": "markdown",
   "metadata": {},
   "source": [
    "### Multiple-choice question"
   ]
  },
  {
   "cell_type": "code",
   "execution_count": null,
   "metadata": {},
   "outputs": [],
   "source": [
    "# export\n",
    "def multiple_choice_to_markdown(self):\n",
    "\n",
    "    res = super(gift_wrapper.question.MultipleChoice, self).to_markdown()\n",
    "\n",
    "    res += markdown_header('Choices')\n",
    "\n",
    "    if 'perfect' in self.answers:\n",
    "\n",
    "        # res += f'---\\n'\n",
    "\n",
    "        # res += f'* {self.answers[\"perfect\"]}\\n'\n",
    "        res += f'* {self.template_wrong_answers.substitute(color=\"green\", text=self.answers[\"perfect\"])}\\n'\n",
    "\n",
    "        # res += f'---\\n'\n",
    "\n",
    "    for a in self.answers['wrong']:\n",
    "\n",
    "        if isinstance(a, list):\n",
    "\n",
    "            formatted_grade = self.template_wrong_answers.substitute(\n",
    "                color='green' if float(a[1]) > 0 else 'red', text=f'{a[1]}%')\n",
    "\n",
    "            res += f'* {a[0]} (**{formatted_grade}**)\\n'\n",
    "            # res += f'* {a[0]} (**{a[1]}%**)\\n'\n",
    "\n",
    "        else:\n",
    "\n",
    "            # res += f'* {a}\\n'\n",
    "            res += f'* {self.template_wrong_answers.substitute(color=\"red\", text=a)}\\n'\n",
    "\n",
    "    return res\n",
    "\n",
    "gift_wrapper.question.MultipleChoice.to_markdown = multiple_choice_to_markdown"
   ]
  },
  {
   "cell_type": "code",
   "execution_count": null,
   "metadata": {},
   "outputs": [
    {
     "data": {
      "text/markdown": [
       "\n",
       "<span style=\"font-family:Papyrus; font-size:2em;\">Statement</span>\n",
       "\n",
       "Choose...\n",
       "\n",
       "\n",
       "<span style=\"font-family:Papyrus; font-size:2em;\">Feedback</span>\n",
       "\n",
       "\n",
       "\n",
       "We need to...\n",
       "\n",
       "<span style=\"font-family:Papyrus; font-size:2em;\">Choices</span>\n",
       "\n",
       "* **<font color='green'>yep</font>**\n",
       "* **<font color='red'>foo</font>**\n",
       "* **<font color='red'>fa</font>**\n"
      ],
      "text/plain": [
       "<IPython.core.display.Markdown object>"
      ]
     },
     "execution_count": null,
     "metadata": {},
     "output_type": "execute_result"
    }
   ],
   "source": [
    "py2gift.util.render_latex(multiple_choice_question.to_markdown())"
   ]
  },
  {
   "cell_type": "markdown",
   "metadata": {},
   "source": [
    "## A *gift-wrapper* processor to reformat paths for markdown"
   ]
  },
  {
   "cell_type": "code",
   "execution_count": null,
   "metadata": {},
   "outputs": [],
   "source": [
    "# export\n",
    "class SvgToMarkdown(gift_wrapper.transformer.Transformer):\n",
    "    \"\"\"\n",
    "    Processor to reformat svg files for including them in markdown strings.\n",
    "    \"\"\"\n",
    "\n",
    "    def __init__(self):\n",
    "\n",
    "        super().__init__()\n",
    "\n",
    "        def process_match(f):\n",
    "\n",
    "            pass\n",
    "\n",
    "        self.function = functools.partial(\n",
    "            gift_wrapper.transformer.process_paths, pattern=gift_wrapper.parsing.svg_file,\n",
    "            process_match=process_match, replacement=r'![](' + r'\\1)')"
   ]
  },
  {
   "cell_type": "code",
   "execution_count": null,
   "metadata": {},
   "outputs": [],
   "source": [
    "# export\n",
    "def from_question(\n",
    "    q: gift_wrapper.question.HtmlQuestion, processors: List[gift_wrapper.transformer.Transformer]) -> str:\n",
    "    \"\"\"\n",
    "    Returns the markdown representation of a question.\n",
    "\n",
    "    **Parameters**\n",
    "    \n",
    "    - `q` : gift_wrapper.question.HtmlQuestion\n",
    "        \n",
    "        The question object.\n",
    "    \n",
    "    - `processors` : list\n",
    "        \n",
    "        Processors to be applied.\n",
    "\n",
    "    **Returns**\n",
    "    \n",
    "    - `out` : str\n",
    "        Markdown-compatible text.\n",
    "\n",
    "    \"\"\"\n",
    "    \n",
    "    markdown = q.to_markdown()\n",
    "\n",
    "    for f in processors:\n",
    "\n",
    "        markdown = f(markdown)\n",
    "\n",
    "    return markdown"
   ]
  },
  {
   "cell_type": "code",
   "execution_count": null,
   "metadata": {},
   "outputs": [],
   "source": [
    "# export\n",
    "pre_processors = [\n",
    "    gift_wrapper.transformer.TexToSvg({'already compiled': set(), 'already transferred': set()}), SvgToMarkdown()]"
   ]
  },
  {
   "cell_type": "code",
   "execution_count": null,
   "metadata": {},
   "outputs": [
    {
     "data": {
      "text/markdown": [
       "\n",
       "<span style=\"font-family:Papyrus; font-size:2em;\">Statement</span>\n",
       "\n",
       "Consider the constellation\n",
       "\n",
       "![](sample_images/1D_3_elements.svg)\n",
       "\n",
       "\n",
       "<span style=\"font-family:Papyrus; font-size:2em;\">Feedback</span>\n",
       "\n",
       "\n",
       "\n",
       "We need to...\n",
       "\n",
       "<span style=\"font-family:Papyrus; font-size:2em;\">Solution</span>\n",
       "\n",
       " 42 (error: .2)\n"
      ],
      "text/plain": [
       "<IPython.core.display.Markdown object>"
      ]
     },
     "execution_count": null,
     "metadata": {},
     "output_type": "execute_result"
    }
   ],
   "source": [
    "py2gift.util.render_latex(from_question(numerical_question, pre_processors))"
   ]
  },
  {
   "cell_type": "code",
   "execution_count": null,
   "metadata": {},
   "outputs": [],
   "source": [
    "# export\n",
    "def settings_to_markdown(settings: dict) -> str:\n",
    "    \"\"\"\n",
    "    Returns a markdown representation of the question given the corresponding settings.\n",
    "\n",
    "    **Parameters**\n",
    "    \n",
    "    - `settings` : dict\n",
    "        \n",
    "        User settings (usually read from a YAML file).\n",
    "\n",
    "    **Returns**\n",
    "    \n",
    "    - `markdown`: str\n",
    "        \n",
    "        Markdown representation\n",
    "\n",
    "    \"\"\"\n",
    "\n",
    "    class_name = gift_wrapper.question.user_settings_to_class_init(settings, 'unnamed')\n",
    "    cls = getattr(gift_wrapper.question, class_name)\n",
    "\n",
    "    return from_question(cls(**settings), pre_processors)"
   ]
  },
  {
   "cell_type": "code",
   "execution_count": null,
   "metadata": {},
   "outputs": [
    {
     "name": "stdout",
     "output_type": "stream",
     "text": [
      "Converted 80_markdown.ipynb.\n"
     ]
    }
   ],
   "source": [
    "# hide\n",
    "import nbdev.export\n",
    "nbdev.export.notebook2script('80_markdown.ipynb')"
   ]
  }
 ],
 "metadata": {
  "kernelspec": {
   "display_name": "Python 3",
   "language": "python",
   "name": "python3"
  }
 },
 "nbformat": 4,
 "nbformat_minor": 4
}
