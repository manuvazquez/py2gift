{
 "cells": [
  {
   "cell_type": "raw",
   "metadata": {},
   "source": [
    "---\n",
    "{}\n",
    "\n",
    "---\n",
    "\n"
   ]
  },
  {
   "cell_type": "markdown",
   "metadata": {},
   "source": [
    "This is to be run after the last to second cell\n",
    "> Retrieve the created file from the link below (not present in the docs).\n",
    "\n",
    "in `example_1.ipynb`"
   ]
  },
  {
   "cell_type": "markdown",
   "metadata": {},
   "source": [
    "We can generate all the files to run `py2gift` without outside *jupyter*"
   ]
  },
  {
   "cell_type": "code",
   "execution_count": null,
   "metadata": {},
   "outputs": [],
   "source": [
    "# import py2gift.util\n",
    "# import re\n",
    "\n",
    "# py2gift.util.dict_to_yaml(settings.to_dict(), 'my_settings.yaml')\n",
    "# py2gift.util.dict_to_yaml(parameters, 'my_parameters.yaml')\n",
    "\n",
    "# with open('my_module.py', 'w') as f:\n",
    "#     f.write('''\n",
    "# import py2gift.question\n",
    "# import py2gift.tex\n",
    "# import py2gift.file\n",
    "# import py2gift.util\n",
    "# import numpy as np\n",
    "# import matplotlib.pylab as plt\n",
    "#     ''')\n",
    "#     f.write('\\n')\n",
    "#     f.write(_i14)\n",
    "#     f.write('\\n\\n')\n",
    "#     # the 2nd class contains some jupyter-related code\n",
    "#     f.write(re.match('(.*)\\# for previewing the question.*', _i22, flags=re.DOTALL).group(1))"
   ]
  },
  {
   "cell_type": "markdown",
   "metadata": {},
   "source": [
    "Then, they would get used like this"
   ]
  },
  {
   "cell_type": "code",
   "execution_count": null,
   "metadata": {},
   "outputs": [],
   "source": [
    "# import importlib\n",
    "# import py2gift.core\n",
    "\n",
    "# my_module = importlib.import_module('my_module')\n",
    "# py2gift.core.build('my_settings.yaml', True, my_module, 'my_parameters.yaml', no_checks=True, embed_images=True)"
   ]
  }
 ],
 "metadata": {
  "kernelspec": {
   "display_name": "Python 3",
   "language": "python",
   "name": "python3"
  }
 },
 "nbformat": 4,
 "nbformat_minor": 4
}
