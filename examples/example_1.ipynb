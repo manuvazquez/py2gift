{
 "cells": [
  {
   "cell_type": "raw",
   "metadata": {},
   "source": [
    "---\n",
    "description: A sample quiz.\n",
    "output-file: example_1.html\n",
    "title: Example 1\n",
    "\n",
    "---\n",
    "\n"
   ]
  },
  {
   "cell_type": "code",
   "execution_count": 1,
   "metadata": {},
   "outputs": [],
   "source": [
    "import json\n",
    "import pathlib\n",
    "\n",
    "import numpy as np\n",
    "import matplotlib\n",
    "import matplotlib.pyplot as plt\n",
    "\n",
    "from IPython.display import FileLink, FileLinks\n",
    "\n",
    "# we don't want out plots to show while building them\n",
    "mpl_backend = matplotlib.get_backend()\n",
    "matplotlib.use('Agg')\n",
    "\n",
    "import py2gift.question\n",
    "import py2gift.input_file\n",
    "import py2gift.notebook\n",
    "import py2gift.core\n",
    "import py2gift.tex\n",
    "import py2gift.file\n",
    "import py2gift.time"
   ]
  },
  {
   "cell_type": "markdown",
   "metadata": {},
   "source": [
    "# General settings"
   ]
  },
  {
   "cell_type": "markdown",
   "metadata": {},
   "source": [
    "A settings manager object (with default options)"
   ]
  },
  {
   "cell_type": "code",
   "execution_count": 2,
   "metadata": {},
   "outputs": [],
   "source": [
    "settings = py2gift.input_file.Settings(test_mode=False)"
   ]
  },
  {
   "cell_type": "markdown",
   "metadata": {},
   "source": [
    "How many versions of a question are to be generated"
   ]
  },
  {
   "cell_type": "code",
   "execution_count": 3,
   "metadata": {},
   "outputs": [],
   "source": [
    "n_instances = 2"
   ]
  },
  {
   "cell_type": "markdown",
   "metadata": {},
   "source": [
    "Module `time` provides some functionality to keep tabs on the time required to do the whole exam. It's in `py2gift.time.TimeKeeper`."
   ]
  },
  {
   "cell_type": "code",
   "execution_count": 4,
   "metadata": {},
   "outputs": [],
   "source": [
    "time_keeper = py2gift.time.TimeKeeper()"
   ]
  },
  {
   "cell_type": "markdown",
   "metadata": {},
   "source": [
    "# Matrix product"
   ]
  },
  {
   "cell_type": "markdown",
   "metadata": {},
   "source": [
    "We need to specify\n",
    "* the name of the Python class that implements this question\n",
    "* the *category* to which the question will belong inside the *Moodle*'s question bank\n",
    "* the *base* name for the question: several versions of the same question will be created, and they will be named \"&lt;*question base name*&gt; &lt;*number of version in Roman numbers*&gt;\". For instance, if the *question base name* is \"Foo\", we will get questions \"Foo I\", \"Foo II\",..."
   ]
  },
  {
   "cell_type": "markdown",
   "metadata": {},
   "source": [
    "**Caveat**: the variables below are used by `%%statement` and `%%feedback` *magics* to know what to modify (they determine the *context*). So, when moving back and forth between questions (up and down in the jupyter notebook), one should at least re-run the cell below before modifying anything in the corresponding question."
   ]
  },
  {
   "cell_type": "code",
   "execution_count": 5,
   "metadata": {},
   "outputs": [],
   "source": [
    "class_name = 'MatrixProduct'\n",
    "category_name = 'Calculus'\n",
    "question_base_name='Product of matrices'"
   ]
  },
  {
   "cell_type": "markdown",
   "metadata": {},
   "source": [
    "*Optionally*, one can also specify the estimated duration of the question"
   ]
  },
  {
   "cell_type": "code",
   "execution_count": 6,
   "metadata": {},
   "outputs": [],
   "source": [
    "time = 10"
   ]
  },
  {
   "cell_type": "markdown",
   "metadata": {},
   "source": [
    "The category is *registered* in the settings object"
   ]
  },
  {
   "cell_type": "code",
   "execution_count": 7,
   "metadata": {},
   "outputs": [],
   "source": [
    "category_name = settings.add_category(category_name=category_name)"
   ]
  },
  {
   "cell_type": "markdown",
   "metadata": {},
   "source": [
    "The question is registered in the newly-created category (notice the class `class_name` need not exist, this is just an statement of intent)"
   ]
  },
  {
   "cell_type": "code",
   "execution_count": 8,
   "metadata": {},
   "outputs": [],
   "source": [
    "settings.add_or_update_class(\n",
    "    category_name=category_name, class_name=class_name, question_base_name=question_base_name,\n",
    "    n_instances=n_instances, time=time)"
   ]
  },
  {
   "cell_type": "markdown",
   "metadata": {},
   "source": [
    "We let the time keeper object know about this one:"
   ]
  },
  {
   "cell_type": "code",
   "execution_count": 9,
   "metadata": {},
   "outputs": [],
   "source": [
    "time_keeper.record(time, question_base_name)"
   ]
  },
  {
   "cell_type": "markdown",
   "metadata": {},
   "source": [
    "The statement of the question is entered through an *ipython* magic since it allows to capture freely-typed text. In principle, the text can be anything but if you want different versions of the same question, it should contain some *variables* that will be filled by Python code. These variables are prefixed by `!`."
   ]
  },
  {
   "cell_type": "code",
   "execution_count": 10,
   "metadata": {},
   "outputs": [
    {
     "data": {
      "text/plain": [
       "'statement recorded'"
      ]
     },
     "execution_count": 10,
     "metadata": {},
     "output_type": "execute_result"
    }
   ],
   "source": [
    "%%statement settings --cls {class_name} --category {json.dumps(category_name)}\n",
    "Multiply the matrices $!A$ and $!B$ and compute the trace of the result."
   ]
  },
  {
   "cell_type": "code",
   "execution_count": 11,
   "metadata": {},
   "outputs": [
    {
     "data": {
      "text/plain": [
       "'feedback recorded'"
      ]
     },
     "execution_count": 11,
     "metadata": {},
     "output_type": "execute_result"
    }
   ],
   "source": [
    "%%feedback  settings --cls {class_name} --category {json.dumps(category_name)}\n",
    "You just go row times column to get\n",
    "$\n",
    "A \\times B\n",
    "=\n",
    "!product\n",
    "$. Now, the trace is just the sum of the elements in the diagonal, i.e., !diagonal."
   ]
  },
  {
   "cell_type": "markdown",
   "metadata": {},
   "source": [
    "The class implementing the question is defined. It should inherit from one of the classes in module `py2gift.question`:\n",
    "* `py2gift.question.MultipleChoiceQuestionGenerator`: for multiple-choice questions\n",
    "* `py2gift.question.NumericalQuestionGenerator`: for numerical-answer questions\n",
    "\n",
    "The only mandatory method the new class must define is `setup`. Its purpose is to fill in the *blanks* in both the `statement` and `feedback` of the question by calling, respectively, `self.statement.fill` and `self.feedback.fill`. Also, it should provide:\n",
    "* the solution and error tolerance for `py2gift.question.NumericalQuestionGenerator`: one should set `self.solution` to some **number** and `self.error` to either a **number or a string indicating a percentage**\n",
    "* the right answer along with the wrong ones for `py2gift.question.MultipleChoiceQuestionGenerator`:"
   ]
  },
  {
   "cell_type": "markdown",
   "metadata": {},
   "source": [
    "In order to generate several instances (versions) of the same question, random numbers (or pictures!!) must be used somewhere (otherwise all the instances of the question will be identical). For that purpose, when one inherits from a class in `py2gift.question`, a pseudo-random numbers generator, `self.prng`, is provided."
   ]
  },
  {
   "cell_type": "code",
   "execution_count": 12,
   "metadata": {},
   "outputs": [],
   "source": [
    "class MatrixProduct(py2gift.question.NumericalQuestionGenerator):\n",
    "    \n",
    "    def setup(self):\n",
    "        \n",
    "        A = self.prng.rand(2, 2)\n",
    "        B = self.prng.rand(2, 2)\n",
    "\n",
    "        self.statement.fill(\n",
    "            A=A,\n",
    "            B=B\n",
    "        )\n",
    "        \n",
    "        product = A @ B\n",
    "        \n",
    "        self.feedback.fill(\n",
    "            product=product,\n",
    "            diagonal=py2gift.tex.enumerate_math(np.diag(product))\n",
    "        )\n",
    "        \n",
    "        self.solution = product.trace()\n",
    "        self.error = '10%'"
   ]
  },
  {
   "cell_type": "markdown",
   "metadata": {},
   "source": [
    "We can easily preview *the first instance* of the question"
   ]
  },
  {
   "cell_type": "code",
   "execution_count": 13,
   "metadata": {},
   "outputs": [
    {
     "data": {
      "text/markdown": [
       "\n",
       "<span style=\"font-family:Papyrus; font-size:2em;\">Statement</span>\n",
       "\n",
       "Multiply the matrices $\\Large \\begin{bmatrix}0.375 & 0.951 \\\\ 0.732 & 0.599\\end{bmatrix}$ and $\\Large \\begin{bmatrix}0.156 & 0.156 \\\\ 0.0581 & 0.866\\end{bmatrix}$ and compute the trace of the result.\n",
       "\n",
       "\n",
       "\n",
       "\n",
       "\n",
       "*Estimated time: 10 minutes*\n",
       "\n",
       "\n",
       "\n",
       "\n",
       "<span style=\"font-family:Papyrus; font-size:2em;\">Feedback</span>\n",
       "\n",
       "\n",
       "\n",
       "You just go row times column to get\n",
       "\n",
       "$\\Large \n",
       "A \\times B\n",
       "=\n",
       "\\begin{bmatrix}0.114 & 0.882 \\\\ 0.149 & 0.633\\end{bmatrix}\n",
       "$. Now, the trace is just the sum of the elements in the diagonal, i.e., $\\Large 0.114$ and $\\Large 0.633$.\n",
       "\n",
       "<span style=\"font-family:Papyrus; font-size:2em;\">Solution</span>\n",
       "\n",
       " 0.746386903509117 (error: .0746386903509117)\n"
      ],
      "text/plain": [
       "<IPython.core.display.Markdown object>"
      ]
     },
     "execution_count": 13,
     "metadata": {},
     "output_type": "execute_result"
    }
   ],
   "source": [
    "py2gift.util.render_latex(py2gift.core.generator_to_markdown(\n",
    "    settings.to_dict(), category_name, getattr(settings.fake_module, class_name)))"
   ]
  },
  {
   "cell_type": "markdown",
   "metadata": {},
   "source": [
    "$\\LaTeX$ formulas are enlarged (`\\Large` is prepended) for better visualization inside the notebook, but they are kept as they were when written in the generated GIFT file. Also notice that `n_instances` of this question will actually be generated, though only the first one was shown here."
   ]
  },
  {
   "cell_type": "markdown",
   "metadata": {},
   "source": [
    "# Energy of a signal"
   ]
  },
  {
   "cell_type": "code",
   "execution_count": 14,
   "metadata": {},
   "outputs": [],
   "source": [
    "time = 5"
   ]
  },
  {
   "cell_type": "code",
   "execution_count": 15,
   "metadata": {},
   "outputs": [],
   "source": [
    "class_name = 'EnergySignal'\n",
    "category_name = 'Signals'\n",
    "question_base_name='Energy of a signal'"
   ]
  },
  {
   "cell_type": "code",
   "execution_count": 16,
   "metadata": {},
   "outputs": [],
   "source": [
    "category_name = settings.add_category(category_name=category_name)\n",
    "settings.add_or_update_class(\n",
    "    category_name=category_name, class_name=class_name, question_base_name=question_base_name,\n",
    "    n_instances=n_instances, time=time)\n",
    "time_keeper.record(time, question_base_name)"
   ]
  },
  {
   "cell_type": "code",
   "execution_count": 17,
   "metadata": {},
   "outputs": [
    {
     "data": {
      "text/plain": [
       "'statement recorded'"
      ]
     },
     "execution_count": 17,
     "metadata": {},
     "output_type": "execute_result"
    }
   ],
   "source": [
    "%%statement settings --cls {class_name} --category {json.dumps(category_name)}\n",
    "Compute the energy of the signal in the figure below\n",
    "!signal"
   ]
  },
  {
   "cell_type": "code",
   "execution_count": 18,
   "metadata": {},
   "outputs": [
    {
     "data": {
      "text/plain": [
       "'feedback recorded'"
      ]
     },
     "execution_count": 18,
     "metadata": {},
     "output_type": "execute_result"
    }
   ],
   "source": [
    "%%feedback  settings --cls {class_name} --category {json.dumps(category_name)}\n",
    "We just need to square the signal and integrate it between $0$ and $!width$. Now, the slope of the line is clearly $!slope$, and hence\n",
    "$\n",
    "    E\n",
    "    =\n",
    "    \\int_0^!width\n",
    "    x(t)^2\n",
    "    dt\n",
    "    =\n",
    "    \\int_0^!width\n",
    "    !slope^2t^2\n",
    "    dt\n",
    "    =\n",
    "    !squared_slope\n",
    "    \\frac{t^3}{3}\n",
    "    \\Big|_0^!width\n",
    "$"
   ]
  },
  {
   "cell_type": "markdown",
   "metadata": {},
   "source": [
    "If copy and pasting, you must remember to match the name of this class with whatever you specified above in `class_name`. Since this is a multiple-choice question, we should set\n",
    "* `self.right_answer` to a **string** with the right answer\n",
    "* `self.wrong_answers` to a **list of strings** with the wrong ones"
   ]
  },
  {
   "cell_type": "code",
   "execution_count": 19,
   "metadata": {},
   "outputs": [],
   "source": [
    "%mkdir -p 'images'"
   ]
  },
  {
   "cell_type": "code",
   "execution_count": 20,
   "metadata": {},
   "outputs": [
    {
     "data": {
      "text/markdown": [
       "\n",
       "<span style=\"font-family:Papyrus; font-size:2em;\">Statement</span>\n",
       "\n",
       "Compute the energy of the signal in the figure below\n",
       "\n",
       "![](signal_b60267be-c856-11ec-b269-d8cb8aeac823.svg)\n",
       "\n",
       "\n",
       "\n",
       "\n",
       "\n",
       "*Estimated time: 5 minutes*\n",
       "\n",
       "\n",
       "\n",
       "\n",
       "<span style=\"font-family:Papyrus; font-size:2em;\">Feedback</span>\n",
       "\n",
       "\n",
       "\n",
       "We just need to square the signal and integrate it between $\\Large 0$ and $\\Large 6$. Now, the slope of the line is clearly $\\Large 4$, and hence\n",
       "\n",
       "$\\Large \n",
       "    E\n",
       "    =\n",
       "    \\int_0^6\n",
       "    x(t)^2\n",
       "    dt\n",
       "    =\n",
       "    \\int_0^6\n",
       "    4^2t^2\n",
       "    dt\n",
       "    =\n",
       "    16\n",
       "    \\frac{t^3}{3}\n",
       "    \\Big|_0^6\n",
       "$\n",
       "\n",
       "<span style=\"font-family:Papyrus; font-size:2em;\">Choices</span>\n",
       "\n",
       "* **<font color='green'>1152.000</font>**\n",
       "* **<font color='red'>2293.000</font>**\n",
       "* **<font color='red'>1771.500</font>**\n",
       "* **<font color='red'>515.500</font>**\n",
       "* **<font color='red'>28.500</font>**\n",
       "* **<font color='red'>1961.000</font>**\n",
       "* **<font color='red'>411.000</font>**\n",
       "* **<font color='red'>2250.000</font>**\n"
      ],
      "text/plain": [
       "<IPython.core.display.Markdown object>"
      ]
     },
     "execution_count": 20,
     "metadata": {},
     "output_type": "execute_result"
    }
   ],
   "source": [
    "class EnergySignal(py2gift.question.MultipleChoiceQuestionGenerator):\n",
    "    \n",
    "    def setup(self):\n",
    "        \n",
    "        # a random number for the slope...\n",
    "        slope = self.prng.randint(1, 6) \n",
    "        \n",
    "        # ...and another one for the width\n",
    "        width = self.prng.randint(3, 10) \n",
    "        \n",
    "        x = np.arange(width)\n",
    "        y = slope*x\n",
    "        \n",
    "        extra = 4\n",
    "        \n",
    "        x = np.r_[np.arange(-extra, 0), x, np.arange(width-1, width + (extra - 1))]\n",
    "        y = np.r_[np.zeros(extra), y, np.zeros(extra)]\n",
    "\n",
    "        fig, ax = plt.subplots()\n",
    "        ax.plot(x, y)\n",
    "        ax.set_title('$x(t)$')\n",
    "        \n",
    "        # picture must be saved as an svg...\n",
    "        signal = 'signal.svg'\n",
    "        \n",
    "        # ...but care must be taken so that every random picture has a different name\n",
    "        signal = py2gift.file.unique_name(signal)\n",
    "        \n",
    "        fig.savefig(signal, transparent=True)\n",
    "        \n",
    "        # after the file is created, we don't need it anymore (and it's taking up resources)\n",
    "        plt.close()\n",
    "        \n",
    "        self.statement.fill(signal=signal)\n",
    "        \n",
    "        # since `np.arange` stops right before the argument,\n",
    "        width -= 1\n",
    "        \n",
    "        squared_slope = slope**2\n",
    "        \n",
    "        self.feedback.fill(\n",
    "            width=width,\n",
    "            slope=slope,\n",
    "            squared_slope=squared_slope\n",
    "        )\n",
    "        \n",
    "        solution = width**3 * squared_slope / 3\n",
    "        \n",
    "        # whatever is passed as the \"right answer\" must be a string...\n",
    "        self.right_answer = py2gift.tex.from_number(solution, precision=3, fixed_point_format=True)\n",
    "        \n",
    "        # ...and so must the wrong \"answers\"; for generating wrong answers we use the\n",
    "        # method `wrong_numerical_solutions_from_correct_one` from `py2gift.util` module\n",
    "        self.wrong_answers = py2gift.util.wrong_numerical_solutions_from_correct_one(\n",
    "            solution=solution, n=7,\n",
    "            min_sep=0.5*solution,\n",
    "            max_sep=solution,\n",
    "            precision=3, fixed_point_format=True,\n",
    "            bin_width=0.5,\n",
    "            lower_bound=0, unique=True, prng = self.prng)\n",
    "        \n",
    "\n",
    "# for previewing the question\n",
    "py2gift.util.render_latex(py2gift.core.generator_to_markdown(\n",
    "    settings.to_dict(), category_name, getattr(settings.fake_module, class_name)))"
   ]
  },
  {
   "cell_type": "markdown",
   "metadata": {},
   "source": [
    "# Time"
   ]
  },
  {
   "cell_type": "code",
   "execution_count": 21,
   "metadata": {},
   "outputs": [
    {
     "name": "stdout",
     "output_type": "stream",
     "text": [
      "Accumulated time: 15 minutes\n"
     ]
    },
    {
     "data": {
      "image/png": "[encoded data removed]",
      "text/plain": [
       "<Figure size 432x288 with 1 Axes>"
      ]
     },
     "metadata": {},
     "output_type": "display_data"
    }
   ],
   "source": [
    "matplotlib.use(mpl_backend)\n",
    "time_keeper.plot()\n",
    "print(time_keeper)"
   ]
  },
  {
   "cell_type": "markdown",
   "metadata": {},
   "source": [
    "# Generating the GIFT file"
   ]
  },
  {
   "cell_type": "code",
   "execution_count": 22,
   "metadata": {},
   "outputs": [
    {
     "data": {
      "application/vnd.jupyter.widget-view+json": {
       "model_id": "",
       "version_major": 2,
       "version_minor": 0
      },
      "text/plain": [
       "category:   0%|          | 0/2 [00:00<?, ?it/s]"
      ]
     },
     "metadata": {},
     "output_type": "display_data"
    },
    {
     "data": {
      "application/vnd.jupyter.widget-view+json": {
       "model_id": "",
       "version_major": 2,
       "version_minor": 0
      },
      "text/plain": [
       "question:   0%|          | 0/2 [00:00<?, ?it/s]"
      ]
     },
     "metadata": {},
     "output_type": "display_data"
    },
    {
     "data": {
      "application/vnd.jupyter.widget-view+json": {
       "model_id": "",
       "version_major": 2,
       "version_minor": 0
      },
      "text/plain": [
       "question:   0%|          | 0/2 [00:00<?, ?it/s]"
      ]
     },
     "metadata": {},
     "output_type": "display_data"
    },
    {
     "name": "stdout",
     "output_type": "stream",
     "text": [
      "file \"quiz.gift.txt\" created\n"
     ]
    }
   ],
   "source": [
    "# %%script false --no-raise-error\n",
    "local_run = True\n",
    "embed_images = True\n",
    "py2gift.core.build(\n",
    "    settings.to_dict(), local_run=local_run, questions_module=settings.fake_module, parameters_file={},\n",
    "    no_checks=True, embed_images=embed_images)"
   ]
  },
  {
   "cell_type": "markdown",
   "metadata": {},
   "source": [
    "Retrieve the created file from the link below (not present in the docs)."
   ]
  },
  {
   "cell_type": "code",
   "execution_count": 23,
   "metadata": {},
   "outputs": [
    {
     "data": {
      "text/html": [
       "<a href='quiz.gift.txt' target='_blank'>quiz.gift.txt</a><br>"
      ],
      "text/plain": [
       "/home/manu/py2gift/examples/quiz.gift.txt"
      ]
     },
     "execution_count": 23,
     "metadata": {},
     "output_type": "execute_result"
    }
   ],
   "source": [
    "from IPython.display import FileLink, FileLinks\n",
    "FileLink('quiz.gift.txt')"
   ]
  }
 ],
 "metadata": {
  "kernelspec": {
   "display_name": "Python 3 (ipykernel)",
   "language": "python",
   "name": "python3"
  },
  "language_info": {
   "codemirror_mode": {
    "name": "ipython",
    "version": 3
   },
   "file_extension": ".py",
   "mimetype": "text/x-python",
   "name": "python",
   "nbconvert_exporter": "python",
   "pygments_lexer": "ipython3",
   "version": "3.10.4"
  }
 },
 "nbformat": 4,
 "nbformat_minor": 4
}
