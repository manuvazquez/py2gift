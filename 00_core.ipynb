{
 "cells": [
  {
   "cell_type": "code",
   "execution_count": null,
   "metadata": {},
   "outputs": [],
   "source": [
    "# default_exp core"
   ]
  },
  {
   "cell_type": "markdown",
   "metadata": {},
   "source": [
    "# Core\n",
    "\n",
    "> Main functionality."
   ]
  },
  {
   "cell_type": "markdown",
   "metadata": {},
   "source": [
    "The implementation of the main script is actually in the `build` function below. `main` is just a *wrapper* that parses command-line arguments."
   ]
  },
  {
   "cell_type": "code",
   "execution_count": null,
   "metadata": {},
   "outputs": [],
   "source": [
    "#hide\n",
    "from nbdev.showdoc import *"
   ]
  },
  {
   "cell_type": "code",
   "execution_count": null,
   "metadata": {},
   "outputs": [],
   "source": [
    "# export\n",
    "import sys\n",
    "import argparse\n",
    "import pathlib\n",
    "import importlib.util\n",
    "import string\n",
    "import collections\n",
    "from types import ModuleType\n",
    "from typing import Optional, Union\n",
    "\n",
    "import numpy as np\n",
    "import yaml\n",
    "\n",
    "# to avoid tqdm's experimental warning\n",
    "import warnings\n",
    "warnings.filterwarnings(\"ignore\", message='Using `tqdm.autonotebook.tqdm` in notebook mode')\n",
    "\n",
    "import py2gift.util\n",
    "import py2gift.question\n",
    "import py2gift.input_file\n",
    "\n",
    "import gift_wrapper.core\n",
    "import gift_wrapper.question\n",
    "\n",
    "# some classes in `gift_wrapper.question` are \"patched\" when this module is imported\n",
    "import py2gift.markdown"
   ]
  },
  {
   "cell_type": "markdown",
   "metadata": {},
   "source": [
    "## Command-line arguments"
   ]
  },
  {
   "cell_type": "markdown",
   "metadata": {},
   "source": [
    "The function below just parses command-line arguments and pass them to the `build` function below."
   ]
  },
  {
   "cell_type": "code",
   "execution_count": null,
   "metadata": {},
   "outputs": [],
   "source": [
    "# export\n",
    "def main():\n",
    "    \n",
    "    parser = argparse.ArgumentParser(description='Python to GIFT converter')\n",
    "\n",
    "    parser.add_argument(\n",
    "        'input_file', type=argparse.FileType('r'), default='global_settings.yaml', help='settings file', nargs='?')\n",
    "\n",
    "    parser.add_argument('-c', '--code_directory', default='.', help='directory with the required source code')\n",
    "\n",
    "    parser.add_argument(\n",
    "        '-m', '--main_module', default='questions.py', help='file with the questions generators')\n",
    "\n",
    "    parser.add_argument(\n",
    "        '-l', '--local', default=False, action='store_true', help=\"don't try to copy the images to the server\")\n",
    "\n",
    "    command_line_arguments = parser.parse_args()\n",
    "    \n",
    "    code_directory = pathlib.Path(command_line_arguments.code_directory)\n",
    "    main_module = pathlib.Path(command_line_arguments.main_module)\n",
    "\n",
    "    sys.path.insert(0, code_directory.absolute().as_posix())\n",
    "    spec = importlib.util.spec_from_file_location(main_module.stem, (code_directory / main_module).absolute())\n",
    "    questions_generators = importlib.util.module_from_spec(spec)\n",
    "    spec.loader.exec_module(questions_generators)\n",
    "    \n",
    "    build(command_line_arguments.input_file.name, command_line_arguments.local, questions_generators)"
   ]
  },
  {
   "cell_type": "markdown",
   "metadata": {},
   "source": [
    "## Auxiliary functions"
   ]
  },
  {
   "cell_type": "markdown",
   "metadata": {},
   "source": [
    "### Obtaining the `__init__` parameters for a class from the corresponding settings"
   ]
  },
  {
   "cell_type": "markdown",
   "metadata": {},
   "source": [
    "A function to obtain the initialization parameters of a given class given the corresponding settings.\n",
    "\n",
    "* `cls_settings`: a `dict` with the all parameters for the class; it should include keys `statement`, `feedback` and, optionally, `time`\n",
    "\n",
    "It returns another dictionary."
   ]
  },
  {
   "cell_type": "code",
   "execution_count": null,
   "metadata": {},
   "outputs": [],
   "source": [
    "# export\n",
    "def init_parameters_from_settings(cls_settings: dict) -> dict:\n",
    "    \"\"\"\n",
    "    Returns a dictionary with the initialization parameters for a question.\n",
    "    \n",
    "    **Parameters**\n",
    "    \n",
    "    - cls_settings: dict\n",
    "        \n",
    "        Settings for the class, which should include `statement`, `feedback` and, optionally, `time`.\n",
    "        \n",
    "    **Returns**\n",
    "    \n",
    "    - out: dict\n",
    "        \n",
    "        A dictionary with the *exact* parameters that must be passed when instantiating the class.\n",
    "    \"\"\"\n",
    "\n",
    "    init_parameters = {\n",
    "        'statement': py2gift.question.TemplatedLatexText(cls_settings['statement']),\n",
    "        'feedback': py2gift.question.TemplatedLatexText(cls_settings['feedback'])\n",
    "    }\n",
    "    \n",
    "    if 'time' in cls_settings:\n",
    "        \n",
    "        init_parameters['time'] = cls_settings['time']\n",
    "\n",
    "    init_parameters.update(cls_settings.get('init parameters', {}))\n",
    "    \n",
    "    return init_parameters"
   ]
  },
  {
   "cell_type": "markdown",
   "metadata": {},
   "source": [
    "The name for a *testing* file"
   ]
  },
  {
   "cell_type": "code",
   "execution_count": null,
   "metadata": {},
   "outputs": [],
   "source": [
    "input_file = '_input.yaml'"
   ]
  },
  {
   "cell_type": "code",
   "execution_count": null,
   "metadata": {},
   "outputs": [
    {
     "name": "stdout",
     "output_type": "stream",
     "text": [
      "Overwriting _input.yaml\n"
     ]
    }
   ],
   "source": [
    "%%writefile {input_file}\n",
    "\n",
    "output file: quiz.yaml\n",
    "pictures base directory: tc/midterm3\n",
    "\n",
    "categories:\n",
    "\n",
    "  - name: Test category\n",
    "\n",
    "    classes:\n",
    "\n",
    "      - name: TestClass\n",
    "\n",
    "        question base name: Test class\n",
    "            \n",
    "        init parameters:\n",
    "            \n",
    "            distribution: Gaussian\n",
    "\n",
    "        statement: |\n",
    "          Consider a random variable, $X$, with mean $ \\mu = !mean $ and variance...\n",
    "          \n",
    "\n",
    "        feedback: |\n",
    "          Clearly, $Y$ is...\n",
    "          \n",
    "\n",
    "        time: 15\n",
    "        \n",
    "        number of instances: 2"
   ]
  },
  {
   "cell_type": "markdown",
   "metadata": {},
   "source": [
    "The *initialization parameters* for the first class in the first category can be obtained as"
   ]
  },
  {
   "cell_type": "code",
   "execution_count": null,
   "metadata": {},
   "outputs": [
    {
     "data": {
      "text/plain": [
       "{'statement': un-filled template:\n",
       " Consider a random variable, $$X$$, with mean $$ \\mu = $mean $$ and variance...,\n",
       " 'feedback': Clearly, $Y$ is...,\n",
       " 'time': 15,\n",
       " 'distribution': 'Gaussian'}"
      ]
     },
     "execution_count": null,
     "metadata": {},
     "output_type": "execute_result"
    }
   ],
   "source": [
    "input_data = py2gift.util.yaml_to_dict(input_file)    \n",
    "init_parameters_from_settings(input_data['categories'][0]['classes'][0])"
   ]
  },
  {
   "cell_type": "markdown",
   "metadata": {},
   "source": [
    "If `init_parameters` is absent,"
   ]
  },
  {
   "cell_type": "code",
   "execution_count": null,
   "metadata": {},
   "outputs": [],
   "source": [
    "no_init_input_file = '_input2.yaml'"
   ]
  },
  {
   "cell_type": "code",
   "execution_count": null,
   "metadata": {},
   "outputs": [
    {
     "name": "stdout",
     "output_type": "stream",
     "text": [
      "Overwriting _input2.yaml\n"
     ]
    }
   ],
   "source": [
    "%%writefile {no_init_input_file}\n",
    "\n",
    "output file: quiz.yaml\n",
    "pictures base directory: tc/midterm3\n",
    "\n",
    "categories:\n",
    "\n",
    "  - name: Test category\n",
    "\n",
    "    classes:\n",
    "\n",
    "      - name: TestClass\n",
    "\n",
    "        question base name: Test class\n",
    "\n",
    "        statement: |\n",
    "          Consider a random variable, $X$, with mean $ \\mu = !mean $ and variance...\n",
    "          \n",
    "\n",
    "        feedback: |\n",
    "          Clearly, $Y$ is...\n",
    "          \n",
    "\n",
    "        time: 15\n",
    "        \n",
    "        number of instances: 2"
   ]
  },
  {
   "cell_type": "markdown",
   "metadata": {},
   "source": [
    ", then only *basic* parameters will be passed when instatiating the class"
   ]
  },
  {
   "cell_type": "code",
   "execution_count": null,
   "metadata": {},
   "outputs": [
    {
     "data": {
      "text/plain": [
       "{'statement': un-filled template:\n",
       " Consider a random variable, $$X$$, with mean $$ \\mu = $mean $$ and variance...,\n",
       " 'feedback': Clearly, $Y$ is...,\n",
       " 'time': 15}"
      ]
     },
     "execution_count": null,
     "metadata": {},
     "output_type": "execute_result"
    }
   ],
   "source": [
    "input_data = py2gift.util.yaml_to_dict(no_init_input_file)    \n",
    "init_parameters_from_settings(input_data['categories'][0]['classes'][0])"
   ]
  },
  {
   "cell_type": "markdown",
   "metadata": {},
   "source": [
    "## Processing of a bunch of questions"
   ]
  },
  {
   "cell_type": "markdown",
   "metadata": {},
   "source": [
    "### Building a *GIFT* file from generators' settings"
   ]
  },
  {
   "cell_type": "markdown",
   "metadata": {},
   "source": [
    "The workhorse of the library."
   ]
  },
  {
   "cell_type": "code",
   "execution_count": null,
   "metadata": {},
   "outputs": [],
   "source": [
    "# export\n",
    "def build(\n",
    "    settings: Union[str, dict], local_run: bool, questions_module: ModuleType,\n",
    "    parameters_file: Union[str, dict] = 'parameters.yaml', no_checks: bool = False,\n",
    "    overwrite_existing_latex_files: bool = True, embed_images: bool = False) -> None:\n",
    "    \"\"\"\n",
    "    Generates a GIFT file.\n",
    "\n",
    "    **Parameters**\n",
    "    \n",
    "    - settings: str or dict\n",
    "        \n",
    "        Settings for all the questions (generators).\n",
    "    \n",
    "    - local_run: bool\n",
    "        \n",
    "        If True, pictures will not be copied to a remote host.\n",
    "    \n",
    "    - questions_module: ModuleType\n",
    "        \n",
    "        A module or structure that holds the classes referenced in the settings.\n",
    "    \n",
    "    - parameters_file: str or dict\n",
    "        \n",
    "        File or dictionary with the parameters for \"gift-wrapper\".\n",
    "    \n",
    "    - no_checks: bool\n",
    "        \n",
    "        Whether or not LaTeX formulas should be checked.\n",
    "    \n",
    "    - overwrite_existing_latex_files: bool\n",
    "        \n",
    "        If True the auxiliar file for checks should be, if existing, overwritten without a warning.\n",
    "    \n",
    "    - embed_images: bool\n",
    "        \n",
    "        If True, images will be embedded in the questions (rather than linked).\n",
    "    \"\"\"\n",
    "    \n",
    "    # if settings is the name of a file...\n",
    "    if type(settings) == str:\n",
    "\n",
    "        with open(settings) as f:\n",
    "\n",
    "            settings = yaml.load(f, Loader=yaml.FullLoader)\n",
    "    \n",
    "    else:\n",
    "        \n",
    "        assert type(settings) == dict\n",
    "\n",
    "    output_file = settings['output file']\n",
    "\n",
    "    category_questions = collections.defaultdict(list)\n",
    "\n",
    "    for cat in settings['categories']:\n",
    "\n",
    "        questions = []\n",
    "\n",
    "        for c in cat['classes']:\n",
    "\n",
    "            this_class_questions = []\n",
    "            \n",
    "            # either `parameters` or `number of instances` is present, but not both\n",
    "            assert ('parameters' in c) ^ ('number of instances' in c), (\n",
    "                'either \"parameters\" or \"number of instances\" must be specified')\n",
    "            \n",
    "            question_generator = getattr(questions_module, c['name'])(**init_parameters_from_settings(c))\n",
    "            \n",
    "            if 'parameters' in c:\n",
    "\n",
    "                for p in c['parameters']:\n",
    "\n",
    "                    this_class_questions.append(question_generator(**p))\n",
    "            \n",
    "            else:\n",
    "                \n",
    "                for _ in range(c['number of instances']):\n",
    "                    \n",
    "                    this_class_questions.append(question_generator())\n",
    "\n",
    "            questions.extend(py2gift.util.add_name(this_class_questions, base_name=c['question base name']))\n",
    "        \n",
    "        category_questions[cat['name'] if type(cat['name']) != list else tuple(cat['name'])].extend(questions)\n",
    "\n",
    "    # --------\n",
    "\n",
    "    py2gift.util.write_multiple_categories(\n",
    "        category_questions, settings['pictures base directory'], output_file=output_file)\n",
    "    \n",
    "    gift_wrapper.core.wrap(\n",
    "        parameters_file, output_file, local_run=local_run, no_checks=no_checks,\n",
    "        overwrite_existing_latex_files=overwrite_existing_latex_files, embed_images=embed_images)"
   ]
  },
  {
   "cell_type": "markdown",
   "metadata": {},
   "source": [
    "This function expects, among other things, an *input file* (defined above), a *module* implementing the classes referenced in the latter, and a *parameters file*."
   ]
  },
  {
   "cell_type": "markdown",
   "metadata": {},
   "source": [
    "#### Module with questions"
   ]
  },
  {
   "cell_type": "markdown",
   "metadata": {},
   "source": [
    "This can be used in the same way as module would."
   ]
  },
  {
   "cell_type": "code",
   "execution_count": null,
   "metadata": {},
   "outputs": [],
   "source": [
    "class FakeModule:\n",
    "    \n",
    "    class TestClass(py2gift.question.NumericalQuestionGenerator):\n",
    "    \n",
    "        def __init__(\n",
    "            self, statement: py2gift.question.TemplatedLatexText, feedback: py2gift.question.TemplatedLatexText,\n",
    "            distribution: str, time: Optional[int] = None,\n",
    "            prng: np.random.RandomState = np.random.RandomState(42)) -> None:\n",
    "\n",
    "            super().__init__(statement, feedback, time, prng)\n",
    "            \n",
    "            self.distribution = distribution\n",
    "        \n",
    "        def setup(self):\n",
    "            \n",
    "            mean = np.random.rand()\n",
    "\n",
    "            self.statement.fill(mean=mean)\n",
    "\n",
    "            self.solution = 42\n",
    "            self.error = '10%'"
   ]
  },
  {
   "cell_type": "markdown",
   "metadata": {},
   "source": [
    "#### Parameters file"
   ]
  },
  {
   "cell_type": "code",
   "execution_count": null,
   "metadata": {},
   "outputs": [],
   "source": [
    "parameters_file = '_parameters.yaml'"
   ]
  },
  {
   "cell_type": "code",
   "execution_count": null,
   "metadata": {},
   "outputs": [
    {
     "name": "stdout",
     "output_type": "stream",
     "text": [
      "Overwriting _parameters.yaml\n"
     ]
    }
   ],
   "source": [
    "%%writefile {parameters_file}\n",
    "images hosting:\n",
    "\n",
    "  ssh:\n",
    "    user: mvazquez\n",
    "\n",
    "    # below, one should specify either a password for the user or  \"public key\" file but NOT both of them\n",
    "\n",
    "    password:\n",
    "\n",
    "    # \"~\" stands for the user's home directory (in Linux for one...)\n",
    "    public_key: ~/.ssh/id_rsa_mymachine.pub\n",
    "\n",
    "  copy:\n",
    "    # machine into which files will be copied\n",
    "    host: hidra1\n",
    "\n",
    "    # the path that in the remote machine acts as root of the publicly visible directories hierarchy (hence it's not\n",
    "    # visible from outside);  it *should* exist (\".\" stands for the working directory when you ssh into the machine)\n",
    "    public filesystem root: ./public_html\n",
    "\n",
    "  # public address from which the images will hang\n",
    "  public URL: http://www.tsc.uc3m.es/~mvazquez/\n",
    "\n",
    "latex:\n",
    "\n",
    "  # auxiliary TeX file that will be created to check that formulas can be compiled\n",
    "  auxiliary file: __latex_check.tex"
   ]
  },
  {
   "cell_type": "code",
   "execution_count": null,
   "metadata": {},
   "outputs": [
    {
     "data": {
      "application/vnd.jupyter.widget-view+json": {
       "model_id": "",
       "version_major": 2,
       "version_minor": 0
      },
      "text/plain": [
       "HBox(children=(FloatProgress(value=0.0, description='category', max=1.0, style=ProgressStyle(description_width…"
      ]
     },
     "metadata": {},
     "output_type": "display_data"
    },
    {
     "data": {
      "application/vnd.jupyter.widget-view+json": {
       "model_id": "",
       "version_major": 2,
       "version_minor": 0
      },
      "text/plain": [
       "HBox(children=(FloatProgress(value=0.0, description='question', max=2.0, style=ProgressStyle(description_width…"
      ]
     },
     "metadata": {},
     "output_type": "display_data"
    },
    {
     "name": "stdout",
     "output_type": "stream",
     "text": [
      "file \"quiz.gift.txt\" created\n"
     ]
    }
   ],
   "source": [
    "build(input_file, local_run=True, questions_module=FakeModule, parameters_file=parameters_file, no_checks=True)"
   ]
  },
  {
   "cell_type": "markdown",
   "metadata": {},
   "source": [
    "The file actually created underneath by `build` (the name, *quiz.yaml*, was set above in the `input_file`)"
   ]
  },
  {
   "cell_type": "code",
   "execution_count": null,
   "metadata": {},
   "outputs": [
    {
     "data": {
      "text/plain": [
       "\u001b[0mpictures\u001b[0m \u001b[0mbase\u001b[0m \u001b[0mdirectory\u001b[0m\u001b[0;34m:\u001b[0m \u001b[0mtc\u001b[0m\u001b[0;34m/\u001b[0m\u001b[0mmidterm3\u001b[0m\u001b[0;34m\u001b[0m\n",
       "\u001b[0;34m\u001b[0m\u001b[0mcategories\u001b[0m\u001b[0;34m:\u001b[0m\u001b[0;34m\u001b[0m\n",
       "\u001b[0;34m\u001b[0m  \u001b[0;34m-\u001b[0m \u001b[0mname\u001b[0m\u001b[0;34m:\u001b[0m \u001b[0mTest\u001b[0m \u001b[0mcategory\u001b[0m\u001b[0;34m\u001b[0m\n",
       "\u001b[0;34m\u001b[0m    \u001b[0mquestions\u001b[0m\u001b[0;34m:\u001b[0m\u001b[0;34m\u001b[0m\n",
       "\u001b[0;34m\u001b[0m      \u001b[0;34m-\u001b[0m \u001b[0;32mclass\u001b[0m\u001b[0;34m:\u001b[0m \u001b[0mNumerical\u001b[0m\u001b[0;34m\u001b[0m\n",
       "\u001b[0;34m\u001b[0m        \u001b[0mstatement\u001b[0m\u001b[0;34m:\u001b[0m \u001b[0;34m\"Consider a random variable, $X$, with mean $ \\\\mu = 0.0898 $ and\\\u001b[0m\n",
       "\u001b[0;34m          \\ variance...\\n\"\u001b[0m\u001b[0;34m\u001b[0m\n",
       "\u001b[0;34m\u001b[0m        \u001b[0mfeedback\u001b[0m\u001b[0;34m:\u001b[0m \u001b[0;34m\"Clearly, $Y$ is...\\n\"\u001b[0m\u001b[0;34m\u001b[0m\n",
       "\u001b[0;34m\u001b[0m        \u001b[0mtime\u001b[0m\u001b[0;34m:\u001b[0m \u001b[0;34m'15'\u001b[0m\u001b[0;34m\u001b[0m\n",
       "\u001b[0;34m\u001b[0m        \u001b[0msolution\u001b[0m\u001b[0;34m:\u001b[0m\u001b[0;34m\u001b[0m\n",
       "\u001b[0;34m\u001b[0m          \u001b[0mvalue\u001b[0m\u001b[0;34m:\u001b[0m \u001b[0;36m42\u001b[0m\u001b[0;34m\u001b[0m\n",
       "\u001b[0;34m\u001b[0m          \u001b[0merror\u001b[0m\u001b[0;34m:\u001b[0m \u001b[0;36m10\u001b[0m\u001b[0;34m%\u001b[0m\u001b[0;34m\u001b[0m\n",
       "\u001b[0;34m\u001b[0m        \u001b[0mname\u001b[0m\u001b[0;34m:\u001b[0m \u001b[0mTest\u001b[0m \u001b[0;32mclass\u001b[0m \u001b[0mI\u001b[0m\u001b[0;34m\u001b[0m\n",
       "\u001b[0;34m\u001b[0m      \u001b[0;34m-\u001b[0m \u001b[0;32mclass\u001b[0m\u001b[0;34m:\u001b[0m \u001b[0mNumerical\u001b[0m\u001b[0;34m\u001b[0m\n",
       "\u001b[0;34m\u001b[0m        \u001b[0mstatement\u001b[0m\u001b[0;34m:\u001b[0m \u001b[0;34m\"Consider a random variable, $X$, with mean $ \\\\mu = 0.283 $ and\\\u001b[0m\n",
       "\u001b[0;34m          \\ variance...\\n\"\u001b[0m\u001b[0;34m\u001b[0m\n",
       "\u001b[0;34m\u001b[0m        \u001b[0mfeedback\u001b[0m\u001b[0;34m:\u001b[0m \u001b[0;34m\"Clearly, $Y$ is...\\n\"\u001b[0m\u001b[0;34m\u001b[0m\n",
       "\u001b[0;34m\u001b[0m        \u001b[0mtime\u001b[0m\u001b[0;34m:\u001b[0m \u001b[0;34m'15'\u001b[0m\u001b[0;34m\u001b[0m\n",
       "\u001b[0;34m\u001b[0m        \u001b[0msolution\u001b[0m\u001b[0;34m:\u001b[0m\u001b[0;34m\u001b[0m\n",
       "\u001b[0;34m\u001b[0m          \u001b[0mvalue\u001b[0m\u001b[0;34m:\u001b[0m \u001b[0;36m42\u001b[0m\u001b[0;34m\u001b[0m\n",
       "\u001b[0;34m\u001b[0m          \u001b[0merror\u001b[0m\u001b[0;34m:\u001b[0m \u001b[0;36m10\u001b[0m\u001b[0;34m%\u001b[0m\u001b[0;34m\u001b[0m\n",
       "\u001b[0;34m\u001b[0m        \u001b[0mname\u001b[0m\u001b[0;34m:\u001b[0m \u001b[0mTest\u001b[0m \u001b[0;32mclass\u001b[0m \u001b[0mII\u001b[0m\u001b[0;34m\u001b[0m\u001b[0;34m\u001b[0m\u001b[0m\n"
      ]
     },
     "metadata": {},
     "output_type": "display_data"
    }
   ],
   "source": [
    "%pycat quiz.yaml"
   ]
  },
  {
   "cell_type": "markdown",
   "metadata": {},
   "source": [
    "is ultimately processed by `gift_wrapper` to yield"
   ]
  },
  {
   "cell_type": "code",
   "execution_count": null,
   "metadata": {},
   "outputs": [
    {
     "data": {
      "text/plain": [
       "\u001b[0;31m$\u001b[0m\u001b[0mCATEGORY\u001b[0m\u001b[0;34m:\u001b[0m\u001b[0;31m \u001b[0m\u001b[0;31m$\u001b[0m\u001b[0mcourse\u001b[0m\u001b[0;31m$\u001b[0m\u001b[0;34m/\u001b[0m\u001b[0mTest\u001b[0m \u001b[0mcategory\u001b[0m\u001b[0;34m\u001b[0m\n",
       "\u001b[0;34m\u001b[0m\u001b[0;34m\u001b[0m\n",
       "\u001b[0;34m\u001b[0m\u001b[0;34m:\u001b[0m\u001b[0;34m:\u001b[0m\u001b[0mTest\u001b[0m \u001b[0;32mclass\u001b[0m \u001b[0mI\u001b[0m\u001b[0;34m:\u001b[0m\u001b[0;34m:\u001b[0m\u001b[0;34m[\u001b[0m\u001b[0mhtml\u001b[0m\u001b[0;34m]\u001b[0m\u001b[0mConsider\u001b[0m \u001b[0ma\u001b[0m \u001b[0mrandom\u001b[0m \u001b[0mvariable\u001b[0m\u001b[0;34m,\u001b[0m\u001b[0;31m \u001b[0m\u001b[0;31m\\\u001b[0m\u001b[0;31m\\\u001b[0m\u001b[0;34m(\u001b[0m\u001b[0mX\u001b[0m\u001b[0;31m\\\u001b[0m\u001b[0;31m\\\u001b[0m\u001b[0;34m)\u001b[0m\u001b[0;34m,\u001b[0m \u001b[0;32mwith\u001b[0m \u001b[0mmean\u001b[0m\u001b[0;31m \u001b[0m\u001b[0;31m\\\u001b[0m\u001b[0;31m\\\u001b[0m\u001b[0;34m(\u001b[0m\u001b[0;31m \u001b[0m\u001b[0;31m\\\u001b[0m\u001b[0;31m\\\u001b[0m\u001b[0mmu\u001b[0m\u001b[0;31m \u001b[0m\u001b[0;31m\\\u001b[0m\u001b[0;34m=\u001b[0m \u001b[0;36m0.0898\u001b[0m\u001b[0;31m \u001b[0m\u001b[0;31m\\\u001b[0m\u001b[0;31m\\\u001b[0m\u001b[0;34m)\u001b[0m \u001b[0;32mand\u001b[0m \u001b[0mvariance\u001b[0m\u001b[0;34m...\u001b[0m\u001b[0;34m<\u001b[0m\u001b[0mbr\u001b[0m\u001b[0;34m>\u001b[0m\u001b[0;34m<\u001b[0m\u001b[0mbr\u001b[0m\u001b[0;34m>\u001b[0m\u001b[0;34m<\u001b[0m\u001b[0mbr\u001b[0m\u001b[0;34m>\u001b[0m\u001b[0;34m<\u001b[0m\u001b[0mi\u001b[0m\u001b[0;34m>\u001b[0m\u001b[0mEstimated\u001b[0m \u001b[0mtime\u001b[0m\u001b[0;31m\\\u001b[0m\u001b[0;34m:\u001b[0m \u001b[0;36m15\u001b[0m \u001b[0mminutes\u001b[0m\u001b[0;34m<\u001b[0m\u001b[0;34m/\u001b[0m\u001b[0mi\u001b[0m\u001b[0;34m>\u001b[0m\u001b[0;34m<\u001b[0m\u001b[0mbr\u001b[0m\u001b[0;34m>\u001b[0m\u001b[0;34m{\u001b[0m\u001b[0;34m\u001b[0m\n",
       "\u001b[0;34m\u001b[0m\u001b[0;31m#       =%100%42:4.2#\u001b[0m\u001b[0;34m\u001b[0m\n",
       "\u001b[0;34m\u001b[0m        \u001b[0;31m####Clearly, \\\\(Y\\\\) is...\u001b[0m\u001b[0;34m\u001b[0m\n",
       "\u001b[0;34m\u001b[0m\u001b[0;34m}\u001b[0m\u001b[0;34m\u001b[0m\n",
       "\u001b[0;34m\u001b[0m\u001b[0;34m\u001b[0m\n",
       "\u001b[0;34m\u001b[0m\u001b[0;34m:\u001b[0m\u001b[0;34m:\u001b[0m\u001b[0mTest\u001b[0m \u001b[0;32mclass\u001b[0m \u001b[0mII\u001b[0m\u001b[0;34m:\u001b[0m\u001b[0;34m:\u001b[0m\u001b[0;34m[\u001b[0m\u001b[0mhtml\u001b[0m\u001b[0;34m]\u001b[0m\u001b[0mConsider\u001b[0m \u001b[0ma\u001b[0m \u001b[0mrandom\u001b[0m \u001b[0mvariable\u001b[0m\u001b[0;34m,\u001b[0m\u001b[0;31m \u001b[0m\u001b[0;31m\\\u001b[0m\u001b[0;31m\\\u001b[0m\u001b[0;34m(\u001b[0m\u001b[0mX\u001b[0m\u001b[0;31m\\\u001b[0m\u001b[0;31m\\\u001b[0m\u001b[0;34m)\u001b[0m\u001b[0;34m,\u001b[0m \u001b[0;32mwith\u001b[0m \u001b[0mmean\u001b[0m\u001b[0;31m \u001b[0m\u001b[0;31m\\\u001b[0m\u001b[0;31m\\\u001b[0m\u001b[0;34m(\u001b[0m\u001b[0;31m \u001b[0m\u001b[0;31m\\\u001b[0m\u001b[0;31m\\\u001b[0m\u001b[0mmu\u001b[0m\u001b[0;31m \u001b[0m\u001b[0;31m\\\u001b[0m\u001b[0;34m=\u001b[0m \u001b[0;36m0.283\u001b[0m\u001b[0;31m \u001b[0m\u001b[0;31m\\\u001b[0m\u001b[0;31m\\\u001b[0m\u001b[0;34m)\u001b[0m \u001b[0;32mand\u001b[0m \u001b[0mvariance\u001b[0m\u001b[0;34m...\u001b[0m\u001b[0;34m<\u001b[0m\u001b[0mbr\u001b[0m\u001b[0;34m>\u001b[0m\u001b[0;34m<\u001b[0m\u001b[0mbr\u001b[0m\u001b[0;34m>\u001b[0m\u001b[0;34m<\u001b[0m\u001b[0mbr\u001b[0m\u001b[0;34m>\u001b[0m\u001b[0;34m<\u001b[0m\u001b[0mi\u001b[0m\u001b[0;34m>\u001b[0m\u001b[0mEstimated\u001b[0m \u001b[0mtime\u001b[0m\u001b[0;31m\\\u001b[0m\u001b[0;34m:\u001b[0m \u001b[0;36m15\u001b[0m \u001b[0mminutes\u001b[0m\u001b[0;34m<\u001b[0m\u001b[0;34m/\u001b[0m\u001b[0mi\u001b[0m\u001b[0;34m>\u001b[0m\u001b[0;34m<\u001b[0m\u001b[0mbr\u001b[0m\u001b[0;34m>\u001b[0m\u001b[0;34m{\u001b[0m\u001b[0;34m\u001b[0m\n",
       "\u001b[0;34m\u001b[0m\u001b[0;31m#       =%100%42:4.2#\u001b[0m\u001b[0;34m\u001b[0m\n",
       "\u001b[0;34m\u001b[0m        \u001b[0;31m####Clearly, \\\\(Y\\\\) is...\u001b[0m\u001b[0;34m\u001b[0m\n",
       "\u001b[0;34m\u001b[0m\u001b[0;34m}\u001b[0m\u001b[0;34m\u001b[0m\u001b[0;34m\u001b[0m\u001b[0m\n"
      ]
     },
     "metadata": {},
     "output_type": "display_data"
    }
   ],
   "source": [
    "%pycat quiz.gift.txt"
   ]
  },
  {
   "cell_type": "markdown",
   "metadata": {},
   "source": [
    "This is the file that is actually imported from *Moodle*, and *quiz.yaml* is mostly a *side effect*."
   ]
  },
  {
   "cell_type": "code",
   "execution_count": null,
   "metadata": {},
   "outputs": [],
   "source": [
    "!rm quiz.yaml quiz.gift.txt"
   ]
  },
  {
   "cell_type": "markdown",
   "metadata": {},
   "source": [
    "One can also pass directly the `dict` with the settings."
   ]
  },
  {
   "cell_type": "code",
   "execution_count": null,
   "metadata": {},
   "outputs": [
    {
     "data": {
      "application/vnd.jupyter.widget-view+json": {
       "model_id": "",
       "version_major": 2,
       "version_minor": 0
      },
      "text/plain": [
       "HBox(children=(FloatProgress(value=0.0, description='category', max=1.0, style=ProgressStyle(description_width…"
      ]
     },
     "metadata": {},
     "output_type": "display_data"
    },
    {
     "data": {
      "application/vnd.jupyter.widget-view+json": {
       "model_id": "",
       "version_major": 2,
       "version_minor": 0
      },
      "text/plain": [
       "HBox(children=(FloatProgress(value=0.0, description='question', max=2.0, style=ProgressStyle(description_width…"
      ]
     },
     "metadata": {},
     "output_type": "display_data"
    },
    {
     "name": "stdout",
     "output_type": "stream",
     "text": [
      "file \"quiz.gift.txt\" created\n"
     ]
    }
   ],
   "source": [
    "settings = py2gift.util.yaml_to_dict(input_file)\n",
    "\n",
    "build(settings, local_run=True, questions_module=FakeModule, parameters_file=parameters_file, no_checks=True)"
   ]
  },
  {
   "cell_type": "code",
   "execution_count": null,
   "metadata": {},
   "outputs": [
    {
     "data": {
      "text/plain": [
       "\u001b[0mpictures\u001b[0m \u001b[0mbase\u001b[0m \u001b[0mdirectory\u001b[0m\u001b[0;34m:\u001b[0m \u001b[0mtc\u001b[0m\u001b[0;34m/\u001b[0m\u001b[0mmidterm3\u001b[0m\u001b[0;34m\u001b[0m\n",
       "\u001b[0;34m\u001b[0m\u001b[0mcategories\u001b[0m\u001b[0;34m:\u001b[0m\u001b[0;34m\u001b[0m\n",
       "\u001b[0;34m\u001b[0m  \u001b[0;34m-\u001b[0m \u001b[0mname\u001b[0m\u001b[0;34m:\u001b[0m \u001b[0mTest\u001b[0m \u001b[0mcategory\u001b[0m\u001b[0;34m\u001b[0m\n",
       "\u001b[0;34m\u001b[0m    \u001b[0mquestions\u001b[0m\u001b[0;34m:\u001b[0m\u001b[0;34m\u001b[0m\n",
       "\u001b[0;34m\u001b[0m      \u001b[0;34m-\u001b[0m \u001b[0;32mclass\u001b[0m\u001b[0;34m:\u001b[0m \u001b[0mNumerical\u001b[0m\u001b[0;34m\u001b[0m\n",
       "\u001b[0;34m\u001b[0m        \u001b[0mstatement\u001b[0m\u001b[0;34m:\u001b[0m \u001b[0;34m\"Consider a random variable, $X$, with mean $ \\\\mu = 0.456 $ and\\\u001b[0m\n",
       "\u001b[0;34m          \\ variance...\\n\"\u001b[0m\u001b[0;34m\u001b[0m\n",
       "\u001b[0;34m\u001b[0m        \u001b[0mfeedback\u001b[0m\u001b[0;34m:\u001b[0m \u001b[0;34m\"Clearly, $Y$ is...\\n\"\u001b[0m\u001b[0;34m\u001b[0m\n",
       "\u001b[0;34m\u001b[0m        \u001b[0mtime\u001b[0m\u001b[0;34m:\u001b[0m \u001b[0;34m'15'\u001b[0m\u001b[0;34m\u001b[0m\n",
       "\u001b[0;34m\u001b[0m        \u001b[0msolution\u001b[0m\u001b[0;34m:\u001b[0m\u001b[0;34m\u001b[0m\n",
       "\u001b[0;34m\u001b[0m          \u001b[0mvalue\u001b[0m\u001b[0;34m:\u001b[0m \u001b[0;36m42\u001b[0m\u001b[0;34m\u001b[0m\n",
       "\u001b[0;34m\u001b[0m          \u001b[0merror\u001b[0m\u001b[0;34m:\u001b[0m \u001b[0;36m10\u001b[0m\u001b[0;34m%\u001b[0m\u001b[0;34m\u001b[0m\n",
       "\u001b[0;34m\u001b[0m        \u001b[0mname\u001b[0m\u001b[0;34m:\u001b[0m \u001b[0mTest\u001b[0m \u001b[0;32mclass\u001b[0m \u001b[0mI\u001b[0m\u001b[0;34m\u001b[0m\n",
       "\u001b[0;34m\u001b[0m      \u001b[0;34m-\u001b[0m \u001b[0;32mclass\u001b[0m\u001b[0;34m:\u001b[0m \u001b[0mNumerical\u001b[0m\u001b[0;34m\u001b[0m\n",
       "\u001b[0;34m\u001b[0m        \u001b[0mstatement\u001b[0m\u001b[0;34m:\u001b[0m \u001b[0;34m\"Consider a random variable, $X$, with mean $ \\\\mu = 0.505 $ and\\\u001b[0m\n",
       "\u001b[0;34m          \\ variance...\\n\"\u001b[0m\u001b[0;34m\u001b[0m\n",
       "\u001b[0;34m\u001b[0m        \u001b[0mfeedback\u001b[0m\u001b[0;34m:\u001b[0m \u001b[0;34m\"Clearly, $Y$ is...\\n\"\u001b[0m\u001b[0;34m\u001b[0m\n",
       "\u001b[0;34m\u001b[0m        \u001b[0mtime\u001b[0m\u001b[0;34m:\u001b[0m \u001b[0;34m'15'\u001b[0m\u001b[0;34m\u001b[0m\n",
       "\u001b[0;34m\u001b[0m        \u001b[0msolution\u001b[0m\u001b[0;34m:\u001b[0m\u001b[0;34m\u001b[0m\n",
       "\u001b[0;34m\u001b[0m          \u001b[0mvalue\u001b[0m\u001b[0;34m:\u001b[0m \u001b[0;36m42\u001b[0m\u001b[0;34m\u001b[0m\n",
       "\u001b[0;34m\u001b[0m          \u001b[0merror\u001b[0m\u001b[0;34m:\u001b[0m \u001b[0;36m10\u001b[0m\u001b[0;34m%\u001b[0m\u001b[0;34m\u001b[0m\n",
       "\u001b[0;34m\u001b[0m        \u001b[0mname\u001b[0m\u001b[0;34m:\u001b[0m \u001b[0mTest\u001b[0m \u001b[0;32mclass\u001b[0m \u001b[0mII\u001b[0m\u001b[0;34m\u001b[0m\u001b[0;34m\u001b[0m\u001b[0m\n"
      ]
     },
     "metadata": {},
     "output_type": "display_data"
    }
   ],
   "source": [
    "%pycat quiz.yaml"
   ]
  },
  {
   "cell_type": "markdown",
   "metadata": {},
   "source": [
    "## Processing a single question"
   ]
  },
  {
   "cell_type": "markdown",
   "metadata": {},
   "source": [
    "This is mostly intended for previewing a question in a [jupyter](https://jupyter.org/) notebook."
   ]
  },
  {
   "cell_type": "markdown",
   "metadata": {},
   "source": [
    "### Building a single question"
   ]
  },
  {
   "cell_type": "markdown",
   "metadata": {},
   "source": [
    "This function returns settings that allow building a question using *gift-wrapper*."
   ]
  },
  {
   "cell_type": "code",
   "execution_count": null,
   "metadata": {},
   "outputs": [],
   "source": [
    "# export\n",
    "def build_question(\n",
    "    question_generator: py2gift.question.QuestionGenerator, category_name: str, settings: dict, n_question: int=0\n",
    ") -> dict:\n",
    "    \"\"\"\n",
    "    Returns the settings for building a question using \"gift-wrapper\".\n",
    "    \n",
    "    ***Parameters***\n",
    "    \n",
    "    - `question_generator`: class\n",
    "        \n",
    "        The question generator that will generate the appropirate settings.\n",
    "    - `category_name`: str\n",
    "        \n",
    "        The name of category the class belongs to.\n",
    "    - `settings`: dict\n",
    "        \n",
    "        User settings.\n",
    "    - `n_question`: int\n",
    "        \n",
    "        The number of instance to be returned.\n",
    "        \n",
    "    ***Returns***\n",
    "    \n",
    "    - `out`: dict\n",
    "        \n",
    "        A dictionary with the settings that allow building the question using \"gift-wrapper\".\n",
    "        \n",
    "    \"\"\"\n",
    "    \n",
    "    class_name = question_generator.__name__\n",
    "    \n",
    "    class_settings = py2gift.input_file.extract_class_settings(category_name, class_name, settings)\n",
    "    \n",
    "    # an instance\n",
    "    question_generator = question_generator(**init_parameters_from_settings(class_settings))\n",
    "\n",
    "    assert ('parameters' in class_settings) ^ ('number of instances' in class_settings), (\n",
    "        'either \"parameters\" or \"number of instances\" must be specified')\n",
    "\n",
    "    if 'parameters' in class_settings:\n",
    "        # notice that `parameters` yields a list\n",
    "        return question_generator(**class_settings['parameters'][n_question])\n",
    "    else:\n",
    "        return question_generator()"
   ]
  },
  {
   "cell_type": "markdown",
   "metadata": {},
   "source": [
    "For testing, we need some settings. It is more natural to read and write them in a file."
   ]
  },
  {
   "cell_type": "code",
   "execution_count": null,
   "metadata": {},
   "outputs": [],
   "source": [
    "settings_file = '_settings.yaml'"
   ]
  },
  {
   "cell_type": "code",
   "execution_count": null,
   "metadata": {},
   "outputs": [
    {
     "name": "stdout",
     "output_type": "stream",
     "text": [
      "Overwriting _settings.yaml\n"
     ]
    }
   ],
   "source": [
    "%%writefile {settings_file}\n",
    "\n",
    "output file: quiz.yaml\n",
    "pictures base directory: pics\n",
    "\n",
    "categories:\n",
    "\n",
    "  - name: Category 1\n",
    "\n",
    "    classes:\n",
    "\n",
    "      - name: A\n",
    "\n",
    "        question base name: A numerical question\n",
    "\n",
    "        statement: What is...\n",
    "\n",
    "        feedback: Well...\n",
    "\n",
    "        parameters:\n",
    "\n",
    "          - a: 5\n",
    "            b: 3\n",
    "\n",
    "      - name: A\n",
    "\n",
    "        question base name: Another numerical question\n",
    "\n",
    "        statement: What is...\n",
    "\n",
    "        feedback: Well...\n",
    "        \n",
    "        number of instances: 2\n",
    "\n",
    "  # -----------------------------\n",
    "\n",
    "  - name: Category 2\n",
    "\n",
    "    classes:\n",
    "\n",
    "      - name: B\n",
    "\n",
    "        question base name: A multiple-choice question\n",
    "\n",
    "        init parameters:\n",
    "\n",
    "          nodes: ['S1', 'S2']\n",
    "\n",
    "        statement: |\n",
    "          Consider...\n",
    "\n",
    "        feedback: |\n",
    "          We must...\n",
    "\n",
    "        parameters: &dijkstra_parameters\n",
    "\n",
    "          - n: 0\n",
    "\n",
    "          - n: 1\n",
    "            \n",
    "  - name: Category 3\n",
    "\n",
    "    classes:\n",
    "\n",
    "      - name: C\n",
    "\n",
    "        question base name: Another numerical question\n",
    "\n",
    "        statement: What is...\n",
    "\n",
    "        feedback: Well...\n",
    "        \n",
    "        number of instances: 2"
   ]
  },
  {
   "cell_type": "markdown",
   "metadata": {},
   "source": [
    "Next, we need to define the classes referenced above (`A`, `B` and `C`)"
   ]
  },
  {
   "cell_type": "code",
   "execution_count": null,
   "metadata": {},
   "outputs": [],
   "source": [
    "class A(py2gift.question.NumericalQuestionGenerator):\n",
    "    \n",
    "    def setup(self, a: int, b:int):\n",
    "        \n",
    "        self.solution = 42\n",
    "        self.error =  '10%'\n",
    "\n",
    "class B(py2gift.question.MultipleChoiceQuestionGenerator):\n",
    "    \n",
    "    def __init__(\n",
    "        self, statement: py2gift.question.TemplatedLatexText, feedback: py2gift.question.TemplatedLatexText,\n",
    "        nodes: list,\n",
    "        time: Optional[int] = None, prng: np.random.RandomState = np.random.RandomState(42)) -> None:\n",
    "        \n",
    "        super().__init__(statement, feedback, time, prng)\n",
    "        \n",
    "        self.nodes = nodes\n",
    "    \n",
    "    \n",
    "    def setup(self, n:int):\n",
    "        \n",
    "        self.wrong_answers = [\n",
    "            ['yes', 50],\n",
    "            ['no', -50],\n",
    "            ['nope', -50],\n",
    "            ['yessss!!!', 50]\n",
    "        ]\n",
    "\n",
    "class C(py2gift.question.NumericalQuestionGenerator):\n",
    "    \n",
    "    def setup(self):\n",
    "        \n",
    "        self.solution = 52\n",
    "        self.error =  '10%'"
   ]
  },
  {
   "cell_type": "code",
   "execution_count": null,
   "metadata": {},
   "outputs": [
    {
     "data": {
      "text/plain": [
       "{'class': 'Numerical',\n",
       " 'statement': 'What is...',\n",
       " 'feedback': 'Well...',\n",
       " 'solution': {'value': 42, 'error': '10%'}}"
      ]
     },
     "execution_count": null,
     "metadata": {},
     "output_type": "execute_result"
    }
   ],
   "source": [
    "build_question(A, category_name='Category 1', settings=py2gift.util.yaml_to_dict(settings_file))"
   ]
  },
  {
   "cell_type": "code",
   "execution_count": null,
   "metadata": {},
   "outputs": [
    {
     "data": {
      "text/plain": [
       "{'class': 'Numerical',\n",
       " 'statement': 'What is...',\n",
       " 'feedback': 'Well...',\n",
       " 'solution': {'value': 52, 'error': '10%'}}"
      ]
     },
     "execution_count": null,
     "metadata": {},
     "output_type": "execute_result"
    }
   ],
   "source": [
    "build_question(C, category_name='Category 3', settings=py2gift.util.yaml_to_dict(settings_file))"
   ]
  },
  {
   "cell_type": "code",
   "execution_count": null,
   "metadata": {},
   "outputs": [],
   "source": [
    "# !rm {settings_file}"
   ]
  },
  {
   "cell_type": "markdown",
   "metadata": {},
   "source": [
    "## Previewing"
   ]
  },
  {
   "cell_type": "markdown",
   "metadata": {},
   "source": [
    "The settings of a question (in the form of a dictionary),"
   ]
  },
  {
   "cell_type": "code",
   "execution_count": null,
   "metadata": {},
   "outputs": [],
   "source": [
    "question_settings = {\n",
    "    'class': 'Numerical',\n",
    "    'statement': 'What is the value of $\\\\pi$?',\n",
    "    'solution': {'value': 3.14, 'error': '50%'},\n",
    "    'feedback': 'well, $\\\\pi$'\n",
    "}"
   ]
  },
  {
   "cell_type": "markdown",
   "metadata": {},
   "source": [
    ", can be turned into a markdown string by `py2gift.markdown.settings_to_markdown`"
   ]
  },
  {
   "cell_type": "code",
   "execution_count": null,
   "metadata": {},
   "outputs": [
    {
     "data": {
      "text/markdown": [
       "\n",
       "<span style=\"font-family:Papyrus; font-size:2em;\">Statement</span>\n",
       "\n",
       "What is the value of $\\Large \\pi$?\n",
       "\n",
       "\n",
       "<span style=\"font-family:Papyrus; font-size:2em;\">Feedback</span>\n",
       "\n",
       "\n",
       "\n",
       "well, $\\Large \\pi$\n",
       "\n",
       "<span style=\"font-family:Papyrus; font-size:2em;\">Solution</span>\n",
       "\n",
       " 3.14 (error: .57)\n"
      ],
      "text/plain": [
       "<IPython.core.display.Markdown object>"
      ]
     },
     "execution_count": null,
     "metadata": {},
     "output_type": "execute_result"
    }
   ],
   "source": [
    "py2gift.util.render_latex(py2gift.markdown.settings_to_markdown(question_settings))"
   ]
  },
  {
   "cell_type": "code",
   "execution_count": null,
   "metadata": {},
   "outputs": [],
   "source": [
    "# export\n",
    "def generator_to_markdown(\n",
    "    settings: Union[str, pathlib.Path, dict], category: str, cls: py2gift.question):\n",
    "    \"\"\"\n",
    "    Returns markdown text from a generator.\n",
    "\n",
    "\n",
    "    ***Parameters***\n",
    "    \n",
    "    - `settings`: str, Pathlib, dict\n",
    "        \n",
    "        The settings file or corresponding dictionary.\n",
    "    \n",
    "    - `category`: str\n",
    "        \n",
    "        The category of the question.\n",
    "    \n",
    "    - `cls`: py2gift.question.QuestionGenerator\n",
    "        \n",
    "        The class implementing the generator.\n",
    "\n",
    "    ***Returns***\n",
    "    \n",
    "    out: str\n",
    "        \n",
    "        Markdown text.\n",
    "\n",
    "    \"\"\"\n",
    "    \n",
    "    # if settings is the name of a file...\n",
    "    if type(settings) == str:\n",
    "        \n",
    "        settings = py2gift.util.yaml_to_dict(settings)\n",
    "    \n",
    "    else:\n",
    "        \n",
    "        assert type(settings) == dict\n",
    "\n",
    "    question_settings = build_question(cls, category, settings)\n",
    "\n",
    "    return py2gift.markdown.settings_to_markdown(question_settings)"
   ]
  },
  {
   "cell_type": "code",
   "execution_count": null,
   "metadata": {},
   "outputs": [
    {
     "data": {
      "text/markdown": [
       "\n",
       "<span style=\"font-family:Papyrus; font-size:2em;\">Statement</span>\n",
       "\n",
       "What is...\n",
       "\n",
       "\n",
       "<span style=\"font-family:Papyrus; font-size:2em;\">Feedback</span>\n",
       "\n",
       "\n",
       "\n",
       "Well...\n",
       "\n",
       "<span style=\"font-family:Papyrus; font-size:2em;\">Solution</span>\n",
       "\n",
       " 42 (error: .2)\n"
      ],
      "text/plain": [
       "<IPython.core.display.Markdown object>"
      ]
     },
     "execution_count": null,
     "metadata": {},
     "output_type": "execute_result"
    }
   ],
   "source": [
    "py2gift.util.render_latex(generator_to_markdown(settings_file, category='Category 1', cls=A))"
   ]
  },
  {
   "cell_type": "markdown",
   "metadata": {},
   "source": [
    "## Preprocessing tex files"
   ]
  },
  {
   "cell_type": "markdown",
   "metadata": {},
   "source": [
    "Function to turn a $\\TeX$ file into an svg. It returns a *markdown* string that allows to visualize it in a cell."
   ]
  },
  {
   "cell_type": "code",
   "execution_count": null,
   "metadata": {},
   "outputs": [],
   "source": [
    "# export\n",
    "def latex_to_markdown(input_file: Union[str, pathlib.Path], delete_input_file_afterwards: bool = False) -> str:\n",
    "    \"\"\"\n",
    "    Returns markdown text that shows the result of compiling a TeX file.\n",
    "\n",
    "\n",
    "    ***Parameters***\n",
    "    \n",
    "    - `input_file`: str, Pathlib\n",
    "        \n",
    "        The TeX file.\n",
    "    \n",
    "    - `delete_input_file_afterwards`: bool\n",
    "        \n",
    "        If True the TeX file is deleted after conversion to svg.\n",
    "\n",
    "    ***Returns***\n",
    "    \n",
    "    - `out`: str\n",
    "        \n",
    "        Markdown text.\n",
    "\n",
    "    \"\"\"\n",
    "    \n",
    "    output_file = gift_wrapper.image.pdf_to_svg(gift_wrapper.image.tex_to_pdf(input_file))\n",
    "    \n",
    "    suffixes = ['.aux', '.log', '.pdf']\n",
    "    \n",
    "    if delete_input_file_afterwards:\n",
    "        \n",
    "        suffixes.append('.tex')\n",
    "    \n",
    "    for suffix in suffixes:\n",
    "        \n",
    "        file_to_delete = output_file.with_suffix(suffix)\n",
    "        \n",
    "        if file_to_delete.exists():\n",
    "        \n",
    "            file_to_delete.unlink()\n",
    "    \n",
    "    return r'![](' + output_file.as_posix() + ')'"
   ]
  },
  {
   "cell_type": "markdown",
   "metadata": {},
   "source": [
    "A sample $\\TeX$ file,"
   ]
  },
  {
   "cell_type": "code",
   "execution_count": null,
   "metadata": {},
   "outputs": [],
   "source": [
    "tex_file = '_sample.tex'"
   ]
  },
  {
   "cell_type": "markdown",
   "metadata": {},
   "source": [
    ", is written"
   ]
  },
  {
   "cell_type": "code",
   "execution_count": null,
   "metadata": {},
   "outputs": [
    {
     "name": "stdout",
     "output_type": "stream",
     "text": [
      "Overwriting _sample.tex\n"
     ]
    }
   ],
   "source": [
    "%%writefile {tex_file}\n",
    "\\documentclass[]{standalone}\n",
    "\n",
    "\\usepackage[utf8]{inputenc}\n",
    "\n",
    "\\usepackage{tikz}\n",
    "\n",
    "\n",
    "\\begin{document}\n",
    "\n",
    "\\begin{tikzpicture}\n",
    "    \\node[draw, text width=60, align=center,font=\\small,minimum height=80] {The Ingenious Gentleman Don Quixote of La Mancha};\n",
    "\\end{tikzpicture}\n",
    "\n",
    "\\end{document}"
   ]
  },
  {
   "cell_type": "markdown",
   "metadata": {},
   "source": [
    "However, you can only run the cell below if you have a $\\LaTeX$ installation with *TikZ*"
   ]
  },
  {
   "cell_type": "code",
   "execution_count": null,
   "metadata": {},
   "outputs": [],
   "source": [
    "#py2gift.util.render_latex(latex_to_markdown(tex_file, delete_input_file_afterwards=True))"
   ]
  },
  {
   "cell_type": "code",
   "execution_count": null,
   "metadata": {},
   "outputs": [
    {
     "name": "stdout",
     "output_type": "stream",
     "text": [
      "Converted 00_core.ipynb.\n"
     ]
    }
   ],
   "source": [
    "# hide\n",
    "import nbdev.export\n",
    "nbdev.export.notebook2script('00_core.ipynb')"
   ]
  }
 ],
 "metadata": {
  "kernelspec": {
   "display_name": "Python 3",
   "language": "python",
   "name": "python3"
  }
 },
 "nbformat": 4,
 "nbformat_minor": 4
}
